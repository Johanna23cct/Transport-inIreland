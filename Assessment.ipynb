{
 "cells": [
  {
   "cell_type": "code",
   "execution_count": 1,
   "id": "ee649f87",
   "metadata": {},
   "outputs": [],
   "source": [
    "## Assessment 8th of May 2024 at 23:55 Transport in Ireland"
   ]
  },
  {
   "cell_type": "markdown",
   "id": "986c84bd",
   "metadata": {},
   "source": [
    "# MSc in Data Analytics \n",
    "## Statistics for Data Analysis"
   ]
  },
  {
   "cell_type": "code",
   "execution_count": 2,
   "id": "41e2a69d",
   "metadata": {},
   "outputs": [],
   "source": [
    "# Importing some libraries:\n",
    "import pandas as pd\n",
    "import statistics as stats\n",
    "import numpy as np\n",
    "import csv\n",
    "# import some libraries for Visualising the price variable:\n",
    "import seaborn as sns\n",
    "import matplotlib.pyplot as plt\n",
    "\n",
    "\n"
   ]
  },
  {
   "cell_type": "code",
   "execution_count": 3,
   "id": "739be41b",
   "metadata": {},
   "outputs": [],
   "source": [
    "# Importing the dataset: *THA21 - Average weekly volume of cars for selected traffic count sites*\n",
    "# Read the CSV file\n",
    "Datasets = pd.read_csv('THA21.20240419152559 (1).csv')"
   ]
  },
  {
   "cell_type": "code",
   "execution_count": 4,
   "id": "5e420940",
   "metadata": {},
   "outputs": [
    {
     "data": {
      "text/html": [
       "<div>\n",
       "<style scoped>\n",
       "    .dataframe tbody tr th:only-of-type {\n",
       "        vertical-align: middle;\n",
       "    }\n",
       "\n",
       "    .dataframe tbody tr th {\n",
       "        vertical-align: top;\n",
       "    }\n",
       "\n",
       "    .dataframe thead th {\n",
       "        text-align: right;\n",
       "    }\n",
       "</style>\n",
       "<table border=\"1\" class=\"dataframe\">\n",
       "  <thead>\n",
       "    <tr style=\"text-align: right;\">\n",
       "      <th></th>\n",
       "      <th>STATISTIC</th>\n",
       "      <th>Statistic Label</th>\n",
       "      <th>TLIST(W1)</th>\n",
       "      <th>Year</th>\n",
       "      <th>C03910V04662</th>\n",
       "      <th>Transport Traffic Site</th>\n",
       "      <th>C01198V01436</th>\n",
       "      <th>Weeks of the year</th>\n",
       "      <th>UNIT</th>\n",
       "      <th>VALUE</th>\n",
       "    </tr>\n",
       "  </thead>\n",
       "  <tbody>\n",
       "    <tr>\n",
       "      <th>0</th>\n",
       "      <td>THA21C01</td>\n",
       "      <td>Average weekly volume of cars</td>\n",
       "      <td>2019</td>\n",
       "      <td>2019</td>\n",
       "      <td>10</td>\n",
       "      <td>Selected traffic sites - Dublin</td>\n",
       "      <td>1</td>\n",
       "      <td>Week 01</td>\n",
       "      <td>Number</td>\n",
       "      <td>463064.0</td>\n",
       "    </tr>\n",
       "    <tr>\n",
       "      <th>1</th>\n",
       "      <td>THA21C01</td>\n",
       "      <td>Average weekly volume of cars</td>\n",
       "      <td>2019</td>\n",
       "      <td>2019</td>\n",
       "      <td>10</td>\n",
       "      <td>Selected traffic sites - Dublin</td>\n",
       "      <td>2</td>\n",
       "      <td>Week 02</td>\n",
       "      <td>Number</td>\n",
       "      <td>534609.0</td>\n",
       "    </tr>\n",
       "    <tr>\n",
       "      <th>2</th>\n",
       "      <td>THA21C01</td>\n",
       "      <td>Average weekly volume of cars</td>\n",
       "      <td>2019</td>\n",
       "      <td>2019</td>\n",
       "      <td>10</td>\n",
       "      <td>Selected traffic sites - Dublin</td>\n",
       "      <td>3</td>\n",
       "      <td>Week 03</td>\n",
       "      <td>Number</td>\n",
       "      <td>549470.0</td>\n",
       "    </tr>\n",
       "    <tr>\n",
       "      <th>3</th>\n",
       "      <td>THA21C01</td>\n",
       "      <td>Average weekly volume of cars</td>\n",
       "      <td>2019</td>\n",
       "      <td>2019</td>\n",
       "      <td>10</td>\n",
       "      <td>Selected traffic sites - Dublin</td>\n",
       "      <td>4</td>\n",
       "      <td>Week 04</td>\n",
       "      <td>Number</td>\n",
       "      <td>550892.0</td>\n",
       "    </tr>\n",
       "    <tr>\n",
       "      <th>4</th>\n",
       "      <td>THA21C01</td>\n",
       "      <td>Average weekly volume of cars</td>\n",
       "      <td>2019</td>\n",
       "      <td>2019</td>\n",
       "      <td>10</td>\n",
       "      <td>Selected traffic sites - Dublin</td>\n",
       "      <td>5</td>\n",
       "      <td>Week 05</td>\n",
       "      <td>Number</td>\n",
       "      <td>543468.0</td>\n",
       "    </tr>\n",
       "  </tbody>\n",
       "</table>\n",
       "</div>"
      ],
      "text/plain": [
       "  STATISTIC                Statistic Label  TLIST(W1)  Year  C03910V04662  \\\n",
       "0  THA21C01  Average weekly volume of cars       2019  2019            10   \n",
       "1  THA21C01  Average weekly volume of cars       2019  2019            10   \n",
       "2  THA21C01  Average weekly volume of cars       2019  2019            10   \n",
       "3  THA21C01  Average weekly volume of cars       2019  2019            10   \n",
       "4  THA21C01  Average weekly volume of cars       2019  2019            10   \n",
       "\n",
       "            Transport Traffic Site  C01198V01436 Weeks of the year    UNIT  \\\n",
       "0  Selected traffic sites - Dublin             1           Week 01  Number   \n",
       "1  Selected traffic sites - Dublin             2           Week 02  Number   \n",
       "2  Selected traffic sites - Dublin             3           Week 03  Number   \n",
       "3  Selected traffic sites - Dublin             4           Week 04  Number   \n",
       "4  Selected traffic sites - Dublin             5           Week 05  Number   \n",
       "\n",
       "      VALUE  \n",
       "0  463064.0  \n",
       "1  534609.0  \n",
       "2  549470.0  \n",
       "3  550892.0  \n",
       "4  543468.0  "
      ]
     },
     "execution_count": 4,
     "metadata": {},
     "output_type": "execute_result"
    }
   ],
   "source": [
    "# Look at the top of the dataset:\n",
    "Datasets.head()"
   ]
  },
  {
   "cell_type": "code",
   "execution_count": null,
   "id": "f651f735",
   "metadata": {},
   "outputs": [],
   "source": [
    "print(home.describe())"
   ]
  },
  {
   "cell_type": "code",
   "execution_count": null,
   "id": "e8d5acb5",
   "metadata": {},
   "outputs": [],
   "source": []
  }
 ],
 "metadata": {
  "kernelspec": {
   "display_name": "Python 3 (ipykernel)",
   "language": "python",
   "name": "python3"
  },
  "language_info": {
   "codemirror_mode": {
    "name": "ipython",
    "version": 3
   },
   "file_extension": ".py",
   "mimetype": "text/x-python",
   "name": "python",
   "nbconvert_exporter": "python",
   "pygments_lexer": "ipython3",
   "version": "3.11.5"
  }
 },
 "nbformat": 4,
 "nbformat_minor": 5
}
