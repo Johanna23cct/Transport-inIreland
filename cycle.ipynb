{
 "cells": [
  {
   "cell_type": "markdown",
   "id": "11e8d3f6",
   "metadata": {},
   "source": [
    "\n",
    "\n",
    "\n",
    "#  Task 1 Introduction : Transportation,  Cycle Infrastructure by Length\n",
    "\n",
    "**Greater Dublin Area Cycle Infrastructure in Ireland **\n",
    "\n",
    "**To IRELAND used file: dublin_bikelife_210817.csv; Dataframe dfIE**\n",
    "\n",
    "https://data.gov.ie/dataset/greater-dublin-area-cycle-infrastructure-nta\n",
    "This dataset contains cycle infrastructure in the Greater Dublin Area (GDA). Data stems from work undertaken on behalf of the NTA to:\n",
    "re-categorise the 2013 street survey with infrastructure types: segregated cycle track, bus lane with cycle lane, etc.\n",
    "include links inputted by the NTA in the course of developing and maintaining the journey planner\n",
    "include NTA funded completed cycle infrastructure 2013-2021\n",
    "\n",
    "Licensed under: Creative Commons Attribution 4.0\n",
    "\n",
    "data.gov.ie\n",
    "--------------------------------\n",
    "\n",
    "------------------------------\n",
    "\n",
    "**Cycle Facility Network in NZ**\n",
    "\n",
    "**To NEWZELAND used file: Cycle_Facility_Network.CSV; Dataframe dfNZ  **\n",
    "\n",
    "https://catalogue.data.govt.nz/dataset/cycle-facility-network3/resource/b1219489-860d-4017-8328-abf1db6e91f1\n",
    "The Auckland Cycle Network (ACN) provides a plan for the development of and investment in a comprehensive \n",
    "cycle network for the region.\n",
    "\n",
    "Licensed under: CC-BY 4.0 International licence details\n",
    "\n",
    "data.govt.nz\n",
    "------------\n",
    "\n",
    "---------------------------\n",
    "\n",
    "Backup in GITHUB LINK: https://github.com/Johanna23cct/-Users-of-Cars-Involved-in-Fatal-and-Injury-Collisions.git\n"
   ]
  },
  {
   "cell_type": "markdown",
   "id": "7a411e0b",
   "metadata": {},
   "source": [
    "#  Task 2 Setup and imports libraries"
   ]
  },
  {
   "cell_type": "code",
   "execution_count": 1,
   "id": "b42293ff",
   "metadata": {},
   "outputs": [],
   "source": [
    "# Importing some libraries:\n",
    "import pandas as pd\n",
    "import statistics as stats\n",
    "import numpy as np\n",
    "import csv\n",
    "\n",
    "# import some libraries for Visualising the price variable:\n",
    "import seaborn as sns\n",
    "import matplotlib.pyplot as plt\n",
    "import matplotlib.image as mpimg\n",
    "%matplotlib inline\n",
    "plt.style.use('ggplot')\n",
    "\n",
    "\n",
    "\n",
    "# Import the library for normalization of the data\n",
    "from sklearn.preprocessing import StandardScaler\n",
    "from sklearn import datasets\n",
    "from sklearn.linear_model import LinearRegression\n",
    "from sklearn.model_selection import train_test_split\n",
    "from sklearn.datasets import load_iris\n",
    "from sklearn.neighbors import KNeighborsClassifier\n",
    "from sklearn.metrics import accuracy_score\n",
    "from sklearn.metrics import mean_squared_error\n",
    "data = load_iris()\n",
    "X_train, X_test, y_train, y_test = train_test_split(data.data, data.target, test_size=0.2, random_state=42)\n",
    "from sklearn.tree import DecisionTreeRegressor\n",
    "\n",
    "# Import Some libraries for Sentimet Analysis \n",
    "import nltk\n",
    "from nltk.sentiment import SentimentIntensityAnalyzer\n",
    "from tqdm.notebook import tqdm\n",
    "\n"
   ]
  },
  {
   "cell_type": "code",
   "execution_count": 2,
   "id": "50186252",
   "metadata": {},
   "outputs": [
    {
     "data": {
      "text/plain": [
       "'2.0.3'"
      ]
     },
     "execution_count": 2,
     "metadata": {},
     "output_type": "execute_result"
    }
   ],
   "source": [
    "pd.__version__"
   ]
  },
  {
   "cell_type": "code",
   "execution_count": 3,
   "id": "552d7c65",
   "metadata": {},
   "outputs": [
    {
     "name": "stdout",
     "output_type": "stream",
     "text": [
      "Python 3.11.5\n"
     ]
    }
   ],
   "source": [
    "!python --version"
   ]
  },
  {
   "cell_type": "code",
   "execution_count": 4,
   "id": "3ea32211",
   "metadata": {},
   "outputs": [],
   "source": [
    "# pd.show_versions()"
   ]
  },
  {
   "cell_type": "markdown",
   "id": "9eb72bcc",
   "metadata": {},
   "source": [
    "#  Task 3 importing data and EDA\n",
    "Read data from csv.\n",
    "Shape. \n",
    "Drop unnecessary columns. \n",
    "add sentiment.\n",
    "Calculation of Polarity summary statistics Descriptive"
   ]
  },
  {
   "cell_type": "code",
   "execution_count": 5,
   "id": "79b7d9b2",
   "metadata": {},
   "outputs": [],
   "source": [
    "imgIE = mpimg.imread('IE.png')\n",
    "imgNZ = mpimg.imread('NZ.png')"
   ]
  },
  {
   "cell_type": "code",
   "execution_count": 6,
   "id": "e8cb35be",
   "metadata": {},
   "outputs": [
    {
     "data": {
      "image/png": "[encoded data removed]",
      "text/plain": [
       "<Figure size 640x480 with 1 Axes>"
      ]
     },
     "metadata": {},
     "output_type": "display_data"
    }
   ],
   "source": [
    "plt.imshow(imgIE)\n",
    "plt.axis('off')  # Dataframe dfIE\n",
    "plt.show()"
   ]
  },
  {
   "cell_type": "code",
   "execution_count": 7,
   "id": "9a17f51c",
   "metadata": {},
   "outputs": [
    {
     "data": {
      "text/html": [
       "<div>\n",
       "<style scoped>\n",
       "    .dataframe tbody tr th:only-of-type {\n",
       "        vertical-align: middle;\n",
       "    }\n",
       "\n",
       "    .dataframe tbody tr th {\n",
       "        vertical-align: top;\n",
       "    }\n",
       "\n",
       "    .dataframe thead th {\n",
       "        text-align: right;\n",
       "    }\n",
       "</style>\n",
       "<table border=\"1\" class=\"dataframe\">\n",
       "  <thead>\n",
       "    <tr style=\"text-align: right;\">\n",
       "      <th></th>\n",
       "      <th>Route_No</th>\n",
       "      <th>Comments_1</th>\n",
       "      <th>Shape_Leng</th>\n",
       "      <th>cdo</th>\n",
       "      <th>twoway</th>\n",
       "      <th>sruface_ch</th>\n",
       "      <th>bollardpro</th>\n",
       "      <th>temporary</th>\n",
       "      <th>mandatory</th>\n",
       "      <th>width</th>\n",
       "      <th>...</th>\n",
       "      <th>trafficfre</th>\n",
       "      <th>signedrout</th>\n",
       "      <th>oneside</th>\n",
       "      <th>twoway_sin</th>\n",
       "      <th>oneplus</th>\n",
       "      <th>review</th>\n",
       "      <th>difference</th>\n",
       "      <th>gid</th>\n",
       "      <th>MERGE_SRC</th>\n",
       "      <th>Shape_Le_1</th>\n",
       "    </tr>\n",
       "  </thead>\n",
       "  <tbody>\n",
       "    <tr>\n",
       "      <th>0</th>\n",
       "      <td>1-1</td>\n",
       "      <td>NaN</td>\n",
       "      <td>172.522128</td>\n",
       "      <td>SegregatedCycleLane</td>\n",
       "      <td>0</td>\n",
       "      <td>0</td>\n",
       "      <td>1</td>\n",
       "      <td>0</td>\n",
       "      <td>1</td>\n",
       "      <td>1.2</td>\n",
       "      <td>...</td>\n",
       "      <td>0</td>\n",
       "      <td>0</td>\n",
       "      <td>0</td>\n",
       "      <td>0</td>\n",
       "      <td>0</td>\n",
       "      <td>0</td>\n",
       "      <td>0</td>\n",
       "      <td>0</td>\n",
       "      <td>Dublin_BikeLife_210813_Jacobs</td>\n",
       "      <td>172.522128</td>\n",
       "    </tr>\n",
       "    <tr>\n",
       "      <th>1</th>\n",
       "      <td>1-2</td>\n",
       "      <td>NaN</td>\n",
       "      <td>261.891707</td>\n",
       "      <td>SegregatedCycleLane</td>\n",
       "      <td>1</td>\n",
       "      <td>0</td>\n",
       "      <td>1</td>\n",
       "      <td>0</td>\n",
       "      <td>1</td>\n",
       "      <td>3.7</td>\n",
       "      <td>...</td>\n",
       "      <td>0</td>\n",
       "      <td>0</td>\n",
       "      <td>0</td>\n",
       "      <td>0</td>\n",
       "      <td>0</td>\n",
       "      <td>0</td>\n",
       "      <td>0</td>\n",
       "      <td>0</td>\n",
       "      <td>Dublin_BikeLife_210813_Jacobs</td>\n",
       "      <td>261.891707</td>\n",
       "    </tr>\n",
       "    <tr>\n",
       "      <th>2</th>\n",
       "      <td>1-3</td>\n",
       "      <td>NaN</td>\n",
       "      <td>108.076912</td>\n",
       "      <td>CycleLane</td>\n",
       "      <td>0</td>\n",
       "      <td>0</td>\n",
       "      <td>0</td>\n",
       "      <td>0</td>\n",
       "      <td>1</td>\n",
       "      <td>1.9</td>\n",
       "      <td>...</td>\n",
       "      <td>0</td>\n",
       "      <td>0</td>\n",
       "      <td>0</td>\n",
       "      <td>0</td>\n",
       "      <td>0</td>\n",
       "      <td>0</td>\n",
       "      <td>0</td>\n",
       "      <td>0</td>\n",
       "      <td>Dublin_BikeLife_210813_Jacobs</td>\n",
       "      <td>108.076912</td>\n",
       "    </tr>\n",
       "    <tr>\n",
       "      <th>3</th>\n",
       "      <td>1-4</td>\n",
       "      <td>NaN</td>\n",
       "      <td>78.613318</td>\n",
       "      <td>SegregatedCycleLane</td>\n",
       "      <td>0</td>\n",
       "      <td>0</td>\n",
       "      <td>1</td>\n",
       "      <td>0</td>\n",
       "      <td>1</td>\n",
       "      <td>1.9</td>\n",
       "      <td>...</td>\n",
       "      <td>0</td>\n",
       "      <td>0</td>\n",
       "      <td>0</td>\n",
       "      <td>0</td>\n",
       "      <td>0</td>\n",
       "      <td>0</td>\n",
       "      <td>0</td>\n",
       "      <td>0</td>\n",
       "      <td>Dublin_BikeLife_210813_Jacobs</td>\n",
       "      <td>78.613318</td>\n",
       "    </tr>\n",
       "    <tr>\n",
       "      <th>4</th>\n",
       "      <td>1-5</td>\n",
       "      <td>NaN</td>\n",
       "      <td>141.048015</td>\n",
       "      <td>BusLane</td>\n",
       "      <td>0</td>\n",
       "      <td>0</td>\n",
       "      <td>0</td>\n",
       "      <td>0</td>\n",
       "      <td>0</td>\n",
       "      <td>3.7</td>\n",
       "      <td>...</td>\n",
       "      <td>0</td>\n",
       "      <td>0</td>\n",
       "      <td>0</td>\n",
       "      <td>0</td>\n",
       "      <td>0</td>\n",
       "      <td>0</td>\n",
       "      <td>0</td>\n",
       "      <td>0</td>\n",
       "      <td>Dublin_BikeLife_210813_Jacobs</td>\n",
       "      <td>141.048015</td>\n",
       "    </tr>\n",
       "  </tbody>\n",
       "</table>\n",
       "<p>5 rows × 29 columns</p>\n",
       "</div>"
      ],
      "text/plain": [
       "  Route_No Comments_1  Shape_Leng                  cdo  twoway  sruface_ch  \\\n",
       "0      1-1        NaN  172.522128  SegregatedCycleLane       0           0   \n",
       "1      1-2        NaN  261.891707  SegregatedCycleLane       1           0   \n",
       "2      1-3        NaN  108.076912            CycleLane       0           0   \n",
       "3      1-4        NaN   78.613318  SegregatedCycleLane       0           0   \n",
       "4      1-5        NaN  141.048015              BusLane       0           0   \n",
       "\n",
       "   bollardpro  temporary  mandatory  width  ...  trafficfre  signedrout  \\\n",
       "0           1          0          1    1.2  ...           0           0   \n",
       "1           1          0          1    3.7  ...           0           0   \n",
       "2           0          0          1    1.9  ...           0           0   \n",
       "3           1          0          1    1.9  ...           0           0   \n",
       "4           0          0          0    3.7  ...           0           0   \n",
       "\n",
       "   oneside twoway_sin oneplus review  difference  gid  \\\n",
       "0        0          0       0      0           0    0   \n",
       "1        0          0       0      0           0    0   \n",
       "2        0          0       0      0           0    0   \n",
       "3        0          0       0      0           0    0   \n",
       "4        0          0       0      0           0    0   \n",
       "\n",
       "                       MERGE_SRC  Shape_Le_1  \n",
       "0  Dublin_BikeLife_210813_Jacobs  172.522128  \n",
       "1  Dublin_BikeLife_210813_Jacobs  261.891707  \n",
       "2  Dublin_BikeLife_210813_Jacobs  108.076912  \n",
       "3  Dublin_BikeLife_210813_Jacobs   78.613318  \n",
       "4  Dublin_BikeLife_210813_Jacobs  141.048015  \n",
       "\n",
       "[5 rows x 29 columns]"
      ]
     },
     "execution_count": 7,
     "metadata": {},
     "output_type": "execute_result"
    }
   ],
   "source": [
    "dfIE = pd.read_csv('dublin_bikelife_210817.csv')\n",
    "dfIE.head()\n"
   ]
  },
  {
   "cell_type": "code",
   "execution_count": 8,
   "id": "4b9893cb",
   "metadata": {
    "scrolled": true
   },
   "outputs": [
    {
     "data": {
      "text/html": [
       "<div>\n",
       "<style scoped>\n",
       "    .dataframe tbody tr th:only-of-type {\n",
       "        vertical-align: middle;\n",
       "    }\n",
       "\n",
       "    .dataframe tbody tr th {\n",
       "        vertical-align: top;\n",
       "    }\n",
       "\n",
       "    .dataframe thead th {\n",
       "        text-align: right;\n",
       "    }\n",
       "</style>\n",
       "<table border=\"1\" class=\"dataframe\">\n",
       "  <thead>\n",
       "    <tr style=\"text-align: right;\">\n",
       "      <th></th>\n",
       "      <th>Route_No</th>\n",
       "      <th>cdo</th>\n",
       "      <th>MERGE_SRC</th>\n",
       "      <th>Shape_Le_1</th>\n",
       "    </tr>\n",
       "  </thead>\n",
       "  <tbody>\n",
       "    <tr>\n",
       "      <th>0</th>\n",
       "      <td>1-1</td>\n",
       "      <td>SegregatedCycleLane</td>\n",
       "      <td>Dublin_BikeLife_210813_Jacobs</td>\n",
       "      <td>172.522128</td>\n",
       "    </tr>\n",
       "    <tr>\n",
       "      <th>1</th>\n",
       "      <td>1-2</td>\n",
       "      <td>SegregatedCycleLane</td>\n",
       "      <td>Dublin_BikeLife_210813_Jacobs</td>\n",
       "      <td>261.891707</td>\n",
       "    </tr>\n",
       "    <tr>\n",
       "      <th>2</th>\n",
       "      <td>1-3</td>\n",
       "      <td>CycleLane</td>\n",
       "      <td>Dublin_BikeLife_210813_Jacobs</td>\n",
       "      <td>108.076912</td>\n",
       "    </tr>\n",
       "    <tr>\n",
       "      <th>3</th>\n",
       "      <td>1-4</td>\n",
       "      <td>SegregatedCycleLane</td>\n",
       "      <td>Dublin_BikeLife_210813_Jacobs</td>\n",
       "      <td>78.613318</td>\n",
       "    </tr>\n",
       "    <tr>\n",
       "      <th>4</th>\n",
       "      <td>1-5</td>\n",
       "      <td>BusLane</td>\n",
       "      <td>Dublin_BikeLife_210813_Jacobs</td>\n",
       "      <td>141.048015</td>\n",
       "    </tr>\n",
       "  </tbody>\n",
       "</table>\n",
       "</div>"
      ],
      "text/plain": [
       "  Route_No                  cdo                      MERGE_SRC  Shape_Le_1\n",
       "0      1-1  SegregatedCycleLane  Dublin_BikeLife_210813_Jacobs  172.522128\n",
       "1      1-2  SegregatedCycleLane  Dublin_BikeLife_210813_Jacobs  261.891707\n",
       "2      1-3            CycleLane  Dublin_BikeLife_210813_Jacobs  108.076912\n",
       "3      1-4  SegregatedCycleLane  Dublin_BikeLife_210813_Jacobs   78.613318\n",
       "4      1-5              BusLane  Dublin_BikeLife_210813_Jacobs  141.048015"
      ]
     },
     "execution_count": 8,
     "metadata": {},
     "output_type": "execute_result"
    }
   ],
   "source": [
    "# To Drop one duplicate row TLIST(A1)\tYear\n",
    "to_drop = ['Comments_1', 'Shape_Leng', 'twoway', 'sruface_ch', 'bollardpro', 'temporary', 'mandatory', 'width', 'trafficfre', 'signedrout', 'oneside', 'twoway_sin', 'oneplus', 'review', 'difference', 'gid', 'surface_ch', 'buslane', 'OBJECTID', 'datasource', 'classifica', 'classifi_1', 'cyclelane', 'shareduse', 'segregated' ]\n",
    "dfIE.drop(columns=to_drop, inplace=True)\n",
    "dfIE.head()"
   ]
  },
  {
   "cell_type": "code",
   "execution_count": 9,
   "id": "cdd9d69f",
   "metadata": {},
   "outputs": [
    {
     "name": "stdout",
     "output_type": "stream",
     "text": [
      "<class 'pandas.core.frame.DataFrame'>\n",
      "RangeIndex: 5636 entries, 0 to 5635\n",
      "Data columns (total 4 columns):\n",
      " #   Column      Non-Null Count  Dtype  \n",
      "---  ------      --------------  -----  \n",
      " 0   Route_No    280 non-null    object \n",
      " 1   cdo         288 non-null    object \n",
      " 2   MERGE_SRC   5636 non-null   object \n",
      " 3   Shape_Le_1  5636 non-null   float64\n",
      "dtypes: float64(1), object(3)\n",
      "memory usage: 1.0 MB\n"
     ]
    }
   ],
   "source": [
    "dfIE.info(memory_usage='deep')"
   ]
  },
  {
   "cell_type": "code",
   "execution_count": 10,
   "id": "428059eb",
   "metadata": {},
   "outputs": [
    {
     "name": "stdout",
     "output_type": "stream",
     "text": [
      "<class 'pandas.core.frame.DataFrame'>\n",
      "RangeIndex: 5636 entries, 0 to 5635\n",
      "Data columns (total 2 columns):\n",
      " #   Column      Non-Null Count  Dtype  \n",
      "---  ------      --------------  -----  \n",
      " 0   cdo         288 non-null    object \n",
      " 1   Shape_Le_1  5636 non-null   float64\n",
      "dtypes: float64(1), object(1)\n",
      "memory usage: 231.0 KB\n"
     ]
    }
   ],
   "source": [
    "# Define the columns  to read from the CSV file IRALAND\n",
    "cols = ['cdo', 'Shape_Le_1']\n",
    "\n",
    "# Read the CSV file into a DataFrame\n",
    "small_dfIE = pd.read_csv('dublin_bikelife_210817.csv', usecols=cols)\n",
    "\n",
    "# Print the summary information of the DataFrame\n",
    "small_dfIE.info(memory_usage=\"deep\")"
   ]
  },
  {
   "cell_type": "code",
   "execution_count": 11,
   "id": "4c6eab05",
   "metadata": {},
   "outputs": [
    {
     "name": "stdout",
     "output_type": "stream",
     "text": [
      "<class 'pandas.core.frame.DataFrame'>\n",
      "RangeIndex: 5636 entries, 0 to 5635\n",
      "Data columns (total 4 columns):\n",
      " #   Column      Non-Null Count  Dtype  \n",
      "---  ------      --------------  -----  \n",
      " 0   Route_No    280 non-null    object \n",
      " 1   cdo         288 non-null    object \n",
      " 2   MERGE_SRC   5636 non-null   object \n",
      " 3   Shape_Le_1  5636 non-null   float64\n",
      "dtypes: float64(1), object(3)\n",
      "memory usage: 176.3+ KB\n"
     ]
    }
   ],
   "source": [
    "dfIE.info()"
   ]
  },
  {
   "cell_type": "code",
   "execution_count": 12,
   "id": "c134c04c",
   "metadata": {},
   "outputs": [
    {
     "data": {
      "text/html": [
       "<div>\n",
       "<style scoped>\n",
       "    .dataframe tbody tr th:only-of-type {\n",
       "        vertical-align: middle;\n",
       "    }\n",
       "\n",
       "    .dataframe tbody tr th {\n",
       "        vertical-align: top;\n",
       "    }\n",
       "\n",
       "    .dataframe thead th {\n",
       "        text-align: right;\n",
       "    }\n",
       "</style>\n",
       "<table border=\"1\" class=\"dataframe\">\n",
       "  <thead>\n",
       "    <tr style=\"text-align: right;\">\n",
       "      <th></th>\n",
       "      <th>Route_No</th>\n",
       "      <th>TYPEOFFACILITY</th>\n",
       "      <th>MERGE_SRC</th>\n",
       "      <th>Shape__Length IE</th>\n",
       "    </tr>\n",
       "  </thead>\n",
       "  <tbody>\n",
       "    <tr>\n",
       "      <th>0</th>\n",
       "      <td>1-1</td>\n",
       "      <td>SegregatedCycleLane</td>\n",
       "      <td>Dublin_BikeLife_210813_Jacobs</td>\n",
       "      <td>172.522128</td>\n",
       "    </tr>\n",
       "    <tr>\n",
       "      <th>1</th>\n",
       "      <td>1-2</td>\n",
       "      <td>SegregatedCycleLane</td>\n",
       "      <td>Dublin_BikeLife_210813_Jacobs</td>\n",
       "      <td>261.891707</td>\n",
       "    </tr>\n",
       "    <tr>\n",
       "      <th>2</th>\n",
       "      <td>1-3</td>\n",
       "      <td>CycleLane</td>\n",
       "      <td>Dublin_BikeLife_210813_Jacobs</td>\n",
       "      <td>108.076912</td>\n",
       "    </tr>\n",
       "    <tr>\n",
       "      <th>3</th>\n",
       "      <td>1-4</td>\n",
       "      <td>SegregatedCycleLane</td>\n",
       "      <td>Dublin_BikeLife_210813_Jacobs</td>\n",
       "      <td>78.613318</td>\n",
       "    </tr>\n",
       "    <tr>\n",
       "      <th>4</th>\n",
       "      <td>1-5</td>\n",
       "      <td>BusLane</td>\n",
       "      <td>Dublin_BikeLife_210813_Jacobs</td>\n",
       "      <td>141.048015</td>\n",
       "    </tr>\n",
       "  </tbody>\n",
       "</table>\n",
       "</div>"
      ],
      "text/plain": [
       "  Route_No       TYPEOFFACILITY                      MERGE_SRC  \\\n",
       "0      1-1  SegregatedCycleLane  Dublin_BikeLife_210813_Jacobs   \n",
       "1      1-2  SegregatedCycleLane  Dublin_BikeLife_210813_Jacobs   \n",
       "2      1-3            CycleLane  Dublin_BikeLife_210813_Jacobs   \n",
       "3      1-4  SegregatedCycleLane  Dublin_BikeLife_210813_Jacobs   \n",
       "4      1-5              BusLane  Dublin_BikeLife_210813_Jacobs   \n",
       "\n",
       "   Shape__Length IE  \n",
       "0        172.522128  \n",
       "1        261.891707  \n",
       "2        108.076912  \n",
       "3         78.613318  \n",
       "4        141.048015  "
      ]
     },
     "execution_count": 12,
     "metadata": {},
     "output_type": "execute_result"
    }
   ],
   "source": [
    "dfIE.rename(columns={'Shape_Le_1': 'Shape__Length IE'}, inplace=True)\n",
    "dfIE.rename(columns={'cdo': 'TYPEOFFACILITY'}, inplace=True)\n",
    "dfIE.head()"
   ]
  },
  {
   "cell_type": "code",
   "execution_count": 13,
   "id": "abb5821e",
   "metadata": {},
   "outputs": [
    {
     "data": {
      "image/png": "[encoded data removed]",
      "text/plain": [
       "<Figure size 640x480 with 1 Axes>"
      ]
     },
     "metadata": {},
     "output_type": "display_data"
    }
   ],
   "source": [
    "plt.imshow(imgNZ)\n",
    "plt.axis('off')  #Dataframe dfNZ  \n",
    "plt.show()"
   ]
  },
  {
   "cell_type": "code",
   "execution_count": 14,
   "id": "bad24663",
   "metadata": {
    "scrolled": true
   },
   "outputs": [
    {
     "data": {
      "text/html": [
       "<div>\n",
       "<style scoped>\n",
       "    .dataframe tbody tr th:only-of-type {\n",
       "        vertical-align: middle;\n",
       "    }\n",
       "\n",
       "    .dataframe tbody tr th {\n",
       "        vertical-align: top;\n",
       "    }\n",
       "\n",
       "    .dataframe thead th {\n",
       "        text-align: right;\n",
       "    }\n",
       "</style>\n",
       "<table border=\"1\" class=\"dataframe\">\n",
       "  <thead>\n",
       "    <tr style=\"text-align: right;\">\n",
       "      <th></th>\n",
       "      <th>OBJECTID</th>\n",
       "      <th>IDENTIFIER</th>\n",
       "      <th>ROUTEFUNCTION</th>\n",
       "      <th>ROADNAME</th>\n",
       "      <th>STATUS</th>\n",
       "      <th>CONSTRUCTIONYEAR</th>\n",
       "      <th>LOCALBOARD</th>\n",
       "      <th>VEHICLESPEEDLIMIT</th>\n",
       "      <th>TRAFFICAADT</th>\n",
       "      <th>TYPEOFFACILITY</th>\n",
       "      <th>JOURNEYCORRIDOR</th>\n",
       "      <th>Shape__Length</th>\n",
       "    </tr>\n",
       "  </thead>\n",
       "  <tbody>\n",
       "    <tr>\n",
       "      <th>0</th>\n",
       "      <td>1</td>\n",
       "      <td>1.0</td>\n",
       "      <td>NaN</td>\n",
       "      <td>Bay connection</td>\n",
       "      <td>Existing</td>\n",
       "      <td>NaN</td>\n",
       "      <td>Howick</td>\n",
       "      <td>NaN</td>\n",
       "      <td>NaN</td>\n",
       "      <td>Off-road shared path</td>\n",
       "      <td>NaN</td>\n",
       "      <td>5.746521</td>\n",
       "    </tr>\n",
       "    <tr>\n",
       "      <th>1</th>\n",
       "      <td>2</td>\n",
       "      <td>1.0</td>\n",
       "      <td>NaN</td>\n",
       "      <td>Bay connection</td>\n",
       "      <td>Existing</td>\n",
       "      <td>NaN</td>\n",
       "      <td>Howick</td>\n",
       "      <td>NaN</td>\n",
       "      <td>NaN</td>\n",
       "      <td>Off-road shared path</td>\n",
       "      <td>NaN</td>\n",
       "      <td>963.546209</td>\n",
       "    </tr>\n",
       "    <tr>\n",
       "      <th>2</th>\n",
       "      <td>3</td>\n",
       "      <td>1.0</td>\n",
       "      <td>NaN</td>\n",
       "      <td>Bay connection</td>\n",
       "      <td>Existing</td>\n",
       "      <td>NaN</td>\n",
       "      <td>Howick</td>\n",
       "      <td>NaN</td>\n",
       "      <td>NaN</td>\n",
       "      <td>Off-road shared path</td>\n",
       "      <td>NaN</td>\n",
       "      <td>415.740382</td>\n",
       "    </tr>\n",
       "    <tr>\n",
       "      <th>3</th>\n",
       "      <td>4</td>\n",
       "      <td>3.0</td>\n",
       "      <td>NaN</td>\n",
       "      <td>Rosedale Park North</td>\n",
       "      <td>Existing</td>\n",
       "      <td>NaN</td>\n",
       "      <td>Upper Harbour</td>\n",
       "      <td>NaN</td>\n",
       "      <td>NaN</td>\n",
       "      <td>Local area traffic management</td>\n",
       "      <td>NaN</td>\n",
       "      <td>110.928884</td>\n",
       "    </tr>\n",
       "    <tr>\n",
       "      <th>4</th>\n",
       "      <td>5</td>\n",
       "      <td>3.0</td>\n",
       "      <td>NaN</td>\n",
       "      <td>Rosedale Park North</td>\n",
       "      <td>Existing</td>\n",
       "      <td>NaN</td>\n",
       "      <td>Upper Harbour</td>\n",
       "      <td>NaN</td>\n",
       "      <td>NaN</td>\n",
       "      <td>Off-road shared path</td>\n",
       "      <td>NaN</td>\n",
       "      <td>685.221694</td>\n",
       "    </tr>\n",
       "  </tbody>\n",
       "</table>\n",
       "</div>"
      ],
      "text/plain": [
       "   OBJECTID  IDENTIFIER  ROUTEFUNCTION             ROADNAME    STATUS  \\\n",
       "0         1         1.0            NaN       Bay connection  Existing   \n",
       "1         2         1.0            NaN       Bay connection  Existing   \n",
       "2         3         1.0            NaN       Bay connection  Existing   \n",
       "3         4         3.0            NaN  Rosedale Park North  Existing   \n",
       "4         5         3.0            NaN  Rosedale Park North  Existing   \n",
       "\n",
       "   CONSTRUCTIONYEAR     LOCALBOARD  VEHICLESPEEDLIMIT  TRAFFICAADT  \\\n",
       "0               NaN         Howick                NaN          NaN   \n",
       "1               NaN         Howick                NaN          NaN   \n",
       "2               NaN         Howick                NaN          NaN   \n",
       "3               NaN  Upper Harbour                NaN          NaN   \n",
       "4               NaN  Upper Harbour                NaN          NaN   \n",
       "\n",
       "                  TYPEOFFACILITY  JOURNEYCORRIDOR  Shape__Length  \n",
       "0           Off-road shared path              NaN       5.746521  \n",
       "1           Off-road shared path              NaN     963.546209  \n",
       "2           Off-road shared path              NaN     415.740382  \n",
       "3  Local area traffic management              NaN     110.928884  \n",
       "4           Off-road shared path              NaN     685.221694  "
      ]
     },
     "execution_count": 14,
     "metadata": {},
     "output_type": "execute_result"
    }
   ],
   "source": [
    "dfNZ = pd.read_csv('Cycle_Facility_Network.CSV')\n",
    "dfNZ.head()"
   ]
  },
  {
   "cell_type": "code",
   "execution_count": 15,
   "id": "e22c4a0c",
   "metadata": {},
   "outputs": [
    {
     "name": "stdout",
     "output_type": "stream",
     "text": [
      "<class 'pandas.core.frame.DataFrame'>\n",
      "RangeIndex: 1542 entries, 0 to 1541\n",
      "Data columns (total 12 columns):\n",
      " #   Column             Non-Null Count  Dtype  \n",
      "---  ------             --------------  -----  \n",
      " 0   OBJECTID           1542 non-null   int64  \n",
      " 1   IDENTIFIER         910 non-null    float64\n",
      " 2   ROUTEFUNCTION      0 non-null      float64\n",
      " 3   ROADNAME           1224 non-null   object \n",
      " 4   STATUS             1542 non-null   object \n",
      " 5   CONSTRUCTIONYEAR   331 non-null    float64\n",
      " 6   LOCALBOARD         1323 non-null   object \n",
      " 7   VEHICLESPEEDLIMIT  0 non-null      float64\n",
      " 8   TRAFFICAADT        0 non-null      float64\n",
      " 9   TYPEOFFACILITY     1542 non-null   object \n",
      " 10  JOURNEYCORRIDOR    0 non-null      float64\n",
      " 11  Shape__Length      1542 non-null   float64\n",
      "dtypes: float64(7), int64(1), object(4)\n",
      "memory usage: 514.4 KB\n"
     ]
    }
   ],
   "source": [
    "dfNZ.info(memory_usage='deep')"
   ]
  },
  {
   "cell_type": "code",
   "execution_count": 16,
   "id": "aa5a1904",
   "metadata": {},
   "outputs": [
    {
     "name": "stdout",
     "output_type": "stream",
     "text": [
      "<class 'pandas.core.frame.DataFrame'>\n",
      "RangeIndex: 1542 entries, 0 to 1541\n",
      "Data columns (total 2 columns):\n",
      " #   Column          Non-Null Count  Dtype  \n",
      "---  ------          --------------  -----  \n",
      " 0   TYPEOFFACILITY  1542 non-null   object \n",
      " 1   Shape__Length   1542 non-null   float64\n",
      "dtypes: float64(1), object(1)\n",
      "memory usage: 133.4 KB\n"
     ]
    }
   ],
   "source": [
    "# Define the columns  to read from the CSV file NZ\n",
    "cols = ['TYPEOFFACILITY', 'Shape__Length']\n",
    "\n",
    "# Read the CSV file into a DataFrame\n",
    "small_dfNZ = pd.read_csv('Cycle_Facility_Network.csv', usecols=cols)\n",
    "\n",
    "# Print the summary information of the DataFrame\n",
    "small_dfNZ.info(memory_usage=\"deep\")"
   ]
  },
  {
   "cell_type": "code",
   "execution_count": 17,
   "id": "d89ad0a6",
   "metadata": {},
   "outputs": [
    {
     "name": "stdout",
     "output_type": "stream",
     "text": [
      "<class 'pandas.core.frame.DataFrame'>\n",
      "RangeIndex: 1542 entries, 0 to 1541\n",
      "Data columns (total 12 columns):\n",
      " #   Column             Non-Null Count  Dtype  \n",
      "---  ------             --------------  -----  \n",
      " 0   OBJECTID           1542 non-null   int64  \n",
      " 1   IDENTIFIER         910 non-null    float64\n",
      " 2   ROUTEFUNCTION      0 non-null      float64\n",
      " 3   ROADNAME           1224 non-null   object \n",
      " 4   STATUS             1542 non-null   object \n",
      " 5   CONSTRUCTIONYEAR   331 non-null    float64\n",
      " 6   LOCALBOARD         1323 non-null   object \n",
      " 7   VEHICLESPEEDLIMIT  0 non-null      float64\n",
      " 8   TRAFFICAADT        0 non-null      float64\n",
      " 9   TYPEOFFACILITY     1542 non-null   object \n",
      " 10  JOURNEYCORRIDOR    0 non-null      float64\n",
      " 11  Shape__Length      1542 non-null   float64\n",
      "dtypes: float64(7), int64(1), object(4)\n",
      "memory usage: 144.7+ KB\n"
     ]
    }
   ],
   "source": [
    "dfNZ.info()"
   ]
  },
  {
   "cell_type": "code",
   "execution_count": 18,
   "id": "abcb3647",
   "metadata": {},
   "outputs": [
    {
     "data": {
      "text/html": [
       "<div>\n",
       "<style scoped>\n",
       "    .dataframe tbody tr th:only-of-type {\n",
       "        vertical-align: middle;\n",
       "    }\n",
       "\n",
       "    .dataframe tbody tr th {\n",
       "        vertical-align: top;\n",
       "    }\n",
       "\n",
       "    .dataframe thead th {\n",
       "        text-align: right;\n",
       "    }\n",
       "</style>\n",
       "<table border=\"1\" class=\"dataframe\">\n",
       "  <thead>\n",
       "    <tr style=\"text-align: right;\">\n",
       "      <th></th>\n",
       "      <th>ROADNAME</th>\n",
       "      <th>STATUS</th>\n",
       "      <th>LOCALBOARD</th>\n",
       "      <th>TYPEOFFACILITY</th>\n",
       "      <th>Shape__Length</th>\n",
       "    </tr>\n",
       "  </thead>\n",
       "  <tbody>\n",
       "    <tr>\n",
       "      <th>0</th>\n",
       "      <td>Bay connection</td>\n",
       "      <td>Existing</td>\n",
       "      <td>Howick</td>\n",
       "      <td>Off-road shared path</td>\n",
       "      <td>5.746521</td>\n",
       "    </tr>\n",
       "    <tr>\n",
       "      <th>1</th>\n",
       "      <td>Bay connection</td>\n",
       "      <td>Existing</td>\n",
       "      <td>Howick</td>\n",
       "      <td>Off-road shared path</td>\n",
       "      <td>963.546209</td>\n",
       "    </tr>\n",
       "    <tr>\n",
       "      <th>2</th>\n",
       "      <td>Bay connection</td>\n",
       "      <td>Existing</td>\n",
       "      <td>Howick</td>\n",
       "      <td>Off-road shared path</td>\n",
       "      <td>415.740382</td>\n",
       "    </tr>\n",
       "    <tr>\n",
       "      <th>3</th>\n",
       "      <td>Rosedale Park North</td>\n",
       "      <td>Existing</td>\n",
       "      <td>Upper Harbour</td>\n",
       "      <td>Local area traffic management</td>\n",
       "      <td>110.928884</td>\n",
       "    </tr>\n",
       "    <tr>\n",
       "      <th>4</th>\n",
       "      <td>Rosedale Park North</td>\n",
       "      <td>Existing</td>\n",
       "      <td>Upper Harbour</td>\n",
       "      <td>Off-road shared path</td>\n",
       "      <td>685.221694</td>\n",
       "    </tr>\n",
       "  </tbody>\n",
       "</table>\n",
       "</div>"
      ],
      "text/plain": [
       "              ROADNAME    STATUS     LOCALBOARD  \\\n",
       "0       Bay connection  Existing         Howick   \n",
       "1       Bay connection  Existing         Howick   \n",
       "2       Bay connection  Existing         Howick   \n",
       "3  Rosedale Park North  Existing  Upper Harbour   \n",
       "4  Rosedale Park North  Existing  Upper Harbour   \n",
       "\n",
       "                  TYPEOFFACILITY  Shape__Length  \n",
       "0           Off-road shared path       5.746521  \n",
       "1           Off-road shared path     963.546209  \n",
       "2           Off-road shared path     415.740382  \n",
       "3  Local area traffic management     110.928884  \n",
       "4           Off-road shared path     685.221694  "
      ]
     },
     "execution_count": 18,
     "metadata": {},
     "output_type": "execute_result"
    }
   ],
   "source": [
    "# To Drop one duplicate row TLIST(A1)\tYear\n",
    "to_drop = ['OBJECTID', 'IDENTIFIER', 'ROUTEFUNCTION', 'CONSTRUCTIONYEAR', 'VEHICLESPEEDLIMIT', 'TRAFFICAADT', 'JOURNEYCORRIDOR' ]\n",
    "dfNZ.drop(columns=to_drop, inplace=True)\n",
    "dfNZ.head()"
   ]
  },
  {
   "cell_type": "code",
   "execution_count": 19,
   "id": "c29f8027",
   "metadata": {
    "scrolled": true
   },
   "outputs": [
    {
     "data": {
      "text/html": [
       "<div>\n",
       "<style scoped>\n",
       "    .dataframe tbody tr th:only-of-type {\n",
       "        vertical-align: middle;\n",
       "    }\n",
       "\n",
       "    .dataframe tbody tr th {\n",
       "        vertical-align: top;\n",
       "    }\n",
       "\n",
       "    .dataframe thead th {\n",
       "        text-align: right;\n",
       "    }\n",
       "</style>\n",
       "<table border=\"1\" class=\"dataframe\">\n",
       "  <thead>\n",
       "    <tr style=\"text-align: right;\">\n",
       "      <th></th>\n",
       "      <th>ROADNAME</th>\n",
       "      <th>STATUS</th>\n",
       "      <th>LOCALBOARD</th>\n",
       "      <th>TYPEOFFACILITY</th>\n",
       "      <th>Shape__Length NZ</th>\n",
       "    </tr>\n",
       "  </thead>\n",
       "  <tbody>\n",
       "    <tr>\n",
       "      <th>0</th>\n",
       "      <td>Bay connection</td>\n",
       "      <td>Existing</td>\n",
       "      <td>Howick</td>\n",
       "      <td>Off-road shared path</td>\n",
       "      <td>5.746521</td>\n",
       "    </tr>\n",
       "    <tr>\n",
       "      <th>1</th>\n",
       "      <td>Bay connection</td>\n",
       "      <td>Existing</td>\n",
       "      <td>Howick</td>\n",
       "      <td>Off-road shared path</td>\n",
       "      <td>963.546209</td>\n",
       "    </tr>\n",
       "    <tr>\n",
       "      <th>2</th>\n",
       "      <td>Bay connection</td>\n",
       "      <td>Existing</td>\n",
       "      <td>Howick</td>\n",
       "      <td>Off-road shared path</td>\n",
       "      <td>415.740382</td>\n",
       "    </tr>\n",
       "    <tr>\n",
       "      <th>3</th>\n",
       "      <td>Rosedale Park North</td>\n",
       "      <td>Existing</td>\n",
       "      <td>Upper Harbour</td>\n",
       "      <td>Local area traffic management</td>\n",
       "      <td>110.928884</td>\n",
       "    </tr>\n",
       "    <tr>\n",
       "      <th>4</th>\n",
       "      <td>Rosedale Park North</td>\n",
       "      <td>Existing</td>\n",
       "      <td>Upper Harbour</td>\n",
       "      <td>Off-road shared path</td>\n",
       "      <td>685.221694</td>\n",
       "    </tr>\n",
       "  </tbody>\n",
       "</table>\n",
       "</div>"
      ],
      "text/plain": [
       "              ROADNAME    STATUS     LOCALBOARD  \\\n",
       "0       Bay connection  Existing         Howick   \n",
       "1       Bay connection  Existing         Howick   \n",
       "2       Bay connection  Existing         Howick   \n",
       "3  Rosedale Park North  Existing  Upper Harbour   \n",
       "4  Rosedale Park North  Existing  Upper Harbour   \n",
       "\n",
       "                  TYPEOFFACILITY  Shape__Length NZ  \n",
       "0           Off-road shared path          5.746521  \n",
       "1           Off-road shared path        963.546209  \n",
       "2           Off-road shared path        415.740382  \n",
       "3  Local area traffic management        110.928884  \n",
       "4           Off-road shared path        685.221694  "
      ]
     },
     "execution_count": 19,
     "metadata": {},
     "output_type": "execute_result"
    }
   ],
   "source": [
    "dfNZ.rename(columns={'Shape__Length': 'Shape__Length NZ'}, inplace=True)\n",
    "dfNZ.head()"
   ]
  },
  {
   "cell_type": "code",
   "execution_count": 20,
   "id": "4ada5502",
   "metadata": {},
   "outputs": [],
   "source": [
    "# dfNZ.tail()"
   ]
  },
  {
   "cell_type": "code",
   "execution_count": 21,
   "id": "043ee50a",
   "metadata": {},
   "outputs": [
    {
     "name": "stdout",
     "output_type": "stream",
     "text": [
      "0       172.522128\n",
      "1       261.891707\n",
      "2       108.076912\n",
      "3        78.613318\n",
      "4       141.048015\n",
      "           ...    \n",
      "5631    736.147520\n",
      "5632    648.992720\n",
      "5633    456.366007\n",
      "5634    112.858520\n",
      "5635    751.762409\n",
      "Name: Shape__Length IE, Length: 5636, dtype: float64\n"
     ]
    }
   ],
   "source": [
    "print(dfIE['Shape__Length IE']) #IE"
   ]
  },
  {
   "cell_type": "code",
   "execution_count": 22,
   "id": "5a772c13",
   "metadata": {},
   "outputs": [],
   "source": [
    "#dfI['TYPEOFFACILITY' ].value_counts().sort_index().plot(kind='bar', title='TYPEOFFACILITY IN IRELAND',\n",
    "#    figsize=(10, 5))\n",
    "# show [<Axes: title={'center': 'TYPEOFFACILITY IN IRELAND'}, xlabel='TYPEOFFACILITY'>]\n",
    "#next is better"
   ]
  },
  {
   "cell_type": "code",
   "execution_count": 23,
   "id": "2de0badf",
   "metadata": {},
   "outputs": [
    {
     "data": {
      "image/png": "[encoded data removed]",
      "text/plain": [
       "<Figure size 1000x500 with 1 Axes>"
      ]
     },
     "metadata": {},
     "output_type": "display_data"
    }
   ],
   "source": [
    "ax = dfIE['TYPEOFFACILITY'].value_counts().sort_index() \\\n",
    "    .plot(kind='bar', \n",
    "          title='TYPEOFFACILITY IN IRELAND',\n",
    "          figsize=(10, 5),\n",
    "          color='green')  \n",
    "\n",
    "ax.set_xlabel('TYPEOFFACILITY')\n",
    "plt.show()"
   ]
  },
  {
   "cell_type": "code",
   "execution_count": 24,
   "id": "605e0810",
   "metadata": {},
   "outputs": [
    {
     "name": "stdout",
     "output_type": "stream",
     "text": [
      "0          5.746521\n",
      "1        963.546209\n",
      "2        415.740382\n",
      "3        110.928884\n",
      "4        685.221694\n",
      "           ...     \n",
      "1537     280.329822\n",
      "1538    1314.740577\n",
      "1539      82.583260\n",
      "1540     153.894935\n",
      "1541      56.655550\n",
      "Name: Shape__Length NZ, Length: 1542, dtype: float64\n"
     ]
    }
   ],
   "source": [
    "print(dfNZ['Shape__Length NZ']) #NZ"
   ]
  },
  {
   "cell_type": "code",
   "execution_count": 25,
   "id": "01a58417",
   "metadata": {},
   "outputs": [
    {
     "data": {
      "image/png": "[encoded data removed]",
      "text/plain": [
       "<Figure size 1000x500 with 1 Axes>"
      ]
     },
     "metadata": {},
     "output_type": "display_data"
    }
   ],
   "source": [
    "ax =  dfNZ['TYPEOFFACILITY' ].value_counts().sort_index() \\\n",
    "    .plot(kind='bar', \n",
    "          title='TYPEOFFACILITY IN NZ',\n",
    "          figsize=(10, 5),\n",
    "         color='blue') \n",
    "ax.set_xlabel('cdo')\n",
    "plt.show()\n"
   ]
  },
  {
   "cell_type": "markdown",
   "id": "1c730718",
   "metadata": {},
   "source": [
    "**Analysis measures**\n"
   ]
  },
  {
   "cell_type": "code",
   "execution_count": 26,
   "id": "ec79da95",
   "metadata": {},
   "outputs": [
    {
     "data": {
      "text/html": [
       "<div>\n",
       "<style scoped>\n",
       "    .dataframe tbody tr th:only-of-type {\n",
       "        vertical-align: middle;\n",
       "    }\n",
       "\n",
       "    .dataframe tbody tr th {\n",
       "        vertical-align: top;\n",
       "    }\n",
       "\n",
       "    .dataframe thead th {\n",
       "        text-align: right;\n",
       "    }\n",
       "</style>\n",
       "<table border=\"1\" class=\"dataframe\">\n",
       "  <thead>\n",
       "    <tr style=\"text-align: right;\">\n",
       "      <th></th>\n",
       "      <th>Shape__Length IE</th>\n",
       "    </tr>\n",
       "  </thead>\n",
       "  <tbody>\n",
       "    <tr>\n",
       "      <th>count</th>\n",
       "      <td>5636.000000</td>\n",
       "    </tr>\n",
       "    <tr>\n",
       "      <th>mean</th>\n",
       "      <td>117.847005</td>\n",
       "    </tr>\n",
       "    <tr>\n",
       "      <th>std</th>\n",
       "      <td>184.526130</td>\n",
       "    </tr>\n",
       "    <tr>\n",
       "      <th>min</th>\n",
       "      <td>0.075140</td>\n",
       "    </tr>\n",
       "    <tr>\n",
       "      <th>25%</th>\n",
       "      <td>33.823079</td>\n",
       "    </tr>\n",
       "    <tr>\n",
       "      <th>50%</th>\n",
       "      <td>66.855330</td>\n",
       "    </tr>\n",
       "    <tr>\n",
       "      <th>75%</th>\n",
       "      <td>132.033852</td>\n",
       "    </tr>\n",
       "    <tr>\n",
       "      <th>max</th>\n",
       "      <td>5677.287194</td>\n",
       "    </tr>\n",
       "  </tbody>\n",
       "</table>\n",
       "</div>"
      ],
      "text/plain": [
       "       Shape__Length IE\n",
       "count       5636.000000\n",
       "mean         117.847005\n",
       "std          184.526130\n",
       "min            0.075140\n",
       "25%           33.823079\n",
       "50%           66.855330\n",
       "75%          132.033852\n",
       "max         5677.287194"
      ]
     },
     "execution_count": 26,
     "metadata": {},
     "output_type": "execute_result"
    }
   ],
   "source": [
    "dfIE.describe()  # Ireland"
   ]
  },
  {
   "cell_type": "code",
   "execution_count": 27,
   "id": "3079eab5",
   "metadata": {},
   "outputs": [
    {
     "data": {
      "text/plain": [
       "(5636, 4)"
      ]
     },
     "execution_count": 27,
     "metadata": {},
     "output_type": "execute_result"
    }
   ],
   "source": [
    "dfIE.shape  #Shape__Length IE Count is a same than Shape, there aren't lost data"
   ]
  },
  {
   "cell_type": "code",
   "execution_count": 28,
   "id": "a0ec0790",
   "metadata": {},
   "outputs": [
    {
     "data": {
      "text/html": [
       "<div>\n",
       "<style scoped>\n",
       "    .dataframe tbody tr th:only-of-type {\n",
       "        vertical-align: middle;\n",
       "    }\n",
       "\n",
       "    .dataframe tbody tr th {\n",
       "        vertical-align: top;\n",
       "    }\n",
       "\n",
       "    .dataframe thead th {\n",
       "        text-align: right;\n",
       "    }\n",
       "</style>\n",
       "<table border=\"1\" class=\"dataframe\">\n",
       "  <thead>\n",
       "    <tr style=\"text-align: right;\">\n",
       "      <th></th>\n",
       "      <th>Shape__Length NZ</th>\n",
       "    </tr>\n",
       "  </thead>\n",
       "  <tbody>\n",
       "    <tr>\n",
       "      <th>count</th>\n",
       "      <td>1542.000000</td>\n",
       "    </tr>\n",
       "    <tr>\n",
       "      <th>mean</th>\n",
       "      <td>443.905213</td>\n",
       "    </tr>\n",
       "    <tr>\n",
       "      <th>std</th>\n",
       "      <td>556.762057</td>\n",
       "    </tr>\n",
       "    <tr>\n",
       "      <th>min</th>\n",
       "      <td>0.011265</td>\n",
       "    </tr>\n",
       "    <tr>\n",
       "      <th>25%</th>\n",
       "      <td>107.427329</td>\n",
       "    </tr>\n",
       "    <tr>\n",
       "      <th>50%</th>\n",
       "      <td>253.905857</td>\n",
       "    </tr>\n",
       "    <tr>\n",
       "      <th>75%</th>\n",
       "      <td>570.517557</td>\n",
       "    </tr>\n",
       "    <tr>\n",
       "      <th>max</th>\n",
       "      <td>4884.670418</td>\n",
       "    </tr>\n",
       "  </tbody>\n",
       "</table>\n",
       "</div>"
      ],
      "text/plain": [
       "       Shape__Length NZ\n",
       "count       1542.000000\n",
       "mean         443.905213\n",
       "std          556.762057\n",
       "min            0.011265\n",
       "25%          107.427329\n",
       "50%          253.905857\n",
       "75%          570.517557\n",
       "max         4884.670418"
      ]
     },
     "execution_count": 28,
     "metadata": {},
     "output_type": "execute_result"
    }
   ],
   "source": [
    "dfNZ.describe()  #NZ"
   ]
  },
  {
   "cell_type": "code",
   "execution_count": 29,
   "id": "ab0d31c1",
   "metadata": {},
   "outputs": [
    {
     "data": {
      "text/plain": [
       "(1542, 5)"
      ]
     },
     "execution_count": 29,
     "metadata": {},
     "output_type": "execute_result"
    }
   ],
   "source": [
    "dfNZ.shape  #Shape__Length NZ Count is a same than Shape, there aren't lost data"
   ]
  },
  {
   "cell_type": "code",
   "execution_count": 30,
   "id": "93d6f363",
   "metadata": {
    "scrolled": true
   },
   "outputs": [
    {
     "name": "stdout",
     "output_type": "stream",
     "text": [
      "117.85\n"
     ]
    }
   ],
   "source": [
    "# Finding specific statistics such as the mean:\n",
    "mean_adm = dfIE['Shape__Length IE'].mean()\n",
    "print(round(mean_adm, 2))"
   ]
  },
  {
   "cell_type": "code",
   "execution_count": 31,
   "id": "c6e3180b",
   "metadata": {},
   "outputs": [
    {
     "name": "stdout",
     "output_type": "stream",
     "text": [
      "443.91\n"
     ]
    }
   ],
   "source": [
    "# Finding specific statistics such as the mean:\n",
    "mean_adm = dfNZ['Shape__Length NZ'].mean()\n",
    "print(round(mean_adm, 2))"
   ]
  },
  {
   "cell_type": "code",
   "execution_count": 32,
   "id": "f8f2490c",
   "metadata": {},
   "outputs": [
    {
     "name": "stdout",
     "output_type": "stream",
     "text": [
      "66.85532970220001\n"
     ]
    }
   ],
   "source": [
    "# And the median:\n",
    "median = dfIE['Shape__Length IE'].median()\n",
    "print(median)"
   ]
  },
  {
   "cell_type": "code",
   "execution_count": 33,
   "id": "8c28247a",
   "metadata": {},
   "outputs": [
    {
     "name": "stdout",
     "output_type": "stream",
     "text": [
      "253.9058574993035\n"
     ]
    }
   ],
   "source": [
    "# And the median:\n",
    "median = dfNZ['Shape__Length NZ'].median()\n",
    "print(median)"
   ]
  },
  {
   "cell_type": "code",
   "execution_count": 34,
   "id": "cbe26ea1",
   "metadata": {},
   "outputs": [
    {
     "data": {
      "text/plain": [
       "[Text(0.5, 0, 'Shape'),\n",
       " Text(0, 0.5, 'Dublin_BikeLife'),\n",
       " Text(0.5, 1.0, 'Shape__Length Ireland Histogram')]"
      ]
     },
     "execution_count": 34,
     "metadata": {},
     "output_type": "execute_result"
    },
    {
     "data": {
      "image/png": "[encoded data removed]",
      "text/plain": [
       "<Figure size 640x480 with 1 Axes>"
      ]
     },
     "metadata": {},
     "output_type": "display_data"
    }
   ],
   "source": [
    "# Producing a histogram:\n",
    "ax = sns.histplot(dfIE['Shape__Length IE'], kde=True, color ='green')\n",
    "ax.set(xlabel='Shape',\n",
    "       ylabel='Dublin_BikeLife',\n",
    "       title ='Shape__Length Ireland Histogram')"
   ]
  },
  {
   "cell_type": "code",
   "execution_count": 35,
   "id": "9ef5f04e",
   "metadata": {},
   "outputs": [
    {
     "data": {
      "text/plain": [
       "[Text(0.5, 0, 'Shape'),\n",
       " Text(0, 0.5, 'NZ_BikeLife'),\n",
       " Text(0.5, 1.0, 'Length NZ')]"
      ]
     },
     "execution_count": 35,
     "metadata": {},
     "output_type": "execute_result"
    },
    {
     "data": {
      "image/png": "[encoded data removed]",
      "text/plain": [
       "<Figure size 640x480 with 1 Axes>"
      ]
     },
     "metadata": {},
     "output_type": "display_data"
    }
   ],
   "source": [
    "ax = sns.histplot(dfNZ['Shape__Length NZ'], kde=True, color ='blue')\n",
    "ax.set(xlabel='Shape',\n",
    "       ylabel='NZ_BikeLife',\n",
    "       title ='Length NZ')"
   ]
  },
  {
   "cell_type": "code",
   "execution_count": 36,
   "id": "97436699",
   "metadata": {},
   "outputs": [
    {
     "data": {
      "text/plain": [
       "Text(0.5, 1.0, 'Boxplot of Shape__Length IE')"
      ]
     },
     "execution_count": 36,
     "metadata": {},
     "output_type": "execute_result"
    },
    {
     "data": {
      "image/png": "[encoded data removed]",
      "text/plain": [
       "<Figure size 640x480 with 1 Axes>"
      ]
     },
     "metadata": {},
     "output_type": "display_data"
    }
   ],
   "source": [
    "sns.boxplot(y ='Shape__Length IE',\n",
    "             data=dfIE,\n",
    "             color = 'green')\n",
    "plt.title('Boxplot of Shape__Length IE',\n",
    "           fontsize=15)\n"
   ]
  },
  {
   "cell_type": "code",
   "execution_count": 37,
   "id": "96bad8f1",
   "metadata": {},
   "outputs": [
    {
     "data": {
      "text/plain": [
       "Text(0.5, 1.0, 'Boxplot of Shape__Length NZ')"
      ]
     },
     "execution_count": 37,
     "metadata": {},
     "output_type": "execute_result"
    },
    {
     "data": {
      "image/png": "[encoded data removed]",
      "text/plain": [
       "<Figure size 640x480 with 1 Axes>"
      ]
     },
     "metadata": {},
     "output_type": "display_data"
    }
   ],
   "source": [
    "sns.boxplot(y ='Shape__Length NZ',\n",
    "             data=dfNZ,\n",
    "           color ='blue')\n",
    "plt.title('Boxplot of Shape__Length NZ',\n",
    "           fontsize=15)\n"
   ]
  },
  {
   "cell_type": "markdown",
   "id": "70d9692f",
   "metadata": {},
   "source": [
    "# Sentiment with the analytis meassure\n",
    "NLTK's SentimentIntensisyAnalyzer \n",
    "to get the negative, neutral and positive scores \n",
    "# data1 = Ireland       data2 = NZ"
   ]
  },
  {
   "cell_type": "code",
   "execution_count": 38,
   "id": "82b9be99",
   "metadata": {},
   "outputs": [
    {
     "data": {
      "text/html": [
       "<div>\n",
       "<style scoped>\n",
       "    .dataframe tbody tr th:only-of-type {\n",
       "        vertical-align: middle;\n",
       "    }\n",
       "\n",
       "    .dataframe tbody tr th {\n",
       "        vertical-align: top;\n",
       "    }\n",
       "\n",
       "    .dataframe thead th {\n",
       "        text-align: right;\n",
       "    }\n",
       "</style>\n",
       "<table border=\"1\" class=\"dataframe\">\n",
       "  <thead>\n",
       "    <tr style=\"text-align: right;\">\n",
       "      <th></th>\n",
       "      <th>Shape__Length IE</th>\n",
       "    </tr>\n",
       "  </thead>\n",
       "  <tbody>\n",
       "    <tr>\n",
       "      <th>min</th>\n",
       "      <td>0.075140</td>\n",
       "    </tr>\n",
       "    <tr>\n",
       "      <th>25%</th>\n",
       "      <td>33.823079</td>\n",
       "    </tr>\n",
       "    <tr>\n",
       "      <th>50%</th>\n",
       "      <td>66.855330</td>\n",
       "    </tr>\n",
       "    <tr>\n",
       "      <th>75%</th>\n",
       "      <td>132.033852</td>\n",
       "    </tr>\n",
       "    <tr>\n",
       "      <th>max</th>\n",
       "      <td>5677.287194</td>\n",
       "    </tr>\n",
       "  </tbody>\n",
       "</table>\n",
       "</div>"
      ],
      "text/plain": [
       "     Shape__Length IE\n",
       "min          0.075140\n",
       "25%         33.823079\n",
       "50%         66.855330\n",
       "75%        132.033852\n",
       "max       5677.287194"
      ]
     },
     "execution_count": 38,
     "metadata": {},
     "output_type": "execute_result"
    }
   ],
   "source": [
    "dfIE.describe().loc['min':'max'] #Ireland"
   ]
  },
  {
   "cell_type": "code",
   "execution_count": 39,
   "id": "3d40046c",
   "metadata": {},
   "outputs": [
    {
     "data": {
      "text/html": [
       "<div>\n",
       "<style scoped>\n",
       "    .dataframe tbody tr th:only-of-type {\n",
       "        vertical-align: middle;\n",
       "    }\n",
       "\n",
       "    .dataframe tbody tr th {\n",
       "        vertical-align: top;\n",
       "    }\n",
       "\n",
       "    .dataframe thead th {\n",
       "        text-align: right;\n",
       "    }\n",
       "</style>\n",
       "<table border=\"1\" class=\"dataframe\">\n",
       "  <thead>\n",
       "    <tr style=\"text-align: right;\">\n",
       "      <th></th>\n",
       "      <th>Shape__Length NZ</th>\n",
       "    </tr>\n",
       "  </thead>\n",
       "  <tbody>\n",
       "    <tr>\n",
       "      <th>min</th>\n",
       "      <td>0.011265</td>\n",
       "    </tr>\n",
       "    <tr>\n",
       "      <th>25%</th>\n",
       "      <td>107.427329</td>\n",
       "    </tr>\n",
       "    <tr>\n",
       "      <th>50%</th>\n",
       "      <td>253.905857</td>\n",
       "    </tr>\n",
       "    <tr>\n",
       "      <th>75%</th>\n",
       "      <td>570.517557</td>\n",
       "    </tr>\n",
       "    <tr>\n",
       "      <th>max</th>\n",
       "      <td>4884.670418</td>\n",
       "    </tr>\n",
       "  </tbody>\n",
       "</table>\n",
       "</div>"
      ],
      "text/plain": [
       "     Shape__Length NZ\n",
       "min          0.011265\n",
       "25%        107.427329\n",
       "50%        253.905857\n",
       "75%        570.517557\n",
       "max       4884.670418"
      ]
     },
     "execution_count": 39,
     "metadata": {},
     "output_type": "execute_result"
    }
   ],
   "source": [
    "dfNZ.describe().loc['min':'max'] #NZ"
   ]
  },
  {
   "cell_type": "code",
   "execution_count": 40,
   "id": "d0e48679",
   "metadata": {
    "scrolled": true
   },
   "outputs": [
    {
     "data": {
      "text/html": [
       "<div>\n",
       "<style scoped>\n",
       "    .dataframe tbody tr th:only-of-type {\n",
       "        vertical-align: middle;\n",
       "    }\n",
       "\n",
       "    .dataframe tbody tr th {\n",
       "        vertical-align: top;\n",
       "    }\n",
       "\n",
       "    .dataframe thead th {\n",
       "        text-align: right;\n",
       "    }\n",
       "</style>\n",
       "<table border=\"1\" class=\"dataframe\">\n",
       "  <thead>\n",
       "    <tr style=\"text-align: right;\">\n",
       "      <th></th>\n",
       "      <th>Shape__Length IE</th>\n",
       "    </tr>\n",
       "  </thead>\n",
       "  <tbody>\n",
       "    <tr>\n",
       "      <th>0</th>\n",
       "      <td>172.522128</td>\n",
       "    </tr>\n",
       "    <tr>\n",
       "      <th>1</th>\n",
       "      <td>261.891707</td>\n",
       "    </tr>\n",
       "    <tr>\n",
       "      <th>2</th>\n",
       "      <td>108.076912</td>\n",
       "    </tr>\n",
       "    <tr>\n",
       "      <th>3</th>\n",
       "      <td>78.613318</td>\n",
       "    </tr>\n",
       "    <tr>\n",
       "      <th>4</th>\n",
       "      <td>141.048015</td>\n",
       "    </tr>\n",
       "    <tr>\n",
       "      <th>...</th>\n",
       "      <td>...</td>\n",
       "    </tr>\n",
       "    <tr>\n",
       "      <th>5631</th>\n",
       "      <td>736.147520</td>\n",
       "    </tr>\n",
       "    <tr>\n",
       "      <th>5632</th>\n",
       "      <td>648.992720</td>\n",
       "    </tr>\n",
       "    <tr>\n",
       "      <th>5633</th>\n",
       "      <td>456.366007</td>\n",
       "    </tr>\n",
       "    <tr>\n",
       "      <th>5634</th>\n",
       "      <td>112.858520</td>\n",
       "    </tr>\n",
       "    <tr>\n",
       "      <th>5635</th>\n",
       "      <td>751.762409</td>\n",
       "    </tr>\n",
       "  </tbody>\n",
       "</table>\n",
       "<p>5636 rows × 1 columns</p>\n",
       "</div>"
      ],
      "text/plain": [
       "      Shape__Length IE\n",
       "0           172.522128\n",
       "1           261.891707\n",
       "2           108.076912\n",
       "3            78.613318\n",
       "4           141.048015\n",
       "...                ...\n",
       "5631        736.147520\n",
       "5632        648.992720\n",
       "5633        456.366007\n",
       "5634        112.858520\n",
       "5635        751.762409\n",
       "\n",
       "[5636 rows x 1 columns]"
      ]
     },
     "execution_count": 40,
     "metadata": {},
     "output_type": "execute_result"
    }
   ],
   "source": [
    "dfIE[['Shape__Length IE']]"
   ]
  },
  {
   "cell_type": "code",
   "execution_count": 41,
   "id": "fb81f2f5",
   "metadata": {},
   "outputs": [
    {
     "ename": "AttributeError",
     "evalue": "'Series' object has no attribute 'stack'",
     "output_type": "error",
     "traceback": [
      "\u001b[1;31m---------------------------------------------------------------------------\u001b[0m",
      "\u001b[1;31mAttributeError\u001b[0m                            Traceback (most recent call last)",
      "\u001b[1;32m~\\AppData\\Local\\Temp\\ipykernel_13988\\237472424.py\u001b[0m in \u001b[0;36m?\u001b[1;34m()\u001b[0m\n\u001b[1;32m----> 1\u001b[1;33m \u001b[0mstacked\u001b[0m \u001b[1;33m=\u001b[0m \u001b[0mdfIE\u001b[0m\u001b[1;33m[\u001b[0m\u001b[1;34m'Shape__Length IE'\u001b[0m\u001b[1;33m]\u001b[0m\u001b[1;33m.\u001b[0m\u001b[0mstack\u001b[0m\u001b[1;33m(\u001b[0m\u001b[1;33m)\u001b[0m\u001b[1;33m\u001b[0m\u001b[1;33m\u001b[0m\u001b[0m\n\u001b[0m",
      "\u001b[1;32m~\\anaconda3\\Lib\\site-packages\\pandas\\core\\generic.py\u001b[0m in \u001b[0;36m?\u001b[1;34m(self, name)\u001b[0m\n\u001b[0;32m   5985\u001b[0m             \u001b[1;32mand\u001b[0m \u001b[0mname\u001b[0m \u001b[1;32mnot\u001b[0m \u001b[1;32min\u001b[0m \u001b[0mself\u001b[0m\u001b[1;33m.\u001b[0m\u001b[0m_accessors\u001b[0m\u001b[1;33m\u001b[0m\u001b[1;33m\u001b[0m\u001b[0m\n\u001b[0;32m   5986\u001b[0m             \u001b[1;32mand\u001b[0m \u001b[0mself\u001b[0m\u001b[1;33m.\u001b[0m\u001b[0m_info_axis\u001b[0m\u001b[1;33m.\u001b[0m\u001b[0m_can_hold_identifiers_and_holds_name\u001b[0m\u001b[1;33m(\u001b[0m\u001b[0mname\u001b[0m\u001b[1;33m)\u001b[0m\u001b[1;33m\u001b[0m\u001b[1;33m\u001b[0m\u001b[0m\n\u001b[0;32m   5987\u001b[0m         ):\n\u001b[0;32m   5988\u001b[0m             \u001b[1;32mreturn\u001b[0m \u001b[0mself\u001b[0m\u001b[1;33m[\u001b[0m\u001b[0mname\u001b[0m\u001b[1;33m]\u001b[0m\u001b[1;33m\u001b[0m\u001b[1;33m\u001b[0m\u001b[0m\n\u001b[1;32m-> 5989\u001b[1;33m         \u001b[1;32mreturn\u001b[0m \u001b[0mobject\u001b[0m\u001b[1;33m.\u001b[0m\u001b[0m__getattribute__\u001b[0m\u001b[1;33m(\u001b[0m\u001b[0mself\u001b[0m\u001b[1;33m,\u001b[0m \u001b[0mname\u001b[0m\u001b[1;33m)\u001b[0m\u001b[1;33m\u001b[0m\u001b[1;33m\u001b[0m\u001b[0m\n\u001b[0m",
      "\u001b[1;31mAttributeError\u001b[0m: 'Series' object has no attribute 'stack'"
     ]
    }
   ],
   "source": [
    "stacked = dfIE['Shape__Length IE'].stack()"
   ]
  },
  {
   "cell_type": "code",
   "execution_count": 42,
   "id": "4eb43a6e",
   "metadata": {},
   "outputs": [
    {
     "ename": "NameError",
     "evalue": "name 'stacked' is not defined",
     "output_type": "error",
     "traceback": [
      "\u001b[1;31m---------------------------------------------------------------------------\u001b[0m",
      "\u001b[1;31mNameError\u001b[0m                                 Traceback (most recent call last)",
      "Cell \u001b[1;32mIn[42], line 1\u001b[0m\n\u001b[1;32m----> 1\u001b[0m stacked\n",
      "\u001b[1;31mNameError\u001b[0m: name 'stacked' is not defined"
     ]
    }
   ],
   "source": [
    "stacked"
   ]
  },
  {
   "cell_type": "code",
   "execution_count": null,
   "id": "3d053e3e",
   "metadata": {},
   "outputs": [],
   "source": []
  },
  {
   "cell_type": "code",
   "execution_count": null,
   "id": "5018cece",
   "metadata": {},
   "outputs": [],
   "source": []
  },
  {
   "cell_type": "code",
   "execution_count": null,
   "id": "38dea826",
   "metadata": {},
   "outputs": [],
   "source": []
  },
  {
   "cell_type": "code",
   "execution_count": null,
   "id": "896d45c3",
   "metadata": {},
   "outputs": [],
   "source": []
  },
  {
   "cell_type": "code",
   "execution_count": null,
   "id": "3b4daa44",
   "metadata": {},
   "outputs": [],
   "source": []
  },
  {
   "cell_type": "code",
   "execution_count": null,
   "id": "0bdb0985",
   "metadata": {},
   "outputs": [],
   "source": []
  },
  {
   "cell_type": "code",
   "execution_count": null,
   "id": "ae610d1f",
   "metadata": {},
   "outputs": [],
   "source": []
  },
  {
   "cell_type": "code",
   "execution_count": null,
   "id": "51215fa3",
   "metadata": {},
   "outputs": [],
   "source": []
  },
  {
   "cell_type": "code",
   "execution_count": 57,
   "id": "60d036aa",
   "metadata": {},
   "outputs": [],
   "source": [
    "dfstat=dfIE['Shape__Length IE']"
   ]
  },
  {
   "cell_type": "code",
   "execution_count": null,
   "id": "000885aa",
   "metadata": {},
   "outputs": [],
   "source": []
  },
  {
   "cell_type": "code",
   "execution_count": null,
   "id": "f47eea8a",
   "metadata": {},
   "outputs": [],
   "source": []
  },
  {
   "cell_type": "code",
   "execution_count": null,
   "id": "c4203d61",
   "metadata": {},
   "outputs": [],
   "source": []
  },
  {
   "cell_type": "code",
   "execution_count": 58,
   "id": "afa58e86",
   "metadata": {},
   "outputs": [
    {
     "ename": "NameError",
     "evalue": "name 'fdIE' is not defined",
     "output_type": "error",
     "traceback": [
      "\u001b[1;31m---------------------------------------------------------------------------\u001b[0m",
      "\u001b[1;31mNameError\u001b[0m                                 Traceback (most recent call last)",
      "Cell \u001b[1;32mIn[58], line 1\u001b[0m\n\u001b[1;32m----> 1\u001b[0m dfIE \u001b[38;5;241m=\u001b[39m fdIE\u001b[38;5;241m.\u001b[39massign(stat\u001b[38;5;241m=\u001b[39mdfstat)\n",
      "\u001b[1;31mNameError\u001b[0m: name 'fdIE' is not defined"
     ]
    }
   ],
   "source": [
    "dfIE = fdIE.assign(stat=dfstat)"
   ]
  },
  {
   "cell_type": "code",
   "execution_count": null,
   "id": "3656d970",
   "metadata": {},
   "outputs": [],
   "source": [
    "dfIE[['Shape__Length IE']]"
   ]
  },
  {
   "cell_type": "code",
   "execution_count": null,
   "id": "e7362c4c",
   "metadata": {},
   "outputs": [],
   "source": [
    "dfIE[['Shape__Length IE']]"
   ]
  },
  {
   "cell_type": "code",
   "execution_count": 66,
   "id": "d4b349a7",
   "metadata": {},
   "outputs": [
    {
     "ename": "SyntaxError",
     "evalue": "unterminated string literal (detected at line 4) (4175285177.py, line 4)",
     "output_type": "error",
     "traceback": [
      "\u001b[1;36m  Cell \u001b[1;32mIn[66], line 4\u001b[1;36m\u001b[0m\n\u001b[1;33m    print(\"Hello! \\U0001F1F3\\U0001F1FF)\u001b[0m\n\u001b[1;37m          ^\u001b[0m\n\u001b[1;31mSyntaxError\u001b[0m\u001b[1;31m:\u001b[0m unterminated string literal (detected at line 4)\n"
     ]
    }
   ],
   "source": [
    "#1686\tU+1F1E8 U+1F1EE irland\n",
    "#1818\tU+1F1F3 U+1F1FF nz\n",
    "#1688\tU+1F1E8 U+1F1F1\tchili\n",
    "print(\"Hello! \\U0001F1F3\\U0001F1FF) \n",
    "print(\"Hello! \\U0001F60A\")\n",
    "print(\"Hello! \\U0001F60A\\U0001F44B\")"
   ]
  },
  {
   "cell_type": "code",
   "execution_count": null,
   "id": "dd36556b",
   "metadata": {},
   "outputs": [],
   "source": [
    "# Calculate statistics for the column 'Shape__Length IE'\n",
    "stats = dfIE['Shape__Length IE'].describe()\n",
    "\n",
    "# Extract specific statistics\n",
    "mean = stats['mean']\n",
    "median = stats['50%']  # 50th percentile is the median\n",
    "\n",
    "# Insert the statistics into the DataFrame\n",
    "dfIE['mean'] = mean\n",
    "dfIE['median'] = median\n",
    "\n",
    "# Print the updated DataFrame\n",
    "print(dfIE.head())\n"
   ]
  },
  {
   "cell_type": "code",
   "execution_count": 44,
   "id": "9e75c693",
   "metadata": {},
   "outputs": [
    {
     "data": {
      "text/html": [
       "<div>\n",
       "<style scoped>\n",
       "    .dataframe tbody tr th:only-of-type {\n",
       "        vertical-align: middle;\n",
       "    }\n",
       "\n",
       "    .dataframe tbody tr th {\n",
       "        vertical-align: top;\n",
       "    }\n",
       "\n",
       "    .dataframe thead th {\n",
       "        text-align: right;\n",
       "    }\n",
       "</style>\n",
       "<table border=\"1\" class=\"dataframe\">\n",
       "  <thead>\n",
       "    <tr style=\"text-align: right;\">\n",
       "      <th></th>\n",
       "      <th>Shape__Length IE</th>\n",
       "      <th>mean</th>\n",
       "      <th>median</th>\n",
       "    </tr>\n",
       "  </thead>\n",
       "  <tbody>\n",
       "    <tr>\n",
       "      <th>0</th>\n",
       "      <td>172.522128</td>\n",
       "      <td>117.847005</td>\n",
       "      <td>66.85533</td>\n",
       "    </tr>\n",
       "    <tr>\n",
       "      <th>1</th>\n",
       "      <td>261.891707</td>\n",
       "      <td>117.847005</td>\n",
       "      <td>66.85533</td>\n",
       "    </tr>\n",
       "    <tr>\n",
       "      <th>2</th>\n",
       "      <td>108.076912</td>\n",
       "      <td>117.847005</td>\n",
       "      <td>66.85533</td>\n",
       "    </tr>\n",
       "    <tr>\n",
       "      <th>3</th>\n",
       "      <td>78.613318</td>\n",
       "      <td>117.847005</td>\n",
       "      <td>66.85533</td>\n",
       "    </tr>\n",
       "    <tr>\n",
       "      <th>4</th>\n",
       "      <td>141.048015</td>\n",
       "      <td>117.847005</td>\n",
       "      <td>66.85533</td>\n",
       "    </tr>\n",
       "    <tr>\n",
       "      <th>...</th>\n",
       "      <td>...</td>\n",
       "      <td>...</td>\n",
       "      <td>...</td>\n",
       "    </tr>\n",
       "    <tr>\n",
       "      <th>5631</th>\n",
       "      <td>736.147520</td>\n",
       "      <td>117.847005</td>\n",
       "      <td>66.85533</td>\n",
       "    </tr>\n",
       "    <tr>\n",
       "      <th>5632</th>\n",
       "      <td>648.992720</td>\n",
       "      <td>117.847005</td>\n",
       "      <td>66.85533</td>\n",
       "    </tr>\n",
       "    <tr>\n",
       "      <th>5633</th>\n",
       "      <td>456.366007</td>\n",
       "      <td>117.847005</td>\n",
       "      <td>66.85533</td>\n",
       "    </tr>\n",
       "    <tr>\n",
       "      <th>5634</th>\n",
       "      <td>112.858520</td>\n",
       "      <td>117.847005</td>\n",
       "      <td>66.85533</td>\n",
       "    </tr>\n",
       "    <tr>\n",
       "      <th>5635</th>\n",
       "      <td>751.762409</td>\n",
       "      <td>117.847005</td>\n",
       "      <td>66.85533</td>\n",
       "    </tr>\n",
       "  </tbody>\n",
       "</table>\n",
       "<p>5636 rows × 3 columns</p>\n",
       "</div>"
      ],
      "text/plain": [
       "      Shape__Length IE        mean    median\n",
       "0           172.522128  117.847005  66.85533\n",
       "1           261.891707  117.847005  66.85533\n",
       "2           108.076912  117.847005  66.85533\n",
       "3            78.613318  117.847005  66.85533\n",
       "4           141.048015  117.847005  66.85533\n",
       "...                ...         ...       ...\n",
       "5631        736.147520  117.847005  66.85533\n",
       "5632        648.992720  117.847005  66.85533\n",
       "5633        456.366007  117.847005  66.85533\n",
       "5634        112.858520  117.847005  66.85533\n",
       "5635        751.762409  117.847005  66.85533\n",
       "\n",
       "[5636 rows x 3 columns]"
      ]
     },
     "execution_count": 44,
     "metadata": {},
     "output_type": "execute_result"
    }
   ],
   "source": [
    "dfIE[['Shape__Length IE', 'mean', 'median']]"
   ]
  },
  {
   "cell_type": "code",
   "execution_count": 42,
   "id": "e12c1049",
   "metadata": {},
   "outputs": [
    {
     "ename": "IndexError",
     "evalue": "index 1542 is out of bounds for axis 0 with size 4",
     "output_type": "error",
     "traceback": [
      "\u001b[1;31m---------------------------------------------------------------------------\u001b[0m",
      "\u001b[1;31mIndexError\u001b[0m                                Traceback (most recent call last)",
      "Cell \u001b[1;32mIn[42], line 9\u001b[0m\n\u001b[0;32m      6\u001b[0m median \u001b[38;5;241m=\u001b[39m stats[\u001b[38;5;124m'\u001b[39m\u001b[38;5;124m50\u001b[39m\u001b[38;5;124m%\u001b[39m\u001b[38;5;124m'\u001b[39m]  \u001b[38;5;66;03m# 50th percentile is the median\u001b[39;00m\n\u001b[0;32m      8\u001b[0m \u001b[38;5;66;03m# Insert the statistics into the DataFrame\u001b[39;00m\n\u001b[1;32m----> 9\u001b[0m dfIE\u001b[38;5;241m.\u001b[39minsert(loc\u001b[38;5;241m=\u001b[39m\u001b[38;5;28mlen\u001b[39m(dfNZ[\u001b[38;5;124m'\u001b[39m\u001b[38;5;124mShape__Length NZ\u001b[39m\u001b[38;5;124m'\u001b[39m]), column\u001b[38;5;241m=\u001b[39m\u001b[38;5;124m'\u001b[39m\u001b[38;5;124mmean\u001b[39m\u001b[38;5;124m'\u001b[39m, value\u001b[38;5;241m=\u001b[39mmean)\n\u001b[0;32m     10\u001b[0m dfIE\u001b[38;5;241m.\u001b[39minsert(loc\u001b[38;5;241m=\u001b[39m\u001b[38;5;28mlen\u001b[39m(dfNZ[\u001b[38;5;124m'\u001b[39m\u001b[38;5;124mShape__Length NZ\u001b[39m\u001b[38;5;124m'\u001b[39m]), column\u001b[38;5;241m=\u001b[39m\u001b[38;5;124m'\u001b[39m\u001b[38;5;124mmedian\u001b[39m\u001b[38;5;124m'\u001b[39m, value\u001b[38;5;241m=\u001b[39mmedian)\n\u001b[0;32m     12\u001b[0m \u001b[38;5;66;03m# Print the updated DataFrame\u001b[39;00m\n",
      "File \u001b[1;32m~\\anaconda3\\Lib\\site-packages\\pandas\\core\\frame.py:4777\u001b[0m, in \u001b[0;36mDataFrame.insert\u001b[1;34m(self, loc, column, value, allow_duplicates)\u001b[0m\n\u001b[0;32m   4774\u001b[0m     \u001b[38;5;28;01mraise\u001b[39;00m \u001b[38;5;167;01mTypeError\u001b[39;00m(\u001b[38;5;124m\"\u001b[39m\u001b[38;5;124mloc must be int\u001b[39m\u001b[38;5;124m\"\u001b[39m)\n\u001b[0;32m   4776\u001b[0m value \u001b[38;5;241m=\u001b[39m \u001b[38;5;28mself\u001b[39m\u001b[38;5;241m.\u001b[39m_sanitize_column(value)\n\u001b[1;32m-> 4777\u001b[0m \u001b[38;5;28mself\u001b[39m\u001b[38;5;241m.\u001b[39m_mgr\u001b[38;5;241m.\u001b[39minsert(loc, column, value)\n",
      "File \u001b[1;32m~\\anaconda3\\Lib\\site-packages\\pandas\\core\\internals\\managers.py:1398\u001b[0m, in \u001b[0;36mBlockManager.insert\u001b[1;34m(self, loc, item, value)\u001b[0m\n\u001b[0;32m   1388\u001b[0m \u001b[38;5;250m\u001b[39m\u001b[38;5;124;03m\"\"\"\u001b[39;00m\n\u001b[0;32m   1389\u001b[0m \u001b[38;5;124;03mInsert item at selected position.\u001b[39;00m\n\u001b[0;32m   1390\u001b[0m \n\u001b[1;32m   (...)\u001b[0m\n\u001b[0;32m   1395\u001b[0m \u001b[38;5;124;03mvalue : np.ndarray or ExtensionArray\u001b[39;00m\n\u001b[0;32m   1396\u001b[0m \u001b[38;5;124;03m\"\"\"\u001b[39;00m\n\u001b[0;32m   1397\u001b[0m \u001b[38;5;66;03m# insert to the axis; this could possibly raise a TypeError\u001b[39;00m\n\u001b[1;32m-> 1398\u001b[0m new_axis \u001b[38;5;241m=\u001b[39m \u001b[38;5;28mself\u001b[39m\u001b[38;5;241m.\u001b[39mitems\u001b[38;5;241m.\u001b[39minsert(loc, item)\n\u001b[0;32m   1400\u001b[0m \u001b[38;5;28;01mif\u001b[39;00m value\u001b[38;5;241m.\u001b[39mndim \u001b[38;5;241m==\u001b[39m \u001b[38;5;241m2\u001b[39m:\n\u001b[0;32m   1401\u001b[0m     value \u001b[38;5;241m=\u001b[39m value\u001b[38;5;241m.\u001b[39mT\n",
      "File \u001b[1;32m~\\anaconda3\\Lib\\site-packages\\pandas\\core\\indexes\\base.py:6655\u001b[0m, in \u001b[0;36mIndex.insert\u001b[1;34m(self, loc, item)\u001b[0m\n\u001b[0;32m   6648\u001b[0m \u001b[38;5;28;01mif\u001b[39;00m arr\u001b[38;5;241m.\u001b[39mdtype \u001b[38;5;241m!=\u001b[39m \u001b[38;5;28mobject\u001b[39m \u001b[38;5;129;01mor\u001b[39;00m \u001b[38;5;129;01mnot\u001b[39;00m \u001b[38;5;28misinstance\u001b[39m(\n\u001b[0;32m   6649\u001b[0m     item, (\u001b[38;5;28mtuple\u001b[39m, np\u001b[38;5;241m.\u001b[39mdatetime64, np\u001b[38;5;241m.\u001b[39mtimedelta64)\n\u001b[0;32m   6650\u001b[0m ):\n\u001b[0;32m   6651\u001b[0m     \u001b[38;5;66;03m# with object-dtype we need to worry about numpy incorrectly casting\u001b[39;00m\n\u001b[0;32m   6652\u001b[0m     \u001b[38;5;66;03m# dt64/td64 to integer, also about treating tuples as sequences\u001b[39;00m\n\u001b[0;32m   6653\u001b[0m     \u001b[38;5;66;03m# special-casing dt64/td64 https://github.com/numpy/numpy/issues/12550\u001b[39;00m\n\u001b[0;32m   6654\u001b[0m     casted \u001b[38;5;241m=\u001b[39m arr\u001b[38;5;241m.\u001b[39mdtype\u001b[38;5;241m.\u001b[39mtype(item)\n\u001b[1;32m-> 6655\u001b[0m     new_values \u001b[38;5;241m=\u001b[39m np\u001b[38;5;241m.\u001b[39minsert(arr, loc, casted)\n\u001b[0;32m   6657\u001b[0m \u001b[38;5;28;01melse\u001b[39;00m:\n\u001b[0;32m   6658\u001b[0m     \u001b[38;5;66;03m# error: No overload variant of \"insert\" matches argument types\u001b[39;00m\n\u001b[0;32m   6659\u001b[0m     \u001b[38;5;66;03m# \"ndarray[Any, Any]\", \"int\", \"None\"\u001b[39;00m\n\u001b[0;32m   6660\u001b[0m     new_values \u001b[38;5;241m=\u001b[39m np\u001b[38;5;241m.\u001b[39minsert(arr, loc, \u001b[38;5;28;01mNone\u001b[39;00m)  \u001b[38;5;66;03m# type: ignore[call-overload]\u001b[39;00m\n",
      "File \u001b[1;32m<__array_function__ internals>:200\u001b[0m, in \u001b[0;36minsert\u001b[1;34m(*args, **kwargs)\u001b[0m\n",
      "File \u001b[1;32m~\\anaconda3\\Lib\\site-packages\\numpy\\lib\\function_base.py:5387\u001b[0m, in \u001b[0;36minsert\u001b[1;34m(arr, obj, values, axis)\u001b[0m\n\u001b[0;32m   5385\u001b[0m index \u001b[38;5;241m=\u001b[39m indices\u001b[38;5;241m.\u001b[39mitem()\n\u001b[0;32m   5386\u001b[0m \u001b[38;5;28;01mif\u001b[39;00m index \u001b[38;5;241m<\u001b[39m \u001b[38;5;241m-\u001b[39mN \u001b[38;5;129;01mor\u001b[39;00m index \u001b[38;5;241m>\u001b[39m N:\n\u001b[1;32m-> 5387\u001b[0m     \u001b[38;5;28;01mraise\u001b[39;00m \u001b[38;5;167;01mIndexError\u001b[39;00m(\u001b[38;5;124mf\u001b[39m\u001b[38;5;124m\"\u001b[39m\u001b[38;5;124mindex \u001b[39m\u001b[38;5;132;01m{\u001b[39;00mobj\u001b[38;5;132;01m}\u001b[39;00m\u001b[38;5;124m is out of bounds for axis \u001b[39m\u001b[38;5;132;01m{\u001b[39;00maxis\u001b[38;5;132;01m}\u001b[39;00m\u001b[38;5;124m \u001b[39m\u001b[38;5;124m\"\u001b[39m\n\u001b[0;32m   5388\u001b[0m                      \u001b[38;5;124mf\u001b[39m\u001b[38;5;124m\"\u001b[39m\u001b[38;5;124mwith size \u001b[39m\u001b[38;5;132;01m{\u001b[39;00mN\u001b[38;5;132;01m}\u001b[39;00m\u001b[38;5;124m\"\u001b[39m)\n\u001b[0;32m   5389\u001b[0m \u001b[38;5;28;01mif\u001b[39;00m (index \u001b[38;5;241m<\u001b[39m \u001b[38;5;241m0\u001b[39m):\n\u001b[0;32m   5390\u001b[0m     index \u001b[38;5;241m+\u001b[39m\u001b[38;5;241m=\u001b[39m N\n",
      "\u001b[1;31mIndexError\u001b[0m: index 1542 is out of bounds for axis 0 with size 4"
     ]
    }
   ],
   "source": [
    "# Calculate statistics for the column 'Shape__Length IE'\n",
    "stats = dfIE['Shape__Length IE'].describe()\n",
    "\n",
    "# Extract specific statistics\n",
    "mean = stats['mean']\n",
    "median = stats['50%']  # 50th percentile is the median\n",
    "\n",
    "# Insert the statistics into the DataFrame\n",
    "dfIE.insert(loc=len(dfNZ['Shape__Length NZ']), column='mean', value=mean)\n",
    "dfIE.insert(loc=len(dfNZ['Shape__Length NZ']), column='median', value=median)\n",
    "\n",
    "# Print the updated DataFrame\n",
    "dfIE.head()"
   ]
  },
  {
   "cell_type": "code",
   "execution_count": null,
   "id": "bd686b81",
   "metadata": {},
   "outputs": [],
   "source": []
  },
  {
   "cell_type": "code",
   "execution_count": null,
   "id": "81db7da2",
   "metadata": {},
   "outputs": [],
   "source": []
  },
  {
   "cell_type": "code",
   "execution_count": 45,
   "id": "d3803811",
   "metadata": {},
   "outputs": [
    {
     "name": "stdout",
     "output_type": "stream",
     "text": [
      "               dfIE\n",
      "0          0.011265\n",
      "1        107.427329\n",
      "2        253.905857\n",
      "3        570.517557\n",
      "4       4884.670418\n",
      "mean    1163.306485\n",
      "median   253.905857\n"
     ]
    }
   ],
   "source": [
    "# Sample DataFrame\n",
    "data = {'dfIE': [0.011265, 107.427329, 253.905857, 570.517557, 4884.670418]}\n",
    "dfIEst = pd.DataFrame(data)\n",
    "\n",
    "# Calculate statistics using describe()\n",
    "stats = dfIEst.describe().loc[['mean', '50%']]  # Extract mean and median (50th percentile)\n",
    "\n",
    "# Rename the index to 'averages'\n",
    "stats.index = ['mean', 'median']  # You can rename 'median' if needed\n",
    "\n",
    "# Concatenate the original DataFrame and the statistics DataFrame along the rows\n",
    "dfIEst = pd.concat([dfIEst, stats])\n",
    "\n",
    "# Print the updated DataFrame\n",
    "print(dfIEst)"
   ]
  },
  {
   "cell_type": "code",
   "execution_count": null,
   "id": "b3749fb7",
   "metadata": {},
   "outputs": [],
   "source": []
  },
  {
   "cell_type": "code",
   "execution_count": null,
   "id": "1c232c25",
   "metadata": {},
   "outputs": [],
   "source": []
  },
  {
   "cell_type": "code",
   "execution_count": null,
   "id": "75d471d5",
   "metadata": {},
   "outputs": [],
   "source": []
  },
  {
   "cell_type": "code",
   "execution_count": null,
   "id": "aefe7bc7",
   "metadata": {},
   "outputs": [],
   "source": []
  },
  {
   "cell_type": "code",
   "execution_count": 49,
   "id": "acd22d19",
   "metadata": {},
   "outputs": [
    {
     "name": "stdout",
     "output_type": "stream",
     "text": [
      "Sentiment\n",
      "Very Negative    2\n",
      "Negative         1\n",
      "Neutral          1\n",
      "Positive         1\n",
      "Name: count, dtype: int64\n"
     ]
    }
   ],
   "source": [
    "# Assuming 'data' is a pandas DataFrame containing your numerical data\n",
    "data = pd.DataFrame({\n",
    "    'Shape__Length_NZ': [0.075140, 33.823079, 66.855330, 132.033852, 5677.287194]\n",
    "})\n",
    "\n",
    "# Define sentiment categories based on quartiles\n",
    "data['Sentiment'] = pd.cut(data['Shape__Length_NZ'], bins=[-float('inf'), 33.823079, 66.855330, 132.033852, float('inf')], labels=['Very Negative', 'Negative', 'Neutral', 'Positive'])\n",
    "\n",
    "# Now 'Sentiment' column contains sentiment labels for each numerical value\n",
    "\n",
    "# Perform sentiment analysis (this step depends on your specific requirements)\n",
    "\n",
    "# For demonstration, let's just print the sentiment distribution\n",
    "sentiment_distribution = data['Sentiment'].value_counts()\n",
    "print(sentiment_distribution)"
   ]
  },
  {
   "cell_type": "code",
   "execution_count": 50,
   "id": "772b1c06",
   "metadata": {},
   "outputs": [
    {
     "ename": "KeyError",
     "evalue": "'Polarity_Rating'",
     "output_type": "error",
     "traceback": [
      "\u001b[1;31m---------------------------------------------------------------------------\u001b[0m",
      "\u001b[1;31mKeyError\u001b[0m                                  Traceback (most recent call last)",
      "File \u001b[1;32m~\\anaconda3\\Lib\\site-packages\\pandas\\core\\indexes\\base.py:3653\u001b[0m, in \u001b[0;36mIndex.get_loc\u001b[1;34m(self, key)\u001b[0m\n\u001b[0;32m   3652\u001b[0m \u001b[38;5;28;01mtry\u001b[39;00m:\n\u001b[1;32m-> 3653\u001b[0m     \u001b[38;5;28;01mreturn\u001b[39;00m \u001b[38;5;28mself\u001b[39m\u001b[38;5;241m.\u001b[39m_engine\u001b[38;5;241m.\u001b[39mget_loc(casted_key)\n\u001b[0;32m   3654\u001b[0m \u001b[38;5;28;01mexcept\u001b[39;00m \u001b[38;5;167;01mKeyError\u001b[39;00m \u001b[38;5;28;01mas\u001b[39;00m err:\n",
      "File \u001b[1;32m~\\anaconda3\\Lib\\site-packages\\pandas\\_libs\\index.pyx:147\u001b[0m, in \u001b[0;36mpandas._libs.index.IndexEngine.get_loc\u001b[1;34m()\u001b[0m\n",
      "File \u001b[1;32m~\\anaconda3\\Lib\\site-packages\\pandas\\_libs\\index.pyx:176\u001b[0m, in \u001b[0;36mpandas._libs.index.IndexEngine.get_loc\u001b[1;34m()\u001b[0m\n",
      "File \u001b[1;32mpandas\\_libs\\hashtable_class_helper.pxi:7080\u001b[0m, in \u001b[0;36mpandas._libs.hashtable.PyObjectHashTable.get_item\u001b[1;34m()\u001b[0m\n",
      "File \u001b[1;32mpandas\\_libs\\hashtable_class_helper.pxi:7088\u001b[0m, in \u001b[0;36mpandas._libs.hashtable.PyObjectHashTable.get_item\u001b[1;34m()\u001b[0m\n",
      "\u001b[1;31mKeyError\u001b[0m: 'Polarity_Rating'",
      "\nThe above exception was the direct cause of the following exception:\n",
      "\u001b[1;31mKeyError\u001b[0m                                  Traceback (most recent call last)",
      "Cell \u001b[1;32mIn[50], line 1\u001b[0m\n\u001b[1;32m----> 1\u001b[0m df_Positive \u001b[38;5;241m=\u001b[39m df[df[\u001b[38;5;124m'\u001b[39m\u001b[38;5;124mPolarity_Rating\u001b[39m\u001b[38;5;124m'\u001b[39m] \u001b[38;5;241m==\u001b[39m \u001b[38;5;124m'\u001b[39m\u001b[38;5;124mPositive\u001b[39m\u001b[38;5;124m'\u001b[39m][\u001b[38;5;241m0\u001b[39m:\u001b[38;5;241m1\u001b[39m]\n\u001b[0;32m      2\u001b[0m df_Neutral \u001b[38;5;241m=\u001b[39m df[df[\u001b[38;5;124m'\u001b[39m\u001b[38;5;124mPolarity_Rating\u001b[39m\u001b[38;5;124m'\u001b[39m] \u001b[38;5;241m==\u001b[39m \u001b[38;5;124m'\u001b[39m\u001b[38;5;124mNeutral\u001b[39m\u001b[38;5;124m'\u001b[39m]\n\u001b[0;32m      3\u001b[0m df_Negative \u001b[38;5;241m=\u001b[39m df[df[\u001b[38;5;124m'\u001b[39m\u001b[38;5;124mPolarity_Rating\u001b[39m\u001b[38;5;124m'\u001b[39m] \u001b[38;5;241m==\u001b[39m \u001b[38;5;124m'\u001b[39m\u001b[38;5;124mNegative\u001b[39m\u001b[38;5;124m'\u001b[39m]\n",
      "File \u001b[1;32m~\\anaconda3\\Lib\\site-packages\\pandas\\core\\frame.py:3761\u001b[0m, in \u001b[0;36mDataFrame.__getitem__\u001b[1;34m(self, key)\u001b[0m\n\u001b[0;32m   3759\u001b[0m \u001b[38;5;28;01mif\u001b[39;00m \u001b[38;5;28mself\u001b[39m\u001b[38;5;241m.\u001b[39mcolumns\u001b[38;5;241m.\u001b[39mnlevels \u001b[38;5;241m>\u001b[39m \u001b[38;5;241m1\u001b[39m:\n\u001b[0;32m   3760\u001b[0m     \u001b[38;5;28;01mreturn\u001b[39;00m \u001b[38;5;28mself\u001b[39m\u001b[38;5;241m.\u001b[39m_getitem_multilevel(key)\n\u001b[1;32m-> 3761\u001b[0m indexer \u001b[38;5;241m=\u001b[39m \u001b[38;5;28mself\u001b[39m\u001b[38;5;241m.\u001b[39mcolumns\u001b[38;5;241m.\u001b[39mget_loc(key)\n\u001b[0;32m   3762\u001b[0m \u001b[38;5;28;01mif\u001b[39;00m is_integer(indexer):\n\u001b[0;32m   3763\u001b[0m     indexer \u001b[38;5;241m=\u001b[39m [indexer]\n",
      "File \u001b[1;32m~\\anaconda3\\Lib\\site-packages\\pandas\\core\\indexes\\base.py:3655\u001b[0m, in \u001b[0;36mIndex.get_loc\u001b[1;34m(self, key)\u001b[0m\n\u001b[0;32m   3653\u001b[0m     \u001b[38;5;28;01mreturn\u001b[39;00m \u001b[38;5;28mself\u001b[39m\u001b[38;5;241m.\u001b[39m_engine\u001b[38;5;241m.\u001b[39mget_loc(casted_key)\n\u001b[0;32m   3654\u001b[0m \u001b[38;5;28;01mexcept\u001b[39;00m \u001b[38;5;167;01mKeyError\u001b[39;00m \u001b[38;5;28;01mas\u001b[39;00m err:\n\u001b[1;32m-> 3655\u001b[0m     \u001b[38;5;28;01mraise\u001b[39;00m \u001b[38;5;167;01mKeyError\u001b[39;00m(key) \u001b[38;5;28;01mfrom\u001b[39;00m \u001b[38;5;21;01merr\u001b[39;00m\n\u001b[0;32m   3656\u001b[0m \u001b[38;5;28;01mexcept\u001b[39;00m \u001b[38;5;167;01mTypeError\u001b[39;00m:\n\u001b[0;32m   3657\u001b[0m     \u001b[38;5;66;03m# If we have a listlike key, _check_indexing_error will raise\u001b[39;00m\n\u001b[0;32m   3658\u001b[0m     \u001b[38;5;66;03m#  InvalidIndexError. Otherwise we fall through and re-raise\u001b[39;00m\n\u001b[0;32m   3659\u001b[0m     \u001b[38;5;66;03m#  the TypeError.\u001b[39;00m\n\u001b[0;32m   3660\u001b[0m     \u001b[38;5;28mself\u001b[39m\u001b[38;5;241m.\u001b[39m_check_indexing_error(key)\n",
      "\u001b[1;31mKeyError\u001b[0m: 'Polarity_Rating'"
     ]
    }
   ],
   "source": [
    "df_Positive = df[df['Polarity_Rating'] == 'Positive'][0:1]\n",
    "df_Neutral = df[df['Polarity_Rating'] == 'Neutral']\n",
    "df_Negative = df[df['Polarity_Rating'] == 'Negative']"
   ]
  },
  {
   "cell_type": "code",
   "execution_count": null,
   "id": "263784cb",
   "metadata": {},
   "outputs": [],
   "source": [
    "# Assuming 'data' is a pandas DataFrame containing your numerical data\n",
    "data = pd.DataFrame({\n",
    "    'Shape__Length_NZ': [0.075140, 33.823079, 66.855330, 132.033852, 5677.287194]\n",
    "})\n",
    "\n",
    "# Define sentiment categories based on quartiles\n",
    "data['Sentiment'] = pd.cut(data['Shape__Length_NZ'], bins=[-float('inf'), 33.823079, 66.855330, 132.033852, float('inf')], labels=['Very Negative', 'Negative', 'Neutral', 'Positive'])\n",
    "\n",
    "# Now 'Sentiment' column contains sentiment labels for each numerical value\n",
    "\n",
    "# Perform sentiment analysis (this step depends on your specific requirements)\n",
    "\n",
    "# For demonstration, let's just print the sentiment distribution\n",
    "sentiment_distribution = data['Sentiment'].value_counts()\n",
    "print(sentiment_distribution)"
   ]
  },
  {
   "cell_type": "code",
   "execution_count": null,
   "id": "ec00cf87",
   "metadata": {},
   "outputs": [],
   "source": [
    "def analyze_Length_sentiment(Shape__Length IE):\n",
    "       text = text.lower() \n",
    "        return text\n",
    "df['Length_Sentiment'] = df['Shape__Length IE'].apply(analyze_Length_sentiment)\n",
    "df.head()    \n",
    "     \n",
    "    "
   ]
  },
  {
   "cell_type": "code",
   "execution_count": null,
   "id": "ddcd684b",
   "metadata": {},
   "outputs": [],
   "source": [
    "df_Positive = df[df['Polarity_Rating'] == 'Positive'][0:1]\n",
    "df_Neutral = df[df['Polarity_Rating'] == 'Neutral']\n",
    "df_Negative = df[df['Polarity_Rating'] == 'Negative']"
   ]
  },
  {
   "cell_type": "code",
   "execution_count": null,
   "id": "d466a7a0",
   "metadata": {},
   "outputs": [],
   "source": []
  },
  {
   "cell_type": "code",
   "execution_count": null,
   "id": "0f80c542",
   "metadata": {},
   "outputs": [],
   "source": [
    "# Mean\n",
    "numeric_data = df[\"Year\"]\n",
    "if numeric_data.dtype == 'int64' or numeric_data.dtype == 'float64':\n",
    "    mean = numeric_data.mean()\n",
    "    mean_rounded = round(mean, 2)\n",
    "    print('Mean:', mean_rounded)\n",
    "else:\n",
    "    print(\"The selected column does not contain numeric data\")\n",
    "\n",
    "    \n",
    "def analyze_seat_belt_sentiment(text):\n",
    "    # Convert the text to lowercase for easier matching\n",
    "    text = text.lower()\n",
    "    \n",
    "    # Assign sentiment based on the content of the text\n",
    "    if \"in use\" in text:\n",
    "        return \"Positive\"\n",
    "    elif \"not in use\" in text or \"unknown\" in text or \"not stated\" in text:\n",
    "        return \"Negative\"\n",
    "    else:\n",
    "        return \"Neutral\"\n",
    "\n",
    "# Apply sentiment analysis function to each row in the \"Seat Belt\" column\n",
    "\n",
    "\n",
    "df['SeatBelt_Sentiment'] = df['Seat Belt'].apply(analyze_seat_belt_sentiment)\n",
    "df.head()    \n",
    " \n",
    "    \n",
    "    \n",
    "    median = home[\"National\"].median()\n",
    "print('Median:', median)"
   ]
  },
  {
   "cell_type": "code",
   "execution_count": null,
   "id": "1b8a1cad",
   "metadata": {},
   "outputs": [],
   "source": []
  },
  {
   "cell_type": "code",
   "execution_count": null,
   "id": "9ccadb4f",
   "metadata": {},
   "outputs": [],
   "source": []
  },
  {
   "cell_type": "code",
   "execution_count": null,
   "id": "dcc9d94e",
   "metadata": {},
   "outputs": [],
   "source": []
  },
  {
   "cell_type": "code",
   "execution_count": null,
   "id": "145590e8",
   "metadata": {},
   "outputs": [],
   "source": []
  },
  {
   "cell_type": "code",
   "execution_count": 44,
   "id": "bc00270f",
   "metadata": {},
   "outputs": [
    {
     "name": "stdout",
     "output_type": "stream",
     "text": [
      "   Shape__Length_NZ Sentiment\n",
      "0       5636.000000  Positive\n",
      "1        117.847005   Neutral\n",
      "2        184.526130   Neutral\n",
      "3          0.075140   Neutral\n",
      "4         33.823079   Neutral\n",
      "5         66.855330   Neutral\n",
      "6        132.033852   Neutral\n",
      "7       5677.287194  Positive\n",
      "117.85\n",
      "66.85532970220001\n"
     ]
    }
   ],
   "source": [
    "# Sample data\n",
    "dfNZ = {\n",
    "    'Shape__Length_NZ': [5636.000000, 117.847005, 184.526130, 0.075140, 33.823079, 66.855330, 132.033852, 5677.287194]\n",
    "}\n",
    "\n",
    "# Create DataFrame from the data dictionary\n",
    "dfNZ = pd.DataFrame(dfNZ)\n",
    "\n",
    "# Calculate the mean of the numerical data\n",
    "mean_value = dfNZ['Shape__Length_NZ'].mean()\n",
    "\n",
    "# Define thresholds for sentiment categories\n",
    "\n",
    "positive_threshold = mean_value + dfNZ['Shape__Length_NZ'].std()  # Positive above mean + std\n",
    "negative_threshold = mean_value - dfNZ['Shape__Length_NZ'].std()  # Negative below mean - std\n",
    "\n",
    "\n",
    "# Create a new column with categorical data based on thresholds\n",
    "dfNZ['Sentiment'] = pd.cut(dfNZ['Shape__Length_NZ'], \n",
    "                          bins=[-float('inf'), negative_threshold, positive_threshold, float('inf')],\n",
    "                          labels=['Negative', 'Neutral', 'Positive'])\n",
    "\n",
    "# Print the DataFrame with the new column\n",
    "print(dfNZ)\n",
    "\n",
    "print(round(mean_adm, 2))\n",
    "print(median)"
   ]
  },
  {
   "cell_type": "code",
   "execution_count": 37,
   "id": "0a0cbaf8",
   "metadata": {},
   "outputs": [
    {
     "name": "stdout",
     "output_type": "stream",
     "text": [
      "   Shape__Length_NZ Sentiment\n",
      "0       5636.000000  Positive\n",
      "1        117.847005  Negative\n",
      "2        184.526130  Negative\n",
      "3          0.075140  Negative\n",
      "4         33.823079  Negative\n",
      "5         66.855330  Negative\n",
      "6        132.033852  Negative\n",
      "7       5677.287194  Positive\n"
     ]
    }
   ],
   "source": [
    "# Sample data\n",
    "dfNZ = {\n",
    "    'Shape__Length_NZ': [5636.000000, 117.847005, 184.526130, 0.075140, 33.823079, 66.855330, 132.033852, 5677.287194]\n",
    "}\n",
    "\n",
    "# Create DataFrame from the data dictionary\n",
    "df = pd.DataFrame(dfNZ)\n",
    "\n",
    "# Rename the index labels if needed\n",
    "# df.index = ['Row1', 'Row2', 'Row3', 'Row4', 'Row5', 'Row6', 'Row7', 'Row8']\n",
    "\n",
    "# Calculate the mean of the numerical data\n",
    "mean_value = df['Shape__Length_NZ'].mean()\n",
    "std_value = df['Shape__Length_NZ'].std()\n",
    "min_value = df['Shape__Length_NZ'].min()\n",
    "\n",
    "# Define thresholds for sentiment categories\n",
    "positive_threshold = mean_value + df['Shape__Length_NZ'].std()  # Positive above mean + std\n",
    "negative_threshold = mean_value - df['Shape__Length_NZ'].min()  # Negative below mean - std\n",
    "\n",
    "# Create a new column with categorical data based on thresholds\n",
    "df['Sentiment'] = pd.cut(df['Shape__Length_NZ'], \n",
    "                          bins=[-float('inf'), negative_threshold, positive_threshold, float('inf')],\n",
    "                          labels=['Negative', 'Neutral', 'Positive'])\n",
    "\n",
    "# Print the DataFrame with the new column\n",
    "print(df)"
   ]
  },
  {
   "cell_type": "code",
   "execution_count": null,
   "id": "cbf2f81a",
   "metadata": {},
   "outputs": [],
   "source": [
    "dfNZ = {\n",
    "    'Shape__Length_NZ': [5636.000000, 117.847005, 184.526130, 0.075140, 33.823079, 66.855330, 132.033852, 5677.287194]\n",
    "}\n",
    "\n",
    "# Create DataFrame from the data dictionary\n",
    "df = pd.DataFrame(dfNZ)\n",
    "\n",
    "# Rename the index labels if needed\n",
    "# df.index = ['Row1', 'Row2', 'Row3', 'Row4', 'Row5', 'Row6', 'Row7', 'Row8']\n",
    "\n",
    "# Calculate the mean of the numerical data\n",
    "mean_value = df['Shape__Length_NZ'].mean()\n",
    "\n",
    "# Define thresholds for sentiment categories\n",
    "positive_threshold = mean_value + df['Shape__Length_NZ'].std()  # Positive above mean + std\n",
    "negative_threshold = mean_value - df['Shape__Length_NZ'].std()  # Negative below mean - std\n",
    "\n",
    "# Create a new column with categorical data based on thresholds\n",
    "df['Sentiment'] = pd.cut(df['Shape__Length_NZ'], \n",
    "                          bins=[-float('inf'), negative_threshold, positive_threshold, float('inf')],\n",
    "                          labels=['Negative', 'Neutral', 'Positive'])\n",
    "\n",
    "# Print the DataFrame with the new column\n",
    "print(df)"
   ]
  },
  {
   "cell_type": "code",
   "execution_count": 32,
   "id": "82662637",
   "metadata": {},
   "outputs": [
    {
     "ename": "KeyError",
     "evalue": "'Shape__Length NZ'",
     "output_type": "error",
     "traceback": [
      "\u001b[1;31m---------------------------------------------------------------------------\u001b[0m",
      "\u001b[1;31mKeyError\u001b[0m                                  Traceback (most recent call last)",
      "File \u001b[1;32m~\\anaconda3\\Lib\\site-packages\\pandas\\core\\indexes\\base.py:3653\u001b[0m, in \u001b[0;36mIndex.get_loc\u001b[1;34m(self, key)\u001b[0m\n\u001b[0;32m   3652\u001b[0m \u001b[38;5;28;01mtry\u001b[39;00m:\n\u001b[1;32m-> 3653\u001b[0m     \u001b[38;5;28;01mreturn\u001b[39;00m \u001b[38;5;28mself\u001b[39m\u001b[38;5;241m.\u001b[39m_engine\u001b[38;5;241m.\u001b[39mget_loc(casted_key)\n\u001b[0;32m   3654\u001b[0m \u001b[38;5;28;01mexcept\u001b[39;00m \u001b[38;5;167;01mKeyError\u001b[39;00m \u001b[38;5;28;01mas\u001b[39;00m err:\n",
      "File \u001b[1;32m~\\anaconda3\\Lib\\site-packages\\pandas\\_libs\\index.pyx:147\u001b[0m, in \u001b[0;36mpandas._libs.index.IndexEngine.get_loc\u001b[1;34m()\u001b[0m\n",
      "File \u001b[1;32m~\\anaconda3\\Lib\\site-packages\\pandas\\_libs\\index.pyx:176\u001b[0m, in \u001b[0;36mpandas._libs.index.IndexEngine.get_loc\u001b[1;34m()\u001b[0m\n",
      "File \u001b[1;32mpandas\\_libs\\hashtable_class_helper.pxi:7080\u001b[0m, in \u001b[0;36mpandas._libs.hashtable.PyObjectHashTable.get_item\u001b[1;34m()\u001b[0m\n",
      "File \u001b[1;32mpandas\\_libs\\hashtable_class_helper.pxi:7088\u001b[0m, in \u001b[0;36mpandas._libs.hashtable.PyObjectHashTable.get_item\u001b[1;34m()\u001b[0m\n",
      "\u001b[1;31mKeyError\u001b[0m: 'Shape__Length NZ'",
      "\nThe above exception was the direct cause of the following exception:\n",
      "\u001b[1;31mKeyError\u001b[0m                                  Traceback (most recent call last)",
      "Cell \u001b[1;32mIn[32], line 5\u001b[0m\n\u001b[0;32m      1\u001b[0m \u001b[38;5;66;03m# Rename the index labels if needed\u001b[39;00m\n\u001b[0;32m      2\u001b[0m \u001b[38;5;66;03m# df.index = ['Row1', 'Row2', 'Row3', 'Row4', 'Row5', 'Row6', 'Row7', 'Row8']\u001b[39;00m\n\u001b[0;32m      3\u001b[0m \n\u001b[0;32m      4\u001b[0m \u001b[38;5;66;03m# Calculate the mean of the numerical data\u001b[39;00m\n\u001b[1;32m----> 5\u001b[0m mean_value \u001b[38;5;241m=\u001b[39m dfNZ[\u001b[38;5;124m'\u001b[39m\u001b[38;5;124mShape__Length NZ\u001b[39m\u001b[38;5;124m'\u001b[39m]\u001b[38;5;241m.\u001b[39mmean()\n",
      "File \u001b[1;32m~\\anaconda3\\Lib\\site-packages\\pandas\\core\\frame.py:3761\u001b[0m, in \u001b[0;36mDataFrame.__getitem__\u001b[1;34m(self, key)\u001b[0m\n\u001b[0;32m   3759\u001b[0m \u001b[38;5;28;01mif\u001b[39;00m \u001b[38;5;28mself\u001b[39m\u001b[38;5;241m.\u001b[39mcolumns\u001b[38;5;241m.\u001b[39mnlevels \u001b[38;5;241m>\u001b[39m \u001b[38;5;241m1\u001b[39m:\n\u001b[0;32m   3760\u001b[0m     \u001b[38;5;28;01mreturn\u001b[39;00m \u001b[38;5;28mself\u001b[39m\u001b[38;5;241m.\u001b[39m_getitem_multilevel(key)\n\u001b[1;32m-> 3761\u001b[0m indexer \u001b[38;5;241m=\u001b[39m \u001b[38;5;28mself\u001b[39m\u001b[38;5;241m.\u001b[39mcolumns\u001b[38;5;241m.\u001b[39mget_loc(key)\n\u001b[0;32m   3762\u001b[0m \u001b[38;5;28;01mif\u001b[39;00m is_integer(indexer):\n\u001b[0;32m   3763\u001b[0m     indexer \u001b[38;5;241m=\u001b[39m [indexer]\n",
      "File \u001b[1;32m~\\anaconda3\\Lib\\site-packages\\pandas\\core\\indexes\\base.py:3655\u001b[0m, in \u001b[0;36mIndex.get_loc\u001b[1;34m(self, key)\u001b[0m\n\u001b[0;32m   3653\u001b[0m     \u001b[38;5;28;01mreturn\u001b[39;00m \u001b[38;5;28mself\u001b[39m\u001b[38;5;241m.\u001b[39m_engine\u001b[38;5;241m.\u001b[39mget_loc(casted_key)\n\u001b[0;32m   3654\u001b[0m \u001b[38;5;28;01mexcept\u001b[39;00m \u001b[38;5;167;01mKeyError\u001b[39;00m \u001b[38;5;28;01mas\u001b[39;00m err:\n\u001b[1;32m-> 3655\u001b[0m     \u001b[38;5;28;01mraise\u001b[39;00m \u001b[38;5;167;01mKeyError\u001b[39;00m(key) \u001b[38;5;28;01mfrom\u001b[39;00m \u001b[38;5;21;01merr\u001b[39;00m\n\u001b[0;32m   3656\u001b[0m \u001b[38;5;28;01mexcept\u001b[39;00m \u001b[38;5;167;01mTypeError\u001b[39;00m:\n\u001b[0;32m   3657\u001b[0m     \u001b[38;5;66;03m# If we have a listlike key, _check_indexing_error will raise\u001b[39;00m\n\u001b[0;32m   3658\u001b[0m     \u001b[38;5;66;03m#  InvalidIndexError. Otherwise we fall through and re-raise\u001b[39;00m\n\u001b[0;32m   3659\u001b[0m     \u001b[38;5;66;03m#  the TypeError.\u001b[39;00m\n\u001b[0;32m   3660\u001b[0m     \u001b[38;5;28mself\u001b[39m\u001b[38;5;241m.\u001b[39m_check_indexing_error(key)\n",
      "\u001b[1;31mKeyError\u001b[0m: 'Shape__Length NZ'"
     ]
    }
   ],
   "source": [
    "# Rename the index labels if needed\n",
    "# df.index = ['Row1', 'Row2', 'Row3', 'Row4', 'Row5', 'Row6', 'Row7', 'Row8']\n",
    "\n",
    "# Calculate the mean of the numerical data\n",
    "mean_value = dfNZ['Shape__Length NZ'].mean()\n",
    "# Define thresholds for sentiment categories\n",
    "positive_threshold = mean_value + dfNZ['Shape__Length NZ'].std()  # Positive above mean + std\n",
    "negative_threshold = mean_value - dfNZ['Shape__Length NZ'].std()  # Negative below mean - std\n",
    "\n",
    "# Create a new column with categorical data based on thresholds\n",
    "dfNZ['Sentiment'] = pd.cut(dfNZ['Shape__Length_NZ'], \n",
    "                          bins=[-float('inf'), negative_threshold, positive_threshold, float('inf')],\n",
    "                          labels=['Negative', 'Neutral', 'Positive'])\n",
    "\n",
    "# Print the DataFrame with the new column\n",
    "print(dfNZ)\n"
   ]
  },
  {
   "cell_type": "code",
   "execution_count": null,
   "id": "29d9ffa3",
   "metadata": {},
   "outputs": [],
   "source": [
    "dfNZ['Shape__Length NZ']"
   ]
  },
  {
   "cell_type": "code",
   "execution_count": null,
   "id": "0c0ecd65",
   "metadata": {},
   "outputs": [],
   "source": []
  },
  {
   "cell_type": "code",
   "execution_count": null,
   "id": "835d70a0",
   "metadata": {},
   "outputs": [],
   "source": []
  },
  {
   "cell_type": "code",
   "execution_count": null,
   "id": "da1139a6",
   "metadata": {},
   "outputs": [],
   "source": []
  },
  {
   "cell_type": "code",
   "execution_count": null,
   "id": "85a41aed",
   "metadata": {},
   "outputs": [],
   "source": []
  },
  {
   "cell_type": "code",
   "execution_count": null,
   "id": "dc9ce072",
   "metadata": {},
   "outputs": [],
   "source": []
  },
  {
   "cell_type": "code",
   "execution_count": null,
   "id": "c9c2c8a4",
   "metadata": {},
   "outputs": [],
   "source": []
  },
  {
   "cell_type": "code",
   "execution_count": null,
   "id": "ff914e3e",
   "metadata": {},
   "outputs": [],
   "source": []
  },
  {
   "cell_type": "code",
   "execution_count": 22,
   "id": "9682cb77",
   "metadata": {},
   "outputs": [
    {
     "name": "stdout",
     "output_type": "stream",
     "text": [
      "Sentiment\n",
      "Very Negative    2\n",
      "Negative         1\n",
      "Neutral          1\n",
      "Positive         1\n",
      "Name: count, dtype: int64\n"
     ]
    }
   ],
   "source": [
    "# Assuming 'data' is a pandas DataFrame containing your numerical data\n",
    "data = pd.DataFrame({\n",
    "    'Shape__Length_NZ': [0.075140, 33.823079, 66.855330, 132.033852, 5677.287194]\n",
    "})\n",
    "\n",
    "# Define sentiment categories based on quartiles\n",
    "data['Sentiment'] = pd.cut(data['Shape__Length_NZ'], bins=[-float('inf'), 33.823079, 66.855330, 132.033852, float('inf')], labels=['Very Negative', 'Negative', 'Neutral', 'Positive'])\n",
    "\n",
    "# Now 'Sentiment' column contains sentiment labels for each numerical value\n",
    "\n",
    "# Perform sentiment analysis (this step depends on your specific requirements)\n",
    "\n",
    "# For demonstration, let's just print the sentiment distribution\n",
    "sentiment_distribution = data['Sentiment'].value_counts()\n",
    "print(sentiment_distribution)"
   ]
  },
  {
   "cell_type": "code",
   "execution_count": 24,
   "id": "8114730b",
   "metadata": {},
   "outputs": [
    {
     "name": "stdout",
     "output_type": "stream",
     "text": [
      "{'min': 'Neutral', '25%': 'Neutral', '50%': 'Neutral', '75%': 'Neutral', 'max': 'Positive'}\n"
     ]
    }
   ],
   "source": [
    "# Sample numerical data\n",
    "data = {\n",
    "    'count': 5636.000000,\n",
    "    'mean': 117.847005,\n",
    "    'std': 184.526130,\n",
    "    'min': 0.075140,\n",
    "    '25%': 33.823079,\n",
    "    '50%': 66.855330,\n",
    "    '75%': 132.033852,\n",
    "    'max': 5677.287194\n",
    "}\n",
    "\n",
    "# Define thresholds for sentiment categories\n",
    "neutral_threshold = data['mean']  # Neutral around the mean\n",
    "positive_threshold = data['mean'] + data['std']  # Positive above mean + std\n",
    "negative_threshold = data['mean'] - data['std']  # Negative below mean - std\n",
    "\n"
   ]
  },
  {
   "cell_type": "code",
   "execution_count": 30,
   "id": "0848dabe",
   "metadata": {},
   "outputs": [
    {
     "ename": "ValueError",
     "evalue": "The truth value of an array with more than one element is ambiguous. Use a.any() or a.all()",
     "output_type": "error",
     "traceback": [
      "\u001b[1;31m---------------------------------------------------------------------------\u001b[0m",
      "\u001b[1;31mValueError\u001b[0m                                Traceback (most recent call last)",
      "Cell \u001b[1;32mIn[30], line 6\u001b[0m\n\u001b[0;32m      4\u001b[0m \u001b[38;5;28;01mif\u001b[39;00m key \u001b[38;5;129;01min\u001b[39;00m [\u001b[38;5;124m'\u001b[39m\u001b[38;5;124mcount\u001b[39m\u001b[38;5;124m'\u001b[39m, \u001b[38;5;124m'\u001b[39m\u001b[38;5;124mmean\u001b[39m\u001b[38;5;124m'\u001b[39m, \u001b[38;5;124m'\u001b[39m\u001b[38;5;124mstd\u001b[39m\u001b[38;5;124m'\u001b[39m]:  \u001b[38;5;66;03m# Skip non-data keys\u001b[39;00m\n\u001b[0;32m      5\u001b[0m     \u001b[38;5;28;01mcontinue\u001b[39;00m\n\u001b[1;32m----> 6\u001b[0m \u001b[38;5;28;01mif\u001b[39;00m value \u001b[38;5;241m>\u001b[39m\u001b[38;5;241m=\u001b[39m positive_threshold:\n\u001b[0;32m      7\u001b[0m     sentiment_mapping[key] \u001b[38;5;241m=\u001b[39m \u001b[38;5;124m'\u001b[39m\u001b[38;5;124mPositive\u001b[39m\u001b[38;5;124m'\u001b[39m\n\u001b[0;32m      8\u001b[0m \u001b[38;5;28;01melif\u001b[39;00m value \u001b[38;5;241m<\u001b[39m\u001b[38;5;241m=\u001b[39m negative_threshold:\n",
      "\u001b[1;31mValueError\u001b[0m: The truth value of an array with more than one element is ambiguous. Use a.any() or a.all()"
     ]
    }
   ],
   "source": [
    "# Map numerical values to sentiment categories\n",
    "sentiment_mapping = {}\n",
    "for key, value in data.items():\n",
    "    if key in ['count', 'mean', 'std']:  # Skip non-data keys\n",
    "        continue\n",
    "    if value >= positive_threshold:\n",
    "        sentiment_mapping[key] = 'Positive'\n",
    "    elif value <= negative_threshold:\n",
    "        sentiment_mapping[key] = 'Negative'\n",
    "    else:\n",
    "        sentiment_mapping[key] = 'Neutral'\n",
    "\n"
   ]
  },
  {
   "cell_type": "code",
   "execution_count": null,
   "id": "bdab332e",
   "metadata": {},
   "outputs": [],
   "source": [
    "# Print or use sentiment mapping\n",
    "print(sentiment_mapping)"
   ]
  },
  {
   "cell_type": "code",
   "execution_count": null,
   "id": "e16d31ef",
   "metadata": {},
   "outputs": [],
   "source": []
  },
  {
   "cell_type": "code",
   "execution_count": null,
   "id": "df639e8d",
   "metadata": {},
   "outputs": [],
   "source": []
  },
  {
   "cell_type": "code",
   "execution_count": null,
   "id": "e91175a6",
   "metadata": {},
   "outputs": [],
   "source": []
  },
  {
   "cell_type": "code",
   "execution_count": 29,
   "id": "c046c730",
   "metadata": {},
   "outputs": [
    {
     "data": {
      "text/html": [
       "<div>\n",
       "<style scoped>\n",
       "    .dataframe tbody tr th:only-of-type {\n",
       "        vertical-align: middle;\n",
       "    }\n",
       "\n",
       "    .dataframe tbody tr th {\n",
       "        vertical-align: top;\n",
       "    }\n",
       "\n",
       "    .dataframe thead th {\n",
       "        text-align: right;\n",
       "    }\n",
       "</style>\n",
       "<table border=\"1\" class=\"dataframe\">\n",
       "  <thead>\n",
       "    <tr style=\"text-align: right;\">\n",
       "      <th></th>\n",
       "      <th>Shape__Length_NZ</th>\n",
       "      <th>Sentiment</th>\n",
       "    </tr>\n",
       "  </thead>\n",
       "  <tbody>\n",
       "    <tr>\n",
       "      <th>0</th>\n",
       "      <td>5636.000000</td>\n",
       "      <td>Positive</td>\n",
       "    </tr>\n",
       "    <tr>\n",
       "      <th>1</th>\n",
       "      <td>117.847005</td>\n",
       "      <td>Neutral</td>\n",
       "    </tr>\n",
       "    <tr>\n",
       "      <th>2</th>\n",
       "      <td>184.526130</td>\n",
       "      <td>Neutral</td>\n",
       "    </tr>\n",
       "    <tr>\n",
       "      <th>3</th>\n",
       "      <td>0.075140</td>\n",
       "      <td>Neutral</td>\n",
       "    </tr>\n",
       "    <tr>\n",
       "      <th>4</th>\n",
       "      <td>33.823079</td>\n",
       "      <td>Neutral</td>\n",
       "    </tr>\n",
       "  </tbody>\n",
       "</table>\n",
       "</div>"
      ],
      "text/plain": [
       "   Shape__Length_NZ Sentiment\n",
       "0       5636.000000  Positive\n",
       "1        117.847005   Neutral\n",
       "2        184.526130   Neutral\n",
       "3          0.075140   Neutral\n",
       "4         33.823079   Neutral"
      ]
     },
     "execution_count": 29,
     "metadata": {},
     "output_type": "execute_result"
    }
   ],
   "source": [
    "# numerical data\n",
    "dataNZ = {\n",
    "    'Shape__Length_NZ': [5636.000000, 117.847005, 184.526130, 0.075140, 33.823079, 66.855330, 132.033852, 5677.287194]\n",
    "}\n",
    "\n",
    "# Create DataFrame from the data dictionary\n",
    "dfNZ = pd.DataFrame(dataNZ, columns=['Shape__Length_NZ'])\n",
    "\n",
    "# Define thresholds for sentiment categories\n",
    "neutral_threshold = df['Shape__Length_NZ'].mean()  # Neutral around the mean\n",
    "positive_threshold = df['Shape__Length_NZ'].mean() + dfNZ['Shape__Length_NZ'].std()  # Positive above mean + std\n",
    "negative_threshold = df['Shape__Length_NZ'].mean() - dfNZ['Shape__Length_NZ'].std()  # Negative below mean - std\n",
    "\n",
    "# Map numerical values to sentiment categories\n",
    "sentiment_mapping = []\n",
    "for value in dfNZ['Shape__Length_NZ']:\n",
    "    if value >= positive_threshold:\n",
    "        sentiment_mapping.append('Positive')\n",
    "    elif value <= negative_threshold:\n",
    "        sentiment_mapping.append('Negative')\n",
    "    else:\n",
    "        sentiment_mapping.append('Neutral')\n",
    "\n",
    "# Add sentiment column to DataFrame\n",
    "dfNZ['Sentiment'] = sentiment_mapping\n",
    "\n",
    "# Print DataFrame with the new Sentiment column\n",
    "dfNZ.head()"
   ]
  },
  {
   "cell_type": "code",
   "execution_count": 67,
   "id": "41e7732c",
   "metadata": {},
   "outputs": [
    {
     "name": "stdout",
     "output_type": "stream",
     "text": [
      "Flag of New Zealand: 🇳🇿\n",
      "Flag of Ireland: 🇮🇪\n"
     ]
    }
   ],
   "source": []
  },
  {
   "cell_type": "code",
   "execution_count": null,
   "id": "6f1b46a4",
   "metadata": {},
   "outputs": [],
   "source": [
    "def analyze_seat_belt_sentiment(text):\n",
    "    # Convert the text to lowercase for easier matching\n",
    "    text = text.lower()\n",
    "    \n",
    "    # Assign sentiment based on the content of the text\n",
    "    if \"in use\" in text:\n",
    "        return \"Positive\"\n",
    "    elif \"not in use\" in text or \"unknown\" in text or \"not stated\" in text:\n",
    "        return \"Negative\"\n",
    "    else:\n",
    "        return \"Neutral\"\n",
    "\n",
    "# Apply sentiment analysis function to each row in the \"Seat Belt\" column\n",
    "df['SeatBelt_Sentiment'] = df['Seat Belt'].apply(analyze_seat_belt_sentiment)\n",
    "df.head()"
   ]
  },
  {
   "cell_type": "code",
   "execution_count": null,
   "id": "80bcf9b8",
   "metadata": {},
   "outputs": [],
   "source": [
    "import pandas as pd\n",
    "\n",
    "# Sample numerical data\n",
    "data = {\n",
    "    'Shape__Length_NZ': [5636.000000, 117.847005, 184.526130, 0.075140, 33.823079, 66.855330, 132.033852, 5677.287194]\n",
    "}\n",
    "\n",
    "# Create DataFrame from the data dictionary\n",
    "df = pd.DataFrame(data, columns=['Shape__Length_NZ'])\n",
    "\n",
    "# Define thresholds for sentiment categories\n",
    "neutral_threshold = df['Shape__Length_NZ'].mean()  # Neutral around the mean\n",
    "positive_threshold = df['Shape__Length_NZ'].mean() + df['Shape__Length_NZ'].std()  # Positive above mean + std\n",
    "negative_threshold = df['Shape__Length_NZ'].mean() - df['Shape__Length_NZ'].std()  # Negative below mean - std\n",
    "\n",
    "# Map numerical values to sentiment categories\n",
    "sentiment_mapping = []\n",
    "for value in df['Shape__Length_NZ']:\n",
    "    if value >= positive_threshold:\n",
    "        sentiment_mapping.append('Positive')\n",
    "    elif value <= negative_threshold:\n",
    "        sentiment_mapping.append('Negative')\n",
    "    else:\n",
    "        sentiment_mapping.append('Neutral')\n",
    "\n",
    "# Add sentiment column to DataFrame\n",
    "df['Sentiment'] = sentiment_mapping\n",
    "\n",
    "# Print DataFrame with the new Sentiment column\n",
    "print(df)"
   ]
  },
  {
   "cell_type": "code",
   "execution_count": null,
   "id": "bd8aa540",
   "metadata": {},
   "outputs": [],
   "source": []
  },
  {
   "cell_type": "code",
   "execution_count": null,
   "id": "425fe0f7",
   "metadata": {},
   "outputs": [],
   "source": []
  },
  {
   "cell_type": "code",
   "execution_count": null,
   "id": "415a4d64",
   "metadata": {},
   "outputs": [],
   "source": [
    "# Assuming 'data' is a pandas DataFrame containing your numerical data\n",
    "data = pd.DataFrame({\n",
    "    'Shape__Length_NZ': [0.075140, 33.823079, 66.855330, 132.033852, 5677.287194]\n",
    "})\n",
    "\n",
    "# Define sentiment categories based on quartiles\n",
    "data['Sentiment'] = pd.cut(data['Shape__Length_NZ'], bins=[-float('inf'), 33.823079, 66.855330, 132.033852, float('inf')], labels=['Very Negative', 'Negative', 'Neutral', 'Positive'])\n",
    "\n",
    "# Now 'Sentiment' column contains sentiment labels for each numerical value\n",
    "\n",
    "# Perform sentiment analysis (this step depends on your specific requirements)\n",
    "\n",
    "# For demonstration, let's just print the sentiment distribution\n",
    "sentiment_distribution = data['Sentiment'].value_counts()\n",
    "print(sentiment_distribution)"
   ]
  },
  {
   "cell_type": "code",
   "execution_count": null,
   "id": "03341e93",
   "metadata": {},
   "outputs": [],
   "source": []
  },
  {
   "cell_type": "code",
   "execution_count": null,
   "id": "4f55bef7",
   "metadata": {},
   "outputs": [],
   "source": []
  },
  {
   "cell_type": "code",
   "execution_count": null,
   "id": "98660f72",
   "metadata": {},
   "outputs": [],
   "source": []
  },
  {
   "cell_type": "code",
   "execution_count": null,
   "id": "115cffe5",
   "metadata": {},
   "outputs": [],
   "source": []
  },
  {
   "cell_type": "code",
   "execution_count": null,
   "id": "af3e8bf1",
   "metadata": {},
   "outputs": [],
   "source": []
  },
  {
   "cell_type": "code",
   "execution_count": null,
   "id": "8aa583cc",
   "metadata": {},
   "outputs": [],
   "source": []
  },
  {
   "cell_type": "code",
   "execution_count": null,
   "id": "7cc64839",
   "metadata": {},
   "outputs": [],
   "source": []
  },
  {
   "cell_type": "code",
   "execution_count": 28,
   "id": "068647ad",
   "metadata": {},
   "outputs": [],
   "source": [
    "# Define the range of 'Shape_length' values in each dataset  dfI and dfNZ\n",
    "\n",
    "short_threshold_IE = 107.427329\n",
    "long_threshold_IE = 570.517557\n",
    "\n",
    "# Define the thresholds for each sentiment label\n",
    "short_threshold = 556.762057\n",
    "medium_threshold = 443.91\n",
    "\n"
   ]
  },
  {
   "cell_type": "code",
   "execution_count": 29,
   "id": "a87e7dac",
   "metadata": {},
   "outputs": [],
   "source": [
    "# Define the sentiment labels based on the range of 'Shape_length' values\n",
    "def assign_sentiment_label_IE(shape_length_IE):\n",
    "    if shape_length_IE < short_threshold_IE:\n",
    "        return \"short\"\n",
    "    elif shape_length_IE < long_threshold_IE:\n",
    "        return \"medium\"\n",
    "    else:\n",
    "        return \"long\"\n"
   ]
  },
  {
   "cell_type": "code",
   "execution_count": 30,
   "id": "756e69dd",
   "metadata": {},
   "outputs": [
    {
     "name": "stdout",
     "output_type": "stream",
     "text": [
      "Sentiment label for 'IE' dataset: medium\n"
     ]
    },
    {
     "data": {
      "text/html": [
       "<div>\n",
       "<style scoped>\n",
       "    .dataframe tbody tr th:only-of-type {\n",
       "        vertical-align: middle;\n",
       "    }\n",
       "\n",
       "    .dataframe tbody tr th {\n",
       "        vertical-align: top;\n",
       "    }\n",
       "\n",
       "    .dataframe thead th {\n",
       "        text-align: right;\n",
       "    }\n",
       "</style>\n",
       "<table border=\"1\" class=\"dataframe\">\n",
       "  <thead>\n",
       "    <tr style=\"text-align: right;\">\n",
       "      <th></th>\n",
       "      <th>OBJECTID</th>\n",
       "      <th>ROADNAME</th>\n",
       "      <th>STATUS</th>\n",
       "      <th>LOCALBOARD</th>\n",
       "      <th>TYPEOFFACILITY</th>\n",
       "      <th>Shape__Length IE</th>\n",
       "    </tr>\n",
       "  </thead>\n",
       "  <tbody>\n",
       "    <tr>\n",
       "      <th>0</th>\n",
       "      <td>1</td>\n",
       "      <td>Bay connection</td>\n",
       "      <td>Existing</td>\n",
       "      <td>Howick</td>\n",
       "      <td>Off-road shared path</td>\n",
       "      <td>5.746521</td>\n",
       "    </tr>\n",
       "    <tr>\n",
       "      <th>1</th>\n",
       "      <td>2</td>\n",
       "      <td>Bay connection</td>\n",
       "      <td>Existing</td>\n",
       "      <td>Howick</td>\n",
       "      <td>Off-road shared path</td>\n",
       "      <td>963.546209</td>\n",
       "    </tr>\n",
       "    <tr>\n",
       "      <th>2</th>\n",
       "      <td>3</td>\n",
       "      <td>Bay connection</td>\n",
       "      <td>Existing</td>\n",
       "      <td>Howick</td>\n",
       "      <td>Off-road shared path</td>\n",
       "      <td>415.740382</td>\n",
       "    </tr>\n",
       "    <tr>\n",
       "      <th>3</th>\n",
       "      <td>4</td>\n",
       "      <td>Rosedale Park North</td>\n",
       "      <td>Existing</td>\n",
       "      <td>Upper Harbour</td>\n",
       "      <td>Local area traffic management</td>\n",
       "      <td>110.928884</td>\n",
       "    </tr>\n",
       "    <tr>\n",
       "      <th>4</th>\n",
       "      <td>5</td>\n",
       "      <td>Rosedale Park North</td>\n",
       "      <td>Existing</td>\n",
       "      <td>Upper Harbour</td>\n",
       "      <td>Off-road shared path</td>\n",
       "      <td>685.221694</td>\n",
       "    </tr>\n",
       "  </tbody>\n",
       "</table>\n",
       "</div>"
      ],
      "text/plain": [
       "   OBJECTID             ROADNAME    STATUS     LOCALBOARD  \\\n",
       "0         1       Bay connection  Existing         Howick   \n",
       "1         2       Bay connection  Existing         Howick   \n",
       "2         3       Bay connection  Existing         Howick   \n",
       "3         4  Rosedale Park North  Existing  Upper Harbour   \n",
       "4         5  Rosedale Park North  Existing  Upper Harbour   \n",
       "\n",
       "                  TYPEOFFACILITY  Shape__Length IE  \n",
       "0           Off-road shared path          5.746521  \n",
       "1           Off-road shared path        963.546209  \n",
       "2           Off-road shared path        415.740382  \n",
       "3  Local area traffic management        110.928884  \n",
       "4           Off-road shared path        685.221694  "
      ]
     },
     "execution_count": 30,
     "metadata": {},
     "output_type": "execute_result"
    }
   ],
   "source": [
    "# Example usage:\n",
    "shape_length_value_IE = 250 \n",
    "sentiment_label_IE = assign_sentiment_label_IE(shape_length_value_IE)\n",
    "print(\"Sentiment label for 'IE' dataset:\", sentiment_label_IE)\n",
    "dfI.head()"
   ]
  },
  {
   "cell_type": "code",
   "execution_count": null,
   "id": "3d46df5b",
   "metadata": {},
   "outputs": [],
   "source": []
  },
  {
   "cell_type": "code",
   "execution_count": null,
   "id": "9dd0ccdf",
   "metadata": {},
   "outputs": [],
   "source": []
  },
  {
   "cell_type": "code",
   "execution_count": null,
   "id": "e2725ff0",
   "metadata": {},
   "outputs": [],
   "source": []
  },
  {
   "cell_type": "code",
   "execution_count": null,
   "id": "1ce6ea89",
   "metadata": {},
   "outputs": [],
   "source": []
  },
  {
   "cell_type": "code",
   "execution_count": null,
   "id": "17e4b8aa",
   "metadata": {},
   "outputs": [],
   "source": []
  },
  {
   "cell_type": "code",
   "execution_count": null,
   "id": "2141b41c",
   "metadata": {},
   "outputs": [],
   "source": []
  },
  {
   "cell_type": "code",
   "execution_count": null,
   "id": "6160ed40",
   "metadata": {},
   "outputs": [],
   "source": []
  },
  {
   "cell_type": "code",
   "execution_count": null,
   "id": "b4319fd6",
   "metadata": {},
   "outputs": [],
   "source": []
  },
  {
   "cell_type": "code",
   "execution_count": null,
   "id": "b26ff9f8",
   "metadata": {},
   "outputs": [],
   "source": []
  },
  {
   "cell_type": "code",
   "execution_count": null,
   "id": "6ae3cecb",
   "metadata": {},
   "outputs": [],
   "source": []
  },
  {
   "cell_type": "code",
   "execution_count": 11,
   "id": "823bbe43",
   "metadata": {},
   "outputs": [
    {
     "name": "stdout",
     "output_type": "stream",
     "text": [
      "{0, 1, -1}\n"
     ]
    }
   ],
   "source": [
    "# Initialize an empty set to collect unique sentiment values\n",
    "unique_sentiments = set()\n",
    "\n",
    "# Iterate over each list in the 'Sentiment' column and collect unique values\n",
    "for sentiment_list in df['Sentiment']:\n",
    "    unique_sentiments.update(sentiment_list)\n",
    "\n",
    "# Print out the unique sentiment values\n",
    "print(unique_sentiments)\n"
   ]
  },
  {
   "cell_type": "code",
   "execution_count": 12,
   "id": "cf58d93d",
   "metadata": {},
   "outputs": [],
   "source": [
    "df['Polarity_Rating'] = df['Sentiment'].apply(lambda x: 'Positive' if x == 1 else ('Neutral' if x == 0 else 'Negative'))"
   ]
  },
  {
   "cell_type": "code",
   "execution_count": 13,
   "id": "4e77f311",
   "metadata": {},
   "outputs": [
    {
     "data": {
      "text/html": [
       "<div>\n",
       "<style scoped>\n",
       "    .dataframe tbody tr th:only-of-type {\n",
       "        vertical-align: middle;\n",
       "    }\n",
       "\n",
       "    .dataframe tbody tr th {\n",
       "        vertical-align: top;\n",
       "    }\n",
       "\n",
       "    .dataframe thead th {\n",
       "        text-align: right;\n",
       "    }\n",
       "</style>\n",
       "<table border=\"1\" class=\"dataframe\">\n",
       "  <thead>\n",
       "    <tr style=\"text-align: right;\">\n",
       "      <th></th>\n",
       "      <th>STATISTIC</th>\n",
       "      <th>Statistic Label</th>\n",
       "      <th>Year</th>\n",
       "      <th>Seat Belt</th>\n",
       "      <th>UNIT</th>\n",
       "      <th>VALUE</th>\n",
       "      <th>Sentiment</th>\n",
       "      <th>Polarity_Rating</th>\n",
       "    </tr>\n",
       "  </thead>\n",
       "  <tbody>\n",
       "    <tr>\n",
       "      <th>0</th>\n",
       "      <td>ROA23C1</td>\n",
       "      <td>Users of Cars Killed in Collisions</td>\n",
       "      <td>2005</td>\n",
       "      <td>Car drivers: seat belt in use</td>\n",
       "      <td>Number</td>\n",
       "      <td>55.0</td>\n",
       "      <td>[1]</td>\n",
       "      <td>Negative</td>\n",
       "    </tr>\n",
       "    <tr>\n",
       "      <th>1</th>\n",
       "      <td>ROA23C1</td>\n",
       "      <td>Users of Cars Killed in Collisions</td>\n",
       "      <td>2005</td>\n",
       "      <td>Car drivers: seat belt not in use</td>\n",
       "      <td>Number</td>\n",
       "      <td>38.0</td>\n",
       "      <td>[-1]</td>\n",
       "      <td>Negative</td>\n",
       "    </tr>\n",
       "    <tr>\n",
       "      <th>2</th>\n",
       "      <td>ROA23C1</td>\n",
       "      <td>Users of Cars Killed in Collisions</td>\n",
       "      <td>2005</td>\n",
       "      <td>Car drivers: seat belt usage unknown</td>\n",
       "      <td>Number</td>\n",
       "      <td>37.0</td>\n",
       "      <td>[0]</td>\n",
       "      <td>Negative</td>\n",
       "    </tr>\n",
       "    <tr>\n",
       "      <th>3</th>\n",
       "      <td>ROA23C1</td>\n",
       "      <td>Users of Cars Killed in Collisions</td>\n",
       "      <td>2005</td>\n",
       "      <td>Car drivers: seat belt usage not stated</td>\n",
       "      <td>Number</td>\n",
       "      <td>14.0</td>\n",
       "      <td>[-1]</td>\n",
       "      <td>Negative</td>\n",
       "    </tr>\n",
       "    <tr>\n",
       "      <th>4</th>\n",
       "      <td>ROA23C1</td>\n",
       "      <td>Users of Cars Killed in Collisions</td>\n",
       "      <td>2005</td>\n",
       "      <td>All car drivers</td>\n",
       "      <td>Number</td>\n",
       "      <td>144.0</td>\n",
       "      <td>[1]</td>\n",
       "      <td>Negative</td>\n",
       "    </tr>\n",
       "  </tbody>\n",
       "</table>\n",
       "</div>"
      ],
      "text/plain": [
       "  STATISTIC                     Statistic Label  Year  \\\n",
       "0   ROA23C1  Users of Cars Killed in Collisions  2005   \n",
       "1   ROA23C1  Users of Cars Killed in Collisions  2005   \n",
       "2   ROA23C1  Users of Cars Killed in Collisions  2005   \n",
       "3   ROA23C1  Users of Cars Killed in Collisions  2005   \n",
       "4   ROA23C1  Users of Cars Killed in Collisions  2005   \n",
       "\n",
       "                                 Seat Belt    UNIT  VALUE Sentiment  \\\n",
       "0            Car drivers: seat belt in use  Number   55.0       [1]   \n",
       "1        Car drivers: seat belt not in use  Number   38.0      [-1]   \n",
       "2     Car drivers: seat belt usage unknown  Number   37.0       [0]   \n",
       "3  Car drivers: seat belt usage not stated  Number   14.0      [-1]   \n",
       "4                          All car drivers  Number  144.0       [1]   \n",
       "\n",
       "  Polarity_Rating  \n",
       "0        Negative  \n",
       "1        Negative  \n",
       "2        Negative  \n",
       "3        Negative  \n",
       "4        Negative  "
      ]
     },
     "execution_count": 13,
     "metadata": {},
     "output_type": "execute_result"
    }
   ],
   "source": [
    "df.head()"
   ]
  },
  {
   "cell_type": "markdown",
   "id": "5aef782d",
   "metadata": {},
   "source": [
    "**Plot the Rating visualization graph**"
   ]
  },
  {
   "cell_type": "code",
   "execution_count": 19,
   "id": "3a2a0cf9",
   "metadata": {},
   "outputs": [
    {
     "data": {
      "text/plain": [
       "<Axes: xlabel='Polarity_Rating', ylabel='count'>"
      ]
     },
     "execution_count": 19,
     "metadata": {},
     "output_type": "execute_result"
    },
    {
     "data": {
      "image/png": "[encoded data removed]",
      "text/plain": [
       "<Figure size 640x480 with 1 Axes>"
      ]
     },
     "metadata": {},
     "output_type": "display_data"
    }
   ],
   "source": [
    "sns.set_style('whitegrid')\n",
    "sns.countplot(x='Polarity_Rating',data=df, palette='YlGnBu_r')"
   ]
  },
  {
   "cell_type": "markdown",
   "id": "f1782932",
   "metadata": {},
   "source": [
    "**Plot the Polarity Rating count**"
   ]
  },
  {
   "cell_type": "code",
   "execution_count": 15,
   "id": "dcfdb2de",
   "metadata": {},
   "outputs": [
    {
     "data": {
      "text/plain": [
       "<Axes: xlabel='Polarity_Rating', ylabel='count'>"
      ]
     },
     "execution_count": 15,
     "metadata": {},
     "output_type": "execute_result"
    },
    {
     "data": {
      "image/png": "[encoded data removed]",
      "text/plain": [
       "<Figure size 640x480 with 1 Axes>"
      ]
     },
     "metadata": {},
     "output_type": "display_data"
    }
   ],
   "source": [
    "sns.set_style('whitegrid')\n",
    "sns.countplot(x='Polarity_Rating',data=df, palette='summer')"
   ]
  },
  {
   "cell_type": "markdown",
   "id": "07d8aeaa",
   "metadata": {},
   "source": [
    "**Data Preprocessing**"
   ]
  },
  {
   "cell_type": "code",
   "execution_count": 28,
   "id": "05da8b48",
   "metadata": {},
   "outputs": [],
   "source": [
    "df_Positive = df[df['Polarity_Rating'] == 'Positive'][0:1]\n",
    "df_Neutral = df[df['Polarity_Rating'] == 'Neutral']\n",
    "df_Negative = df[df['Polarity_Rating'] == 'Negative']"
   ]
  },
  {
   "cell_type": "markdown",
   "id": "01703d15",
   "metadata": {},
   "source": [
    "**Sample negative and neutral polarity dataset and create final dataframe**"
   ]
  },
  {
   "cell_type": "code",
   "execution_count": 29,
   "id": "94cb9f96",
   "metadata": {},
   "outputs": [],
   "source": [
    "df_Neutral_over = df_Neutral.sample(0, replace=True)\n",
    "df_Negative_over = df_Negative.sample(0, replace=True)\n",
    "df = pd.concat([df_Positive, df_Neutral_over, df_Negative_over], axis=0)"
   ]
  },
  {
   "cell_type": "markdown",
   "id": "16486dd6",
   "metadata": {},
   "source": [
    "**Text Preprocessing**"
   ]
  },
  {
   "cell_type": "code",
   "execution_count": 30,
   "id": "c731573b",
   "metadata": {},
   "outputs": [],
   "source": [
    "def get_text_processing(text):\n",
    "    stpword = stopwords.words('english')\n",
    "    no_punctuation = [char for char in text if char not in string.punctuation]\n",
    "    no_punctuation = ''.join(no_punctuation)\n",
    "    return ' '.join([word for word in no_punctuation.split() if word.lower() not in stpword])"
   ]
  },
  {
   "cell_type": "markdown",
   "id": "d19e5407",
   "metadata": {},
   "source": [
    "**Apply the method \"get_text_processing\" into column review text**"
   ]
  },
  {
   "cell_type": "code",
   "execution_count": 31,
   "id": "47f89170",
   "metadata": {},
   "outputs": [
    {
     "ename": "KeyError",
     "evalue": "'Review Text'",
     "output_type": "error",
     "traceback": [
      "\u001b[1;31m---------------------------------------------------------------------------\u001b[0m",
      "\u001b[1;31mKeyError\u001b[0m                                  Traceback (most recent call last)",
      "File \u001b[1;32m~\\anaconda3\\Lib\\site-packages\\pandas\\core\\indexes\\base.py:3653\u001b[0m, in \u001b[0;36mIndex.get_loc\u001b[1;34m(self, key)\u001b[0m\n\u001b[0;32m   3652\u001b[0m \u001b[38;5;28;01mtry\u001b[39;00m:\n\u001b[1;32m-> 3653\u001b[0m     \u001b[38;5;28;01mreturn\u001b[39;00m \u001b[38;5;28mself\u001b[39m\u001b[38;5;241m.\u001b[39m_engine\u001b[38;5;241m.\u001b[39mget_loc(casted_key)\n\u001b[0;32m   3654\u001b[0m \u001b[38;5;28;01mexcept\u001b[39;00m \u001b[38;5;167;01mKeyError\u001b[39;00m \u001b[38;5;28;01mas\u001b[39;00m err:\n",
      "File \u001b[1;32m~\\anaconda3\\Lib\\site-packages\\pandas\\_libs\\index.pyx:147\u001b[0m, in \u001b[0;36mpandas._libs.index.IndexEngine.get_loc\u001b[1;34m()\u001b[0m\n",
      "File \u001b[1;32m~\\anaconda3\\Lib\\site-packages\\pandas\\_libs\\index.pyx:176\u001b[0m, in \u001b[0;36mpandas._libs.index.IndexEngine.get_loc\u001b[1;34m()\u001b[0m\n",
      "File \u001b[1;32mpandas\\_libs\\hashtable_class_helper.pxi:7080\u001b[0m, in \u001b[0;36mpandas._libs.hashtable.PyObjectHashTable.get_item\u001b[1;34m()\u001b[0m\n",
      "File \u001b[1;32mpandas\\_libs\\hashtable_class_helper.pxi:7088\u001b[0m, in \u001b[0;36mpandas._libs.hashtable.PyObjectHashTable.get_item\u001b[1;34m()\u001b[0m\n",
      "\u001b[1;31mKeyError\u001b[0m: 'Review Text'",
      "\nThe above exception was the direct cause of the following exception:\n",
      "\u001b[1;31mKeyError\u001b[0m                                  Traceback (most recent call last)",
      "Cell \u001b[1;32mIn[31], line 1\u001b[0m\n\u001b[1;32m----> 1\u001b[0m df[\u001b[38;5;124m'\u001b[39m\u001b[38;5;124mreview\u001b[39m\u001b[38;5;124m'\u001b[39m] \u001b[38;5;241m=\u001b[39m df[\u001b[38;5;124m'\u001b[39m\u001b[38;5;124mReview Text\u001b[39m\u001b[38;5;124m'\u001b[39m]\u001b[38;5;241m.\u001b[39mapply(get_text_processing)\n\u001b[0;32m      2\u001b[0m df\u001b[38;5;241m.\u001b[39mhead()\n",
      "File \u001b[1;32m~\\anaconda3\\Lib\\site-packages\\pandas\\core\\frame.py:3761\u001b[0m, in \u001b[0;36mDataFrame.__getitem__\u001b[1;34m(self, key)\u001b[0m\n\u001b[0;32m   3759\u001b[0m \u001b[38;5;28;01mif\u001b[39;00m \u001b[38;5;28mself\u001b[39m\u001b[38;5;241m.\u001b[39mcolumns\u001b[38;5;241m.\u001b[39mnlevels \u001b[38;5;241m>\u001b[39m \u001b[38;5;241m1\u001b[39m:\n\u001b[0;32m   3760\u001b[0m     \u001b[38;5;28;01mreturn\u001b[39;00m \u001b[38;5;28mself\u001b[39m\u001b[38;5;241m.\u001b[39m_getitem_multilevel(key)\n\u001b[1;32m-> 3761\u001b[0m indexer \u001b[38;5;241m=\u001b[39m \u001b[38;5;28mself\u001b[39m\u001b[38;5;241m.\u001b[39mcolumns\u001b[38;5;241m.\u001b[39mget_loc(key)\n\u001b[0;32m   3762\u001b[0m \u001b[38;5;28;01mif\u001b[39;00m is_integer(indexer):\n\u001b[0;32m   3763\u001b[0m     indexer \u001b[38;5;241m=\u001b[39m [indexer]\n",
      "File \u001b[1;32m~\\anaconda3\\Lib\\site-packages\\pandas\\core\\indexes\\base.py:3655\u001b[0m, in \u001b[0;36mIndex.get_loc\u001b[1;34m(self, key)\u001b[0m\n\u001b[0;32m   3653\u001b[0m     \u001b[38;5;28;01mreturn\u001b[39;00m \u001b[38;5;28mself\u001b[39m\u001b[38;5;241m.\u001b[39m_engine\u001b[38;5;241m.\u001b[39mget_loc(casted_key)\n\u001b[0;32m   3654\u001b[0m \u001b[38;5;28;01mexcept\u001b[39;00m \u001b[38;5;167;01mKeyError\u001b[39;00m \u001b[38;5;28;01mas\u001b[39;00m err:\n\u001b[1;32m-> 3655\u001b[0m     \u001b[38;5;28;01mraise\u001b[39;00m \u001b[38;5;167;01mKeyError\u001b[39;00m(key) \u001b[38;5;28;01mfrom\u001b[39;00m \u001b[38;5;21;01merr\u001b[39;00m\n\u001b[0;32m   3656\u001b[0m \u001b[38;5;28;01mexcept\u001b[39;00m \u001b[38;5;167;01mTypeError\u001b[39;00m:\n\u001b[0;32m   3657\u001b[0m     \u001b[38;5;66;03m# If we have a listlike key, _check_indexing_error will raise\u001b[39;00m\n\u001b[0;32m   3658\u001b[0m     \u001b[38;5;66;03m#  InvalidIndexError. Otherwise we fall through and re-raise\u001b[39;00m\n\u001b[0;32m   3659\u001b[0m     \u001b[38;5;66;03m#  the TypeError.\u001b[39;00m\n\u001b[0;32m   3660\u001b[0m     \u001b[38;5;28mself\u001b[39m\u001b[38;5;241m.\u001b[39m_check_indexing_error(key)\n",
      "\u001b[1;31mKeyError\u001b[0m: 'Review Text'"
     ]
    }
   ],
   "source": [
    "df['review'] = df['Review Text'].apply(get_text_processing)\n",
    "df.head()"
   ]
  },
  {
   "cell_type": "markdown",
   "id": "4d6228b5",
   "metadata": {},
   "source": [
    "**Visualize Text Review with Polarity Rating**"
   ]
  },
  {
   "cell_type": "code",
   "execution_count": 26,
   "id": "a0fb646f",
   "metadata": {},
   "outputs": [
    {
     "ename": "KeyError",
     "evalue": "\"['review'] not in index\"",
     "output_type": "error",
     "traceback": [
      "\u001b[1;31m---------------------------------------------------------------------------\u001b[0m",
      "\u001b[1;31mKeyError\u001b[0m                                  Traceback (most recent call last)",
      "Cell \u001b[1;32mIn[26], line 1\u001b[0m\n\u001b[1;32m----> 1\u001b[0m df \u001b[38;5;241m=\u001b[39m df[[\u001b[38;5;124m'\u001b[39m\u001b[38;5;124mreview\u001b[39m\u001b[38;5;124m'\u001b[39m, \u001b[38;5;124m'\u001b[39m\u001b[38;5;124mPolarity_Rating\u001b[39m\u001b[38;5;124m'\u001b[39m]]\n\u001b[0;32m      2\u001b[0m df\u001b[38;5;241m.\u001b[39mhead()\n",
      "File \u001b[1;32m~\\anaconda3\\Lib\\site-packages\\pandas\\core\\frame.py:3767\u001b[0m, in \u001b[0;36mDataFrame.__getitem__\u001b[1;34m(self, key)\u001b[0m\n\u001b[0;32m   3765\u001b[0m     \u001b[38;5;28;01mif\u001b[39;00m is_iterator(key):\n\u001b[0;32m   3766\u001b[0m         key \u001b[38;5;241m=\u001b[39m \u001b[38;5;28mlist\u001b[39m(key)\n\u001b[1;32m-> 3767\u001b[0m     indexer \u001b[38;5;241m=\u001b[39m \u001b[38;5;28mself\u001b[39m\u001b[38;5;241m.\u001b[39mcolumns\u001b[38;5;241m.\u001b[39m_get_indexer_strict(key, \u001b[38;5;124m\"\u001b[39m\u001b[38;5;124mcolumns\u001b[39m\u001b[38;5;124m\"\u001b[39m)[\u001b[38;5;241m1\u001b[39m]\n\u001b[0;32m   3769\u001b[0m \u001b[38;5;66;03m# take() does not accept boolean indexers\u001b[39;00m\n\u001b[0;32m   3770\u001b[0m \u001b[38;5;28;01mif\u001b[39;00m \u001b[38;5;28mgetattr\u001b[39m(indexer, \u001b[38;5;124m\"\u001b[39m\u001b[38;5;124mdtype\u001b[39m\u001b[38;5;124m\"\u001b[39m, \u001b[38;5;28;01mNone\u001b[39;00m) \u001b[38;5;241m==\u001b[39m \u001b[38;5;28mbool\u001b[39m:\n",
      "File \u001b[1;32m~\\anaconda3\\Lib\\site-packages\\pandas\\core\\indexes\\base.py:5877\u001b[0m, in \u001b[0;36mIndex._get_indexer_strict\u001b[1;34m(self, key, axis_name)\u001b[0m\n\u001b[0;32m   5874\u001b[0m \u001b[38;5;28;01melse\u001b[39;00m:\n\u001b[0;32m   5875\u001b[0m     keyarr, indexer, new_indexer \u001b[38;5;241m=\u001b[39m \u001b[38;5;28mself\u001b[39m\u001b[38;5;241m.\u001b[39m_reindex_non_unique(keyarr)\n\u001b[1;32m-> 5877\u001b[0m \u001b[38;5;28mself\u001b[39m\u001b[38;5;241m.\u001b[39m_raise_if_missing(keyarr, indexer, axis_name)\n\u001b[0;32m   5879\u001b[0m keyarr \u001b[38;5;241m=\u001b[39m \u001b[38;5;28mself\u001b[39m\u001b[38;5;241m.\u001b[39mtake(indexer)\n\u001b[0;32m   5880\u001b[0m \u001b[38;5;28;01mif\u001b[39;00m \u001b[38;5;28misinstance\u001b[39m(key, Index):\n\u001b[0;32m   5881\u001b[0m     \u001b[38;5;66;03m# GH 42790 - Preserve name from an Index\u001b[39;00m\n",
      "File \u001b[1;32m~\\anaconda3\\Lib\\site-packages\\pandas\\core\\indexes\\base.py:5941\u001b[0m, in \u001b[0;36mIndex._raise_if_missing\u001b[1;34m(self, key, indexer, axis_name)\u001b[0m\n\u001b[0;32m   5938\u001b[0m     \u001b[38;5;28;01mraise\u001b[39;00m \u001b[38;5;167;01mKeyError\u001b[39;00m(\u001b[38;5;124mf\u001b[39m\u001b[38;5;124m\"\u001b[39m\u001b[38;5;124mNone of [\u001b[39m\u001b[38;5;132;01m{\u001b[39;00mkey\u001b[38;5;132;01m}\u001b[39;00m\u001b[38;5;124m] are in the [\u001b[39m\u001b[38;5;132;01m{\u001b[39;00maxis_name\u001b[38;5;132;01m}\u001b[39;00m\u001b[38;5;124m]\u001b[39m\u001b[38;5;124m\"\u001b[39m)\n\u001b[0;32m   5940\u001b[0m not_found \u001b[38;5;241m=\u001b[39m \u001b[38;5;28mlist\u001b[39m(ensure_index(key)[missing_mask\u001b[38;5;241m.\u001b[39mnonzero()[\u001b[38;5;241m0\u001b[39m]]\u001b[38;5;241m.\u001b[39munique())\n\u001b[1;32m-> 5941\u001b[0m \u001b[38;5;28;01mraise\u001b[39;00m \u001b[38;5;167;01mKeyError\u001b[39;00m(\u001b[38;5;124mf\u001b[39m\u001b[38;5;124m\"\u001b[39m\u001b[38;5;132;01m{\u001b[39;00mnot_found\u001b[38;5;132;01m}\u001b[39;00m\u001b[38;5;124m not in index\u001b[39m\u001b[38;5;124m\"\u001b[39m)\n",
      "\u001b[1;31mKeyError\u001b[0m: \"['review'] not in index\""
     ]
    }
   ],
   "source": [
    "df = df[['review', 'Polarity_Rating']]\n",
    "df.head()"
   ]
  },
  {
   "cell_type": "markdown",
   "id": "515c97ed",
   "metadata": {},
   "source": [
    "**Apply One hot encoding on negative, neutral, and positive**"
   ]
  },
  {
   "cell_type": "code",
   "execution_count": 32,
   "id": "bdf745a2",
   "metadata": {},
   "outputs": [
    {
     "data": {
      "text/html": [
       "<div>\n",
       "<style scoped>\n",
       "    .dataframe tbody tr th:only-of-type {\n",
       "        vertical-align: middle;\n",
       "    }\n",
       "\n",
       "    .dataframe tbody tr th {\n",
       "        vertical-align: top;\n",
       "    }\n",
       "\n",
       "    .dataframe thead th {\n",
       "        text-align: right;\n",
       "    }\n",
       "</style>\n",
       "<table border=\"1\" class=\"dataframe\">\n",
       "  <thead>\n",
       "    <tr style=\"text-align: right;\">\n",
       "      <th></th>\n",
       "      <th>STATISTIC</th>\n",
       "      <th>Statistic Label</th>\n",
       "      <th>Year</th>\n",
       "      <th>Seat Belt</th>\n",
       "      <th>UNIT</th>\n",
       "      <th>VALUE</th>\n",
       "      <th>Sentiment</th>\n",
       "    </tr>\n",
       "  </thead>\n",
       "  <tbody>\n",
       "  </tbody>\n",
       "</table>\n",
       "</div>"
      ],
      "text/plain": [
       "Empty DataFrame\n",
       "Columns: [STATISTIC, Statistic Label, Year, Seat Belt, UNIT, VALUE, Sentiment]\n",
       "Index: []"
      ]
     },
     "execution_count": 32,
     "metadata": {},
     "output_type": "execute_result"
    }
   ],
   "source": [
    "one_hot = pd.get_dummies(df[\"Polarity_Rating\"])\n",
    "df.drop(['Polarity_Rating'],axis=1,inplace=True)\n",
    "df = pd.concat([df,one_hot],axis=1)\n",
    "df.head()"
   ]
  },
  {
   "cell_type": "markdown",
   "id": "3ad737e4",
   "metadata": {},
   "source": [
    "**Apply Train Test Split**"
   ]
  },
  {
   "cell_type": "code",
   "execution_count": 34,
   "id": "f030db19",
   "metadata": {},
   "outputs": [
    {
     "ename": "KeyError",
     "evalue": "'review'",
     "output_type": "error",
     "traceback": [
      "\u001b[1;31m---------------------------------------------------------------------------\u001b[0m",
      "\u001b[1;31mKeyError\u001b[0m                                  Traceback (most recent call last)",
      "File \u001b[1;32m~\\anaconda3\\Lib\\site-packages\\pandas\\core\\indexes\\base.py:3653\u001b[0m, in \u001b[0;36mIndex.get_loc\u001b[1;34m(self, key)\u001b[0m\n\u001b[0;32m   3652\u001b[0m \u001b[38;5;28;01mtry\u001b[39;00m:\n\u001b[1;32m-> 3653\u001b[0m     \u001b[38;5;28;01mreturn\u001b[39;00m \u001b[38;5;28mself\u001b[39m\u001b[38;5;241m.\u001b[39m_engine\u001b[38;5;241m.\u001b[39mget_loc(casted_key)\n\u001b[0;32m   3654\u001b[0m \u001b[38;5;28;01mexcept\u001b[39;00m \u001b[38;5;167;01mKeyError\u001b[39;00m \u001b[38;5;28;01mas\u001b[39;00m err:\n",
      "File \u001b[1;32m~\\anaconda3\\Lib\\site-packages\\pandas\\_libs\\index.pyx:147\u001b[0m, in \u001b[0;36mpandas._libs.index.IndexEngine.get_loc\u001b[1;34m()\u001b[0m\n",
      "File \u001b[1;32m~\\anaconda3\\Lib\\site-packages\\pandas\\_libs\\index.pyx:176\u001b[0m, in \u001b[0;36mpandas._libs.index.IndexEngine.get_loc\u001b[1;34m()\u001b[0m\n",
      "File \u001b[1;32mpandas\\_libs\\hashtable_class_helper.pxi:7080\u001b[0m, in \u001b[0;36mpandas._libs.hashtable.PyObjectHashTable.get_item\u001b[1;34m()\u001b[0m\n",
      "File \u001b[1;32mpandas\\_libs\\hashtable_class_helper.pxi:7088\u001b[0m, in \u001b[0;36mpandas._libs.hashtable.PyObjectHashTable.get_item\u001b[1;34m()\u001b[0m\n",
      "\u001b[1;31mKeyError\u001b[0m: 'review'",
      "\nThe above exception was the direct cause of the following exception:\n",
      "\u001b[1;31mKeyError\u001b[0m                                  Traceback (most recent call last)",
      "Cell \u001b[1;32mIn[34], line 1\u001b[0m\n\u001b[1;32m----> 1\u001b[0m X \u001b[38;5;241m=\u001b[39m df[\u001b[38;5;124m'\u001b[39m\u001b[38;5;124mreview\u001b[39m\u001b[38;5;124m'\u001b[39m]\u001b[38;5;241m.\u001b[39mvalues\n\u001b[0;32m      2\u001b[0m y \u001b[38;5;241m=\u001b[39m df\u001b[38;5;241m.\u001b[39mdrop(\u001b[38;5;124m'\u001b[39m\u001b[38;5;124mreview\u001b[39m\u001b[38;5;124m'\u001b[39m, axis\u001b[38;5;241m=\u001b[39m\u001b[38;5;241m1\u001b[39m)\u001b[38;5;241m.\u001b[39mvalues\n\u001b[0;32m      3\u001b[0m X_train, X_test, y_train, y_test \u001b[38;5;241m=\u001b[39m train_test_split(X, y, test_size\u001b[38;5;241m=\u001b[39m\u001b[38;5;241m0.30\u001b[39m, random_state\u001b[38;5;241m=\u001b[39m\u001b[38;5;241m42\u001b[39m)\n",
      "File \u001b[1;32m~\\anaconda3\\Lib\\site-packages\\pandas\\core\\frame.py:3761\u001b[0m, in \u001b[0;36mDataFrame.__getitem__\u001b[1;34m(self, key)\u001b[0m\n\u001b[0;32m   3759\u001b[0m \u001b[38;5;28;01mif\u001b[39;00m \u001b[38;5;28mself\u001b[39m\u001b[38;5;241m.\u001b[39mcolumns\u001b[38;5;241m.\u001b[39mnlevels \u001b[38;5;241m>\u001b[39m \u001b[38;5;241m1\u001b[39m:\n\u001b[0;32m   3760\u001b[0m     \u001b[38;5;28;01mreturn\u001b[39;00m \u001b[38;5;28mself\u001b[39m\u001b[38;5;241m.\u001b[39m_getitem_multilevel(key)\n\u001b[1;32m-> 3761\u001b[0m indexer \u001b[38;5;241m=\u001b[39m \u001b[38;5;28mself\u001b[39m\u001b[38;5;241m.\u001b[39mcolumns\u001b[38;5;241m.\u001b[39mget_loc(key)\n\u001b[0;32m   3762\u001b[0m \u001b[38;5;28;01mif\u001b[39;00m is_integer(indexer):\n\u001b[0;32m   3763\u001b[0m     indexer \u001b[38;5;241m=\u001b[39m [indexer]\n",
      "File \u001b[1;32m~\\anaconda3\\Lib\\site-packages\\pandas\\core\\indexes\\base.py:3655\u001b[0m, in \u001b[0;36mIndex.get_loc\u001b[1;34m(self, key)\u001b[0m\n\u001b[0;32m   3653\u001b[0m     \u001b[38;5;28;01mreturn\u001b[39;00m \u001b[38;5;28mself\u001b[39m\u001b[38;5;241m.\u001b[39m_engine\u001b[38;5;241m.\u001b[39mget_loc(casted_key)\n\u001b[0;32m   3654\u001b[0m \u001b[38;5;28;01mexcept\u001b[39;00m \u001b[38;5;167;01mKeyError\u001b[39;00m \u001b[38;5;28;01mas\u001b[39;00m err:\n\u001b[1;32m-> 3655\u001b[0m     \u001b[38;5;28;01mraise\u001b[39;00m \u001b[38;5;167;01mKeyError\u001b[39;00m(key) \u001b[38;5;28;01mfrom\u001b[39;00m \u001b[38;5;21;01merr\u001b[39;00m\n\u001b[0;32m   3656\u001b[0m \u001b[38;5;28;01mexcept\u001b[39;00m \u001b[38;5;167;01mTypeError\u001b[39;00m:\n\u001b[0;32m   3657\u001b[0m     \u001b[38;5;66;03m# If we have a listlike key, _check_indexing_error will raise\u001b[39;00m\n\u001b[0;32m   3658\u001b[0m     \u001b[38;5;66;03m#  InvalidIndexError. Otherwise we fall through and re-raise\u001b[39;00m\n\u001b[0;32m   3659\u001b[0m     \u001b[38;5;66;03m#  the TypeError.\u001b[39;00m\n\u001b[0;32m   3660\u001b[0m     \u001b[38;5;28mself\u001b[39m\u001b[38;5;241m.\u001b[39m_check_indexing_error(key)\n",
      "\u001b[1;31mKeyError\u001b[0m: 'review'"
     ]
    }
   ],
   "source": [
    "X = df['review'].values\n",
    "y = df.drop('review', axis=1).values\n",
    "X_train, X_test, y_train, y_test = train_test_split(X, y, test_size=0.30, random_state=42)"
   ]
  },
  {
   "cell_type": "markdown",
   "id": "e0b1486d",
   "metadata": {},
   "source": [
    "**Apply vectorization**"
   ]
  },
  {
   "cell_type": "code",
   "execution_count": null,
   "id": "ee754dde",
   "metadata": {},
   "outputs": [],
   "source": [
    "vect = CountVectorizer()\n",
    "X_train = vect.fit_transform(X_train)\n",
    "X_test = vect.transform(X_test)"
   ]
  },
  {
   "cell_type": "markdown",
   "id": "6851858c",
   "metadata": {},
   "source": [
    "**Apply frequency, inverse document frequency:**"
   ]
  },
  {
   "cell_type": "code",
   "execution_count": 35,
   "id": "35aa97f8",
   "metadata": {},
   "outputs": [
    {
     "ename": "NameError",
     "evalue": "name 'TfidfTransformer' is not defined",
     "output_type": "error",
     "traceback": [
      "\u001b[1;31m---------------------------------------------------------------------------\u001b[0m",
      "\u001b[1;31mNameError\u001b[0m                                 Traceback (most recent call last)",
      "Cell \u001b[1;32mIn[35], line 1\u001b[0m\n\u001b[1;32m----> 1\u001b[0m tfidf \u001b[38;5;241m=\u001b[39m TfidfTransformer()\n\u001b[0;32m      2\u001b[0m X_train \u001b[38;5;241m=\u001b[39m tfidf\u001b[38;5;241m.\u001b[39mfit_transform(X_train)\n\u001b[0;32m      3\u001b[0m X_test \u001b[38;5;241m=\u001b[39m tfidf\u001b[38;5;241m.\u001b[39mtransform(X_test)\n",
      "\u001b[1;31mNameError\u001b[0m: name 'TfidfTransformer' is not defined"
     ]
    }
   ],
   "source": [
    "tfidf = TfidfTransformer()\n",
    "X_train = tfidf.fit_transform(X_train)\n",
    "X_test = tfidf.transform(X_test)\n",
    "X_train = X_train.toarray()\n",
    "X_test = X_test.toarray()"
   ]
  },
  {
   "cell_type": "markdown",
   "id": "82b413ce",
   "metadata": {},
   "source": [
    "**Add different layers**"
   ]
  },
  {
   "cell_type": "code",
   "execution_count": null,
   "id": "84baba5c",
   "metadata": {},
   "outputs": [],
   "source": [
    "model = Sequential()\n",
    "\n",
    "model.add(Dense(units=12673,activation='relu'))\n",
    "model.add(Dropout(0.5))\n",
    "\n",
    "model.add(Dense(units=4000,activation='relu'))\n",
    "model.add(Dropout(0.5))\n",
    "\n",
    "model.add(Dense(units=500,activation='relu'))\n",
    "model.add(Dropout(0.5))\n",
    "\n",
    "model.add(Dense(units=3, activation='softmax'))\n",
    "\n",
    "opt=tf.keras.optimizers.Adam(learning_rate=0.001)\n",
    "model.compile(loss='categorical_crossentropy', optimizer=opt, metrics=['accuracy'])\n",
    "\n",
    "#early_stop = EarlyStopping(monitor='val_loss', mode='min', verbose=1, patience=2)"
   ]
  },
  {
   "cell_type": "code",
   "execution_count": null,
   "id": "c648ecdf",
   "metadata": {},
   "outputs": [],
   "source": [
    "**Fit the Model**"
   ]
  },
  {
   "cell_type": "code",
   "execution_count": 36,
   "id": "7c280de7",
   "metadata": {},
   "outputs": [
    {
     "ename": "NameError",
     "evalue": "name 'model' is not defined",
     "output_type": "error",
     "traceback": [
      "\u001b[1;31m---------------------------------------------------------------------------\u001b[0m",
      "\u001b[1;31mNameError\u001b[0m                                 Traceback (most recent call last)",
      "Cell \u001b[1;32mIn[36], line 1\u001b[0m\n\u001b[1;32m----> 1\u001b[0m model\u001b[38;5;241m.\u001b[39mfit(x\u001b[38;5;241m=\u001b[39mX_train, y\u001b[38;5;241m=\u001b[39my_train, batch_size\u001b[38;5;241m=\u001b[39m\u001b[38;5;241m256\u001b[39m, epochs\u001b[38;5;241m=\u001b[39m\u001b[38;5;241m100\u001b[39m, validation_data\u001b[38;5;241m=\u001b[39m(X_test, y_test), verbose\u001b[38;5;241m=\u001b[39m\u001b[38;5;241m1\u001b[39m, callbacks\u001b[38;5;241m=\u001b[39mearly_stop)\n",
      "\u001b[1;31mNameError\u001b[0m: name 'model' is not defined"
     ]
    }
   ],
   "source": [
    "model.fit(x=X_train, y=y_train, batch_size=256, epochs=100, validation_data=(X_test, y_test), verbose=1, callbacks=early_stop)"
   ]
  },
  {
   "cell_type": "markdown",
   "id": "a649d19a",
   "metadata": {},
   "source": [
    "**Evaluation of Model**"
   ]
  },
  {
   "cell_type": "code",
   "execution_count": 38,
   "id": "acfe1d88",
   "metadata": {},
   "outputs": [
    {
     "ename": "NameError",
     "evalue": "name 'model' is not defined",
     "output_type": "error",
     "traceback": [
      "\u001b[1;31m---------------------------------------------------------------------------\u001b[0m",
      "\u001b[1;31mNameError\u001b[0m                                 Traceback (most recent call last)",
      "Cell \u001b[1;32mIn[38], line 1\u001b[0m\n\u001b[1;32m----> 1\u001b[0m model_score \u001b[38;5;241m=\u001b[39m model\u001b[38;5;241m.\u001b[39mevaluate(X_test, y_test, batch_size\u001b[38;5;241m=\u001b[39m\u001b[38;5;241m64\u001b[39m, verbose\u001b[38;5;241m=\u001b[39m\u001b[38;5;241m1\u001b[39m)\n\u001b[0;32m      2\u001b[0m \u001b[38;5;28mprint\u001b[39m(\u001b[38;5;124m'\u001b[39m\u001b[38;5;124mTest accuracy:\u001b[39m\u001b[38;5;124m'\u001b[39m, model_score[\u001b[38;5;241m1\u001b[39m])\n",
      "\u001b[1;31mNameError\u001b[0m: name 'model' is not defined"
     ]
    }
   ],
   "source": [
    "model_score = model.evaluate(X_test, y_test, batch_size=64, verbose=1)\n",
    "print('Test accuracy:', model_score[1])"
   ]
  },
  {
   "cell_type": "code",
   "execution_count": 39,
   "id": "e0a34586",
   "metadata": {},
   "outputs": [
    {
     "ename": "SyntaxError",
     "evalue": "invalid syntax (2495207704.py, line 1)",
     "output_type": "error",
     "traceback": [
      "\u001b[1;36m  Cell \u001b[1;32mIn[39], line 1\u001b[1;36m\u001b[0m\n\u001b[1;33m    **Prediction**\u001b[0m\n\u001b[1;37m    ^\u001b[0m\n\u001b[1;31mSyntaxError\u001b[0m\u001b[1;31m:\u001b[0m invalid syntax\n"
     ]
    }
   ],
   "source": [
    "**Prediction**"
   ]
  },
  {
   "cell_type": "code",
   "execution_count": null,
   "id": "ed3c7b76",
   "metadata": {},
   "outputs": [],
   "source": [
    "preds = model.predict(X_test)\n",
    "preds"
   ]
  },
  {
   "cell_type": "code",
   "execution_count": 37,
   "id": "af564e57",
   "metadata": {},
   "outputs": [
    {
     "ename": "NameError",
     "evalue": "name 'preds' is not defined",
     "output_type": "error",
     "traceback": [
      "\u001b[1;31m---------------------------------------------------------------------------\u001b[0m",
      "\u001b[1;31mNameError\u001b[0m                                 Traceback (most recent call last)",
      "Cell \u001b[1;32mIn[37], line 1\u001b[0m\n\u001b[1;32m----> 1\u001b[0m preds\u001b[38;5;241m.\u001b[39mshape\n",
      "\u001b[1;31mNameError\u001b[0m: name 'preds' is not defined"
     ]
    }
   ],
   "source": [
    "preds.shape"
   ]
  },
  {
   "cell_type": "code",
   "execution_count": null,
   "id": "0d60cb57",
   "metadata": {},
   "outputs": [],
   "source": []
  },
  {
   "cell_type": "code",
   "execution_count": null,
   "id": "badb7de0",
   "metadata": {},
   "outputs": [],
   "source": []
  },
  {
   "cell_type": "code",
   "execution_count": null,
   "id": "2aa6e141",
   "metadata": {},
   "outputs": [],
   "source": []
  },
  {
   "cell_type": "code",
   "execution_count": null,
   "id": "6148ed0a",
   "metadata": {},
   "outputs": [],
   "source": []
  },
  {
   "cell_type": "code",
   "execution_count": 12,
   "id": "6e9f9d3c",
   "metadata": {},
   "outputs": [
    {
     "ename": "KeyError",
     "evalue": "'sentiment'",
     "output_type": "error",
     "traceback": [
      "\u001b[1;31m---------------------------------------------------------------------------\u001b[0m",
      "\u001b[1;31mKeyError\u001b[0m                                  Traceback (most recent call last)",
      "File \u001b[1;32m~\\anaconda3\\Lib\\site-packages\\pandas\\core\\indexes\\base.py:3653\u001b[0m, in \u001b[0;36mIndex.get_loc\u001b[1;34m(self, key)\u001b[0m\n\u001b[0;32m   3652\u001b[0m \u001b[38;5;28;01mtry\u001b[39;00m:\n\u001b[1;32m-> 3653\u001b[0m     \u001b[38;5;28;01mreturn\u001b[39;00m \u001b[38;5;28mself\u001b[39m\u001b[38;5;241m.\u001b[39m_engine\u001b[38;5;241m.\u001b[39mget_loc(casted_key)\n\u001b[0;32m   3654\u001b[0m \u001b[38;5;28;01mexcept\u001b[39;00m \u001b[38;5;167;01mKeyError\u001b[39;00m \u001b[38;5;28;01mas\u001b[39;00m err:\n",
      "File \u001b[1;32m~\\anaconda3\\Lib\\site-packages\\pandas\\_libs\\index.pyx:147\u001b[0m, in \u001b[0;36mpandas._libs.index.IndexEngine.get_loc\u001b[1;34m()\u001b[0m\n",
      "File \u001b[1;32m~\\anaconda3\\Lib\\site-packages\\pandas\\_libs\\index.pyx:176\u001b[0m, in \u001b[0;36mpandas._libs.index.IndexEngine.get_loc\u001b[1;34m()\u001b[0m\n",
      "File \u001b[1;32mpandas\\_libs\\hashtable_class_helper.pxi:7080\u001b[0m, in \u001b[0;36mpandas._libs.hashtable.PyObjectHashTable.get_item\u001b[1;34m()\u001b[0m\n",
      "File \u001b[1;32mpandas\\_libs\\hashtable_class_helper.pxi:7088\u001b[0m, in \u001b[0;36mpandas._libs.hashtable.PyObjectHashTable.get_item\u001b[1;34m()\u001b[0m\n",
      "\u001b[1;31mKeyError\u001b[0m: 'sentiment'",
      "\nThe above exception was the direct cause of the following exception:\n",
      "\u001b[1;31mKeyError\u001b[0m                                  Traceback (most recent call last)",
      "Cell \u001b[1;32mIn[12], line 1\u001b[0m\n\u001b[1;32m----> 1\u001b[0m df[\u001b[38;5;124m'\u001b[39m\u001b[38;5;124mPolarity_Rating\u001b[39m\u001b[38;5;124m'\u001b[39m] \u001b[38;5;241m=\u001b[39m df[\u001b[38;5;124m'\u001b[39m\u001b[38;5;124msentiment\u001b[39m\u001b[38;5;124m'\u001b[39m]\u001b[38;5;241m.\u001b[39mapply(\u001b[38;5;28;01mlambda\u001b[39;00m x: \u001b[38;5;124m'\u001b[39m\u001b[38;5;124mPositive\u001b[39m\u001b[38;5;124m'\u001b[39m \u001b[38;5;28;01mif\u001b[39;00m x \u001b[38;5;241m==\u001b[39m \u001b[38;5;241m1\u001b[39m \u001b[38;5;28;01melse\u001b[39;00m(\u001b[38;5;124m'\u001b[39m\u001b[38;5;124mNeutral\u001b[39m\u001b[38;5;124m'\u001b[39m \u001b[38;5;28;01mif\u001b[39;00m x \u001b[38;5;241m==\u001b[39m \u001b[38;5;241m0\u001b[39m  \u001b[38;5;28;01melse\u001b[39;00m \u001b[38;5;124m'\u001b[39m\u001b[38;5;124mNegative\u001b[39m\u001b[38;5;124m'\u001b[39m))\n",
      "File \u001b[1;32m~\\anaconda3\\Lib\\site-packages\\pandas\\core\\frame.py:3761\u001b[0m, in \u001b[0;36mDataFrame.__getitem__\u001b[1;34m(self, key)\u001b[0m\n\u001b[0;32m   3759\u001b[0m \u001b[38;5;28;01mif\u001b[39;00m \u001b[38;5;28mself\u001b[39m\u001b[38;5;241m.\u001b[39mcolumns\u001b[38;5;241m.\u001b[39mnlevels \u001b[38;5;241m>\u001b[39m \u001b[38;5;241m1\u001b[39m:\n\u001b[0;32m   3760\u001b[0m     \u001b[38;5;28;01mreturn\u001b[39;00m \u001b[38;5;28mself\u001b[39m\u001b[38;5;241m.\u001b[39m_getitem_multilevel(key)\n\u001b[1;32m-> 3761\u001b[0m indexer \u001b[38;5;241m=\u001b[39m \u001b[38;5;28mself\u001b[39m\u001b[38;5;241m.\u001b[39mcolumns\u001b[38;5;241m.\u001b[39mget_loc(key)\n\u001b[0;32m   3762\u001b[0m \u001b[38;5;28;01mif\u001b[39;00m is_integer(indexer):\n\u001b[0;32m   3763\u001b[0m     indexer \u001b[38;5;241m=\u001b[39m [indexer]\n",
      "File \u001b[1;32m~\\anaconda3\\Lib\\site-packages\\pandas\\core\\indexes\\base.py:3655\u001b[0m, in \u001b[0;36mIndex.get_loc\u001b[1;34m(self, key)\u001b[0m\n\u001b[0;32m   3653\u001b[0m     \u001b[38;5;28;01mreturn\u001b[39;00m \u001b[38;5;28mself\u001b[39m\u001b[38;5;241m.\u001b[39m_engine\u001b[38;5;241m.\u001b[39mget_loc(casted_key)\n\u001b[0;32m   3654\u001b[0m \u001b[38;5;28;01mexcept\u001b[39;00m \u001b[38;5;167;01mKeyError\u001b[39;00m \u001b[38;5;28;01mas\u001b[39;00m err:\n\u001b[1;32m-> 3655\u001b[0m     \u001b[38;5;28;01mraise\u001b[39;00m \u001b[38;5;167;01mKeyError\u001b[39;00m(key) \u001b[38;5;28;01mfrom\u001b[39;00m \u001b[38;5;21;01merr\u001b[39;00m\n\u001b[0;32m   3656\u001b[0m \u001b[38;5;28;01mexcept\u001b[39;00m \u001b[38;5;167;01mTypeError\u001b[39;00m:\n\u001b[0;32m   3657\u001b[0m     \u001b[38;5;66;03m# If we have a listlike key, _check_indexing_error will raise\u001b[39;00m\n\u001b[0;32m   3658\u001b[0m     \u001b[38;5;66;03m#  InvalidIndexError. Otherwise we fall through and re-raise\u001b[39;00m\n\u001b[0;32m   3659\u001b[0m     \u001b[38;5;66;03m#  the TypeError.\u001b[39;00m\n\u001b[0;32m   3660\u001b[0m     \u001b[38;5;28mself\u001b[39m\u001b[38;5;241m.\u001b[39m_check_indexing_error(key)\n",
      "\u001b[1;31mKeyError\u001b[0m: 'sentiment'"
     ]
    }
   ],
   "source": [
    "df['Polarity_Rating'] = df['sentiment'].apply(lambda x: 'Positive' if x == 1 else('Neutral' if x == 0  else 'Negative'))"
   ]
  },
  {
   "cell_type": "code",
   "execution_count": null,
   "id": "789b6ee1",
   "metadata": {},
   "outputs": [],
   "source": []
  },
  {
   "cell_type": "code",
   "execution_count": null,
   "id": "5d31b3ec",
   "metadata": {},
   "outputs": [],
   "source": []
  },
  {
   "cell_type": "code",
   "execution_count": null,
   "id": "2e186cf0",
   "metadata": {},
   "outputs": [],
   "source": []
  },
  {
   "cell_type": "code",
   "execution_count": null,
   "id": "63bc58e6",
   "metadata": {},
   "outputs": [],
   "source": []
  },
  {
   "cell_type": "code",
   "execution_count": 10,
   "id": "9c952b25",
   "metadata": {},
   "outputs": [
    {
     "name": "stdout",
     "output_type": "stream",
     "text": [
      "0              Car drivers: seat belt in use\n",
      "1          Car drivers: seat belt not in use\n",
      "2       Car drivers: seat belt usage unknown\n",
      "3    Car drivers: seat belt usage not stated\n",
      "4                            All car drivers\n",
      "Name: Seat Belt, dtype: object\n"
     ]
    }
   ],
   "source": [
    "print(df['Seat Belt'].head())"
   ]
  },
  {
   "cell_type": "code",
   "execution_count": 11,
   "id": "3e393f6c",
   "metadata": {},
   "outputs": [
    {
     "data": {
      "text/html": [
       "<div>\n",
       "<style scoped>\n",
       "    .dataframe tbody tr th:only-of-type {\n",
       "        vertical-align: middle;\n",
       "    }\n",
       "\n",
       "    .dataframe tbody tr th {\n",
       "        vertical-align: top;\n",
       "    }\n",
       "\n",
       "    .dataframe thead th {\n",
       "        text-align: right;\n",
       "    }\n",
       "</style>\n",
       "<table border=\"1\" class=\"dataframe\">\n",
       "  <thead>\n",
       "    <tr style=\"text-align: right;\">\n",
       "      <th></th>\n",
       "      <th>STATISTIC</th>\n",
       "      <th>Statistic Label</th>\n",
       "      <th>Year</th>\n",
       "      <th>Seat Belt</th>\n",
       "      <th>UNIT</th>\n",
       "      <th>VALUE</th>\n",
       "      <th>SeatBelt_Sentiment</th>\n",
       "    </tr>\n",
       "  </thead>\n",
       "  <tbody>\n",
       "    <tr>\n",
       "      <th>0</th>\n",
       "      <td>ROA23C1</td>\n",
       "      <td>Users of Cars Killed in Collisions</td>\n",
       "      <td>2005</td>\n",
       "      <td>Car drivers: seat belt in use</td>\n",
       "      <td>Number</td>\n",
       "      <td>55.0</td>\n",
       "      <td>Positive</td>\n",
       "    </tr>\n",
       "    <tr>\n",
       "      <th>1</th>\n",
       "      <td>ROA23C1</td>\n",
       "      <td>Users of Cars Killed in Collisions</td>\n",
       "      <td>2005</td>\n",
       "      <td>Car drivers: seat belt not in use</td>\n",
       "      <td>Number</td>\n",
       "      <td>38.0</td>\n",
       "      <td>Positive</td>\n",
       "    </tr>\n",
       "    <tr>\n",
       "      <th>2</th>\n",
       "      <td>ROA23C1</td>\n",
       "      <td>Users of Cars Killed in Collisions</td>\n",
       "      <td>2005</td>\n",
       "      <td>Car drivers: seat belt usage unknown</td>\n",
       "      <td>Number</td>\n",
       "      <td>37.0</td>\n",
       "      <td>Negative</td>\n",
       "    </tr>\n",
       "    <tr>\n",
       "      <th>3</th>\n",
       "      <td>ROA23C1</td>\n",
       "      <td>Users of Cars Killed in Collisions</td>\n",
       "      <td>2005</td>\n",
       "      <td>Car drivers: seat belt usage not stated</td>\n",
       "      <td>Number</td>\n",
       "      <td>14.0</td>\n",
       "      <td>Negative</td>\n",
       "    </tr>\n",
       "    <tr>\n",
       "      <th>4</th>\n",
       "      <td>ROA23C1</td>\n",
       "      <td>Users of Cars Killed in Collisions</td>\n",
       "      <td>2005</td>\n",
       "      <td>All car drivers</td>\n",
       "      <td>Number</td>\n",
       "      <td>144.0</td>\n",
       "      <td>Neutral</td>\n",
       "    </tr>\n",
       "  </tbody>\n",
       "</table>\n",
       "</div>"
      ],
      "text/plain": [
       "  STATISTIC                     Statistic Label  Year  \\\n",
       "0   ROA23C1  Users of Cars Killed in Collisions  2005   \n",
       "1   ROA23C1  Users of Cars Killed in Collisions  2005   \n",
       "2   ROA23C1  Users of Cars Killed in Collisions  2005   \n",
       "3   ROA23C1  Users of Cars Killed in Collisions  2005   \n",
       "4   ROA23C1  Users of Cars Killed in Collisions  2005   \n",
       "\n",
       "                                 Seat Belt    UNIT  VALUE SeatBelt_Sentiment  \n",
       "0            Car drivers: seat belt in use  Number   55.0           Positive  \n",
       "1        Car drivers: seat belt not in use  Number   38.0           Positive  \n",
       "2     Car drivers: seat belt usage unknown  Number   37.0           Negative  \n",
       "3  Car drivers: seat belt usage not stated  Number   14.0           Negative  \n",
       "4                          All car drivers  Number  144.0            Neutral  "
      ]
     },
     "execution_count": 11,
     "metadata": {},
     "output_type": "execute_result"
    }
   ],
   "source": [
    "def analyze_seat_belt_sentiment(text):\n",
    "    # Convert the text to lowercase for easier matching\n",
    "    text = text.lower()\n",
    "    \n",
    "    # Assign sentiment based on the content of the text\n",
    "    if \"in use\" in text:\n",
    "        return \"Positive\"\n",
    "    elif \"not in use\" in text or \"unknown\" in text or \"not stated\" in text:\n",
    "        return \"Negative\"\n",
    "    else:\n",
    "        return \"Neutral\"\n",
    "\n",
    "# Apply sentiment analysis function to each row in the \"Seat Belt\" column\n",
    "df['SeatBelt_Sentiment'] = df['Seat Belt'].apply(analyze_seat_belt_sentiment)\n",
    "df.head()"
   ]
  },
  {
   "cell_type": "code",
   "execution_count": 12,
   "id": "a9779cc5",
   "metadata": {},
   "outputs": [],
   "source": [
    "# Group the DataFrame by sentiment and count the occurrences of each sentiment\n",
    "sentiment_counts = df['SeatBelt_Sentiment'].value_counts()\n",
    "\n"
   ]
  },
  {
   "cell_type": "code",
   "execution_count": 13,
   "id": "53c7db4b",
   "metadata": {},
   "outputs": [
    {
     "data": {
      "image/png": "[encoded data removed]",
      "text/plain": [
       "<Figure size 800x600 with 1 Axes>"
      ]
     },
     "metadata": {},
     "output_type": "display_data"
    }
   ],
   "source": [
    "# Create a bar plot\n",
    "plt.figure(figsize=(8, 6))\n",
    "sentiment_counts.plot(kind='bar', color='skyblue')\n",
    "plt.title('Sentiment Analysis of Seat Belt Usage')\n",
    "plt.xlabel('Sentiment')\n",
    "plt.ylabel('Count')\n",
    "plt.xticks(rotation=45)  # Rotate x-axis labels for better readability\n",
    "plt.tight_layout()\n",
    "plt.show()"
   ]
  },
  {
   "cell_type": "code",
   "execution_count": null,
   "id": "155d70ee",
   "metadata": {},
   "outputs": [],
   "source": []
  },
  {
   "cell_type": "code",
   "execution_count": null,
   "id": "f1eb65e0",
   "metadata": {},
   "outputs": [],
   "source": []
  },
  {
   "cell_type": "code",
   "execution_count": null,
   "id": "aa1499af",
   "metadata": {},
   "outputs": [],
   "source": []
  },
  {
   "cell_type": "code",
   "execution_count": null,
   "id": "177f24f0",
   "metadata": {},
   "outputs": [],
   "source": []
  },
  {
   "cell_type": "code",
   "execution_count": 11,
   "id": "2702bd54",
   "metadata": {},
   "outputs": [
    {
     "ename": "KeyError",
     "evalue": "'SeatBelt_Sentiment'",
     "output_type": "error",
     "traceback": [
      "\u001b[1;31m---------------------------------------------------------------------------\u001b[0m",
      "\u001b[1;31mKeyError\u001b[0m                                  Traceback (most recent call last)",
      "File \u001b[1;32m~\\anaconda3\\Lib\\site-packages\\pandas\\core\\indexes\\base.py:3653\u001b[0m, in \u001b[0;36mIndex.get_loc\u001b[1;34m(self, key)\u001b[0m\n\u001b[0;32m   3652\u001b[0m \u001b[38;5;28;01mtry\u001b[39;00m:\n\u001b[1;32m-> 3653\u001b[0m     \u001b[38;5;28;01mreturn\u001b[39;00m \u001b[38;5;28mself\u001b[39m\u001b[38;5;241m.\u001b[39m_engine\u001b[38;5;241m.\u001b[39mget_loc(casted_key)\n\u001b[0;32m   3654\u001b[0m \u001b[38;5;28;01mexcept\u001b[39;00m \u001b[38;5;167;01mKeyError\u001b[39;00m \u001b[38;5;28;01mas\u001b[39;00m err:\n",
      "File \u001b[1;32m~\\anaconda3\\Lib\\site-packages\\pandas\\_libs\\index.pyx:147\u001b[0m, in \u001b[0;36mpandas._libs.index.IndexEngine.get_loc\u001b[1;34m()\u001b[0m\n",
      "File \u001b[1;32m~\\anaconda3\\Lib\\site-packages\\pandas\\_libs\\index.pyx:176\u001b[0m, in \u001b[0;36mpandas._libs.index.IndexEngine.get_loc\u001b[1;34m()\u001b[0m\n",
      "File \u001b[1;32mpandas\\_libs\\hashtable_class_helper.pxi:7080\u001b[0m, in \u001b[0;36mpandas._libs.hashtable.PyObjectHashTable.get_item\u001b[1;34m()\u001b[0m\n",
      "File \u001b[1;32mpandas\\_libs\\hashtable_class_helper.pxi:7088\u001b[0m, in \u001b[0;36mpandas._libs.hashtable.PyObjectHashTable.get_item\u001b[1;34m()\u001b[0m\n",
      "\u001b[1;31mKeyError\u001b[0m: 'SeatBelt_Sentiment'",
      "\nThe above exception was the direct cause of the following exception:\n",
      "\u001b[1;31mKeyError\u001b[0m                                  Traceback (most recent call last)",
      "Cell \u001b[1;32mIn[11], line 1\u001b[0m\n\u001b[1;32m----> 1\u001b[0m df[\u001b[38;5;124m'\u001b[39m\u001b[38;5;124mSentiment\u001b[39m\u001b[38;5;124m'\u001b[39m] \u001b[38;5;241m=\u001b[39m df[\u001b[38;5;124m'\u001b[39m\u001b[38;5;124mSeatBelt_Sentiment\u001b[39m\u001b[38;5;124m'\u001b[39m]\n",
      "File \u001b[1;32m~\\anaconda3\\Lib\\site-packages\\pandas\\core\\frame.py:3761\u001b[0m, in \u001b[0;36mDataFrame.__getitem__\u001b[1;34m(self, key)\u001b[0m\n\u001b[0;32m   3759\u001b[0m \u001b[38;5;28;01mif\u001b[39;00m \u001b[38;5;28mself\u001b[39m\u001b[38;5;241m.\u001b[39mcolumns\u001b[38;5;241m.\u001b[39mnlevels \u001b[38;5;241m>\u001b[39m \u001b[38;5;241m1\u001b[39m:\n\u001b[0;32m   3760\u001b[0m     \u001b[38;5;28;01mreturn\u001b[39;00m \u001b[38;5;28mself\u001b[39m\u001b[38;5;241m.\u001b[39m_getitem_multilevel(key)\n\u001b[1;32m-> 3761\u001b[0m indexer \u001b[38;5;241m=\u001b[39m \u001b[38;5;28mself\u001b[39m\u001b[38;5;241m.\u001b[39mcolumns\u001b[38;5;241m.\u001b[39mget_loc(key)\n\u001b[0;32m   3762\u001b[0m \u001b[38;5;28;01mif\u001b[39;00m is_integer(indexer):\n\u001b[0;32m   3763\u001b[0m     indexer \u001b[38;5;241m=\u001b[39m [indexer]\n",
      "File \u001b[1;32m~\\anaconda3\\Lib\\site-packages\\pandas\\core\\indexes\\base.py:3655\u001b[0m, in \u001b[0;36mIndex.get_loc\u001b[1;34m(self, key)\u001b[0m\n\u001b[0;32m   3653\u001b[0m     \u001b[38;5;28;01mreturn\u001b[39;00m \u001b[38;5;28mself\u001b[39m\u001b[38;5;241m.\u001b[39m_engine\u001b[38;5;241m.\u001b[39mget_loc(casted_key)\n\u001b[0;32m   3654\u001b[0m \u001b[38;5;28;01mexcept\u001b[39;00m \u001b[38;5;167;01mKeyError\u001b[39;00m \u001b[38;5;28;01mas\u001b[39;00m err:\n\u001b[1;32m-> 3655\u001b[0m     \u001b[38;5;28;01mraise\u001b[39;00m \u001b[38;5;167;01mKeyError\u001b[39;00m(key) \u001b[38;5;28;01mfrom\u001b[39;00m \u001b[38;5;21;01merr\u001b[39;00m\n\u001b[0;32m   3656\u001b[0m \u001b[38;5;28;01mexcept\u001b[39;00m \u001b[38;5;167;01mTypeError\u001b[39;00m:\n\u001b[0;32m   3657\u001b[0m     \u001b[38;5;66;03m# If we have a listlike key, _check_indexing_error will raise\u001b[39;00m\n\u001b[0;32m   3658\u001b[0m     \u001b[38;5;66;03m#  InvalidIndexError. Otherwise we fall through and re-raise\u001b[39;00m\n\u001b[0;32m   3659\u001b[0m     \u001b[38;5;66;03m#  the TypeError.\u001b[39;00m\n\u001b[0;32m   3660\u001b[0m     \u001b[38;5;28mself\u001b[39m\u001b[38;5;241m.\u001b[39m_check_indexing_error(key)\n",
      "\u001b[1;31mKeyError\u001b[0m: 'SeatBelt_Sentiment'"
     ]
    }
   ],
   "source": [
    "df['Sentiment'] = df['SeatBelt_Sentiment']"
   ]
  },
  {
   "cell_type": "code",
   "execution_count": 12,
   "id": "c4f27f9a",
   "metadata": {},
   "outputs": [
    {
     "ename": "KeyError",
     "evalue": "'SeatBelt_Sentiment'",
     "output_type": "error",
     "traceback": [
      "\u001b[1;31m---------------------------------------------------------------------------\u001b[0m",
      "\u001b[1;31mKeyError\u001b[0m                                  Traceback (most recent call last)",
      "File \u001b[1;32m~\\anaconda3\\Lib\\site-packages\\pandas\\core\\indexes\\base.py:3653\u001b[0m, in \u001b[0;36mIndex.get_loc\u001b[1;34m(self, key)\u001b[0m\n\u001b[0;32m   3652\u001b[0m \u001b[38;5;28;01mtry\u001b[39;00m:\n\u001b[1;32m-> 3653\u001b[0m     \u001b[38;5;28;01mreturn\u001b[39;00m \u001b[38;5;28mself\u001b[39m\u001b[38;5;241m.\u001b[39m_engine\u001b[38;5;241m.\u001b[39mget_loc(casted_key)\n\u001b[0;32m   3654\u001b[0m \u001b[38;5;28;01mexcept\u001b[39;00m \u001b[38;5;167;01mKeyError\u001b[39;00m \u001b[38;5;28;01mas\u001b[39;00m err:\n",
      "File \u001b[1;32m~\\anaconda3\\Lib\\site-packages\\pandas\\_libs\\index.pyx:147\u001b[0m, in \u001b[0;36mpandas._libs.index.IndexEngine.get_loc\u001b[1;34m()\u001b[0m\n",
      "File \u001b[1;32m~\\anaconda3\\Lib\\site-packages\\pandas\\_libs\\index.pyx:176\u001b[0m, in \u001b[0;36mpandas._libs.index.IndexEngine.get_loc\u001b[1;34m()\u001b[0m\n",
      "File \u001b[1;32mpandas\\_libs\\hashtable_class_helper.pxi:7080\u001b[0m, in \u001b[0;36mpandas._libs.hashtable.PyObjectHashTable.get_item\u001b[1;34m()\u001b[0m\n",
      "File \u001b[1;32mpandas\\_libs\\hashtable_class_helper.pxi:7088\u001b[0m, in \u001b[0;36mpandas._libs.hashtable.PyObjectHashTable.get_item\u001b[1;34m()\u001b[0m\n",
      "\u001b[1;31mKeyError\u001b[0m: 'SeatBelt_Sentiment'",
      "\nThe above exception was the direct cause of the following exception:\n",
      "\u001b[1;31mKeyError\u001b[0m                                  Traceback (most recent call last)",
      "Cell \u001b[1;32mIn[12], line 1\u001b[0m\n\u001b[1;32m----> 1\u001b[0m \u001b[38;5;28mprint\u001b[39m(df[\u001b[38;5;124m'\u001b[39m\u001b[38;5;124mSeatBelt_Sentiment\u001b[39m\u001b[38;5;124m'\u001b[39m])\n",
      "File \u001b[1;32m~\\anaconda3\\Lib\\site-packages\\pandas\\core\\frame.py:3761\u001b[0m, in \u001b[0;36mDataFrame.__getitem__\u001b[1;34m(self, key)\u001b[0m\n\u001b[0;32m   3759\u001b[0m \u001b[38;5;28;01mif\u001b[39;00m \u001b[38;5;28mself\u001b[39m\u001b[38;5;241m.\u001b[39mcolumns\u001b[38;5;241m.\u001b[39mnlevels \u001b[38;5;241m>\u001b[39m \u001b[38;5;241m1\u001b[39m:\n\u001b[0;32m   3760\u001b[0m     \u001b[38;5;28;01mreturn\u001b[39;00m \u001b[38;5;28mself\u001b[39m\u001b[38;5;241m.\u001b[39m_getitem_multilevel(key)\n\u001b[1;32m-> 3761\u001b[0m indexer \u001b[38;5;241m=\u001b[39m \u001b[38;5;28mself\u001b[39m\u001b[38;5;241m.\u001b[39mcolumns\u001b[38;5;241m.\u001b[39mget_loc(key)\n\u001b[0;32m   3762\u001b[0m \u001b[38;5;28;01mif\u001b[39;00m is_integer(indexer):\n\u001b[0;32m   3763\u001b[0m     indexer \u001b[38;5;241m=\u001b[39m [indexer]\n",
      "File \u001b[1;32m~\\anaconda3\\Lib\\site-packages\\pandas\\core\\indexes\\base.py:3655\u001b[0m, in \u001b[0;36mIndex.get_loc\u001b[1;34m(self, key)\u001b[0m\n\u001b[0;32m   3653\u001b[0m     \u001b[38;5;28;01mreturn\u001b[39;00m \u001b[38;5;28mself\u001b[39m\u001b[38;5;241m.\u001b[39m_engine\u001b[38;5;241m.\u001b[39mget_loc(casted_key)\n\u001b[0;32m   3654\u001b[0m \u001b[38;5;28;01mexcept\u001b[39;00m \u001b[38;5;167;01mKeyError\u001b[39;00m \u001b[38;5;28;01mas\u001b[39;00m err:\n\u001b[1;32m-> 3655\u001b[0m     \u001b[38;5;28;01mraise\u001b[39;00m \u001b[38;5;167;01mKeyError\u001b[39;00m(key) \u001b[38;5;28;01mfrom\u001b[39;00m \u001b[38;5;21;01merr\u001b[39;00m\n\u001b[0;32m   3656\u001b[0m \u001b[38;5;28;01mexcept\u001b[39;00m \u001b[38;5;167;01mTypeError\u001b[39;00m:\n\u001b[0;32m   3657\u001b[0m     \u001b[38;5;66;03m# If we have a listlike key, _check_indexing_error will raise\u001b[39;00m\n\u001b[0;32m   3658\u001b[0m     \u001b[38;5;66;03m#  InvalidIndexError. Otherwise we fall through and re-raise\u001b[39;00m\n\u001b[0;32m   3659\u001b[0m     \u001b[38;5;66;03m#  the TypeError.\u001b[39;00m\n\u001b[0;32m   3660\u001b[0m     \u001b[38;5;28mself\u001b[39m\u001b[38;5;241m.\u001b[39m_check_indexing_error(key)\n",
      "\u001b[1;31mKeyError\u001b[0m: 'SeatBelt_Sentiment'"
     ]
    }
   ],
   "source": [
    "print(df['SeatBelt_Sentiment'])"
   ]
  },
  {
   "cell_type": "code",
   "execution_count": null,
   "id": "d24e3ecc",
   "metadata": {},
   "outputs": [],
   "source": [
    "df.dropna()"
   ]
  },
  {
   "cell_type": "code",
   "execution_count": null,
   "id": "0303da82",
   "metadata": {},
   "outputs": [],
   "source": []
  },
  {
   "cell_type": "code",
   "execution_count": null,
   "id": "d0b9407b",
   "metadata": {},
   "outputs": [],
   "source": []
  },
  {
   "cell_type": "code",
   "execution_count": null,
   "id": "ce0f175c",
   "metadata": {},
   "outputs": [],
   "source": []
  },
  {
   "cell_type": "code",
   "execution_count": null,
   "id": "43467759",
   "metadata": {},
   "outputs": [],
   "source": []
  },
  {
   "cell_type": "code",
   "execution_count": null,
   "id": "f1cc5ff8",
   "metadata": {},
   "outputs": [],
   "source": [
    "def analyze_seat_belt_sentiment(text):\n",
    "    # Convert the text to lowercase for easier matching\n",
    "    text = text.lower()\n",
    "    \n",
    "    # Assign sentiment based on the content of the text\n",
    "    if \"in use\" in text or \"All car drivers\" in text:\n",
    "        return \"Positive\"\n",
    "    elif \"not in use\" in text or \"unknown\" in text or \"not stated\" in text:\n",
    "        return \"Negative\"\n",
    "    else:\n",
    "        return \"Neutral\"\n",
    "df['SeatBelt_Sentiment'] = df['Seat Belt'].apply(analyze_seat_belt_sentiment)\n",
    "(df.head())"
   ]
  },
  {
   "cell_type": "code",
   "execution_count": null,
   "id": "ea43ae60",
   "metadata": {},
   "outputs": [],
   "source": []
  },
  {
   "cell_type": "code",
   "execution_count": null,
   "id": "f426171d",
   "metadata": {},
   "outputs": [],
   "source": []
  },
  {
   "cell_type": "code",
   "execution_count": null,
   "id": "bb7fc18f",
   "metadata": {},
   "outputs": [],
   "source": []
  },
  {
   "cell_type": "code",
   "execution_count": null,
   "id": "31fb4098",
   "metadata": {},
   "outputs": [],
   "source": []
  },
  {
   "cell_type": "code",
   "execution_count": 47,
   "id": "73f9ef77",
   "metadata": {},
   "outputs": [
    {
     "ename": "SyntaxError",
     "evalue": "(unicode error) 'unicodeescape' codec can't decode bytes in position 21-26: truncated \\UXXXXXXXX escape (3003523916.py, line 1)",
     "output_type": "error",
     "traceback": [
      "\u001b[1;36m  Cell \u001b[1;32mIn[47], line 1\u001b[1;36m\u001b[0m\n\u001b[1;33m    print(\" \\U0001F60A\\U0001F44B\\U0023\\UFE0F\\U20E3\")\u001b[0m\n\u001b[1;37m                                                   ^\u001b[0m\n\u001b[1;31mSyntaxError\u001b[0m\u001b[1;31m:\u001b[0m (unicode error) 'unicodeescape' codec can't decode bytes in position 21-26: truncated \\UXXXXXXXX escape\n"
     ]
    }
   ],
   "source": [
    "print(\" \\U0001F60A\\U0001F44B\\U0023\\UFE0F\\U20E3\")"
   ]
  },
  {
   "cell_type": "code",
   "execution_count": null,
   "id": "8563f370",
   "metadata": {},
   "outputs": [],
   "source": [
    "https://fonts.gstatic.com/s/e/notoemoji/15.0/1f1e6_1f1fa/32.png"
   ]
  },
  {
   "cell_type": "code",
   "execution_count": 49,
   "id": "a490a8e7",
   "metadata": {},
   "outputs": [
    {
     "name": "stdout",
     "output_type": "stream",
     "text": [
      "keycap: #\n"
     ]
    }
   ],
   "source": [
    "print(\"keycap: #\")\n"
   ]
  },
  {
   "cell_type": "code",
   "execution_count": 56,
   "id": "b05a5f07",
   "metadata": {},
   "outputs": [
    {
     "ename": "SyntaxError",
     "evalue": "(unicode error) 'unicodeescape' codec can't decode bytes in position 7-12: truncated \\UXXXXXXXX escape (242461375.py, line 1)",
     "output_type": "error",
     "traceback": [
      "\u001b[1;36m  Cell \u001b[1;32mIn[56], line 1\u001b[1;36m\u001b[0m\n\u001b[1;33m    print(\"Hello! \\U1686\")\u001b[0m\n\u001b[1;37m                         ^\u001b[0m\n\u001b[1;31mSyntaxError\u001b[0m\u001b[1;31m:\u001b[0m (unicode error) 'unicodeescape' codec can't decode bytes in position 7-12: truncated \\UXXXXXXXX escape\n"
     ]
    }
   ],
   "source": [
    "print(\"Hello! \\U1686\")"
   ]
  },
  {
   "cell_type": "code",
   "execution_count": 51,
   "id": "40f5c51f",
   "metadata": {},
   "outputs": [
    {
     "ename": "SyntaxError",
     "evalue": "invalid character '🇳' (U+1F1F3) (192471742.py, line 1)",
     "output_type": "error",
     "traceback": [
      "\u001b[1;36m  Cell \u001b[1;32mIn[51], line 1\u001b[1;36m\u001b[0m\n\u001b[1;33m    New Zealand Flag: 🇳🇿 (Regional Indicator Symbol 'N' + Regional Indicator Symbol 'Z')\u001b[0m\n\u001b[1;37m                      ^\u001b[0m\n\u001b[1;31mSyntaxError\u001b[0m\u001b[1;31m:\u001b[0m invalid character '🇳' (U+1F1F3)\n"
     ]
    }
   ],
   "source": [
    "New Zealand Flag: 🇳🇿 (Regional Indicator Symbol 'N' + Regional Indicator Symbol 'Z')"
   ]
  },
  {
   "cell_type": "code",
   "execution_count": null,
   "id": "3f859e80",
   "metadata": {},
   "outputs": [],
   "source": [
    "Ireland Flag: 🇮🇪 (Regional Indicator Symbol 'I' + Regional Indicator Symbol 'E')"
   ]
  },
  {
   "cell_type": "code",
   "execution_count": null,
   "id": "b2d5df88",
   "metadata": {},
   "outputs": [],
   "source": []
  },
  {
   "cell_type": "code",
   "execution_count": null,
   "id": "84a113e1",
   "metadata": {},
   "outputs": [],
   "source": []
  },
  {
   "cell_type": "code",
   "execution_count": null,
   "id": "df4df2ca",
   "metadata": {},
   "outputs": [],
   "source": []
  },
  {
   "cell_type": "code",
   "execution_count": null,
   "id": "4d2ce84b",
   "metadata": {},
   "outputs": [],
   "source": []
  },
  {
   "cell_type": "code",
   "execution_count": 9,
   "id": "6b3a99dc",
   "metadata": {},
   "outputs": [
    {
     "data": {
      "text/html": [
       "<div>\n",
       "<style scoped>\n",
       "    .dataframe tbody tr th:only-of-type {\n",
       "        vertical-align: middle;\n",
       "    }\n",
       "\n",
       "    .dataframe tbody tr th {\n",
       "        vertical-align: top;\n",
       "    }\n",
       "\n",
       "    .dataframe thead th {\n",
       "        text-align: right;\n",
       "    }\n",
       "</style>\n",
       "<table border=\"1\" class=\"dataframe\">\n",
       "  <thead>\n",
       "    <tr style=\"text-align: right;\">\n",
       "      <th></th>\n",
       "      <th>Year</th>\n",
       "      <th>VALUE</th>\n",
       "    </tr>\n",
       "  </thead>\n",
       "  <tbody>\n",
       "    <tr>\n",
       "      <th>count</th>\n",
       "      <td>680.000000</td>\n",
       "      <td>595.000000</td>\n",
       "    </tr>\n",
       "    <tr>\n",
       "      <th>mean</th>\n",
       "      <td>2013.000000</td>\n",
       "      <td>880.877311</td>\n",
       "    </tr>\n",
       "    <tr>\n",
       "      <th>std</th>\n",
       "      <td>4.902586</td>\n",
       "      <td>1424.144822</td>\n",
       "    </tr>\n",
       "    <tr>\n",
       "      <th>min</th>\n",
       "      <td>2005.000000</td>\n",
       "      <td>0.000000</td>\n",
       "    </tr>\n",
       "    <tr>\n",
       "      <th>25%</th>\n",
       "      <td>2009.000000</td>\n",
       "      <td>18.000000</td>\n",
       "    </tr>\n",
       "    <tr>\n",
       "      <th>50%</th>\n",
       "      <td>2013.000000</td>\n",
       "      <td>145.000000</td>\n",
       "    </tr>\n",
       "    <tr>\n",
       "      <th>75%</th>\n",
       "      <td>2017.000000</td>\n",
       "      <td>1194.000000</td>\n",
       "    </tr>\n",
       "    <tr>\n",
       "      <th>max</th>\n",
       "      <td>2021.000000</td>\n",
       "      <td>7837.000000</td>\n",
       "    </tr>\n",
       "  </tbody>\n",
       "</table>\n",
       "</div>"
      ],
      "text/plain": [
       "              Year        VALUE\n",
       "count   680.000000   595.000000\n",
       "mean   2013.000000   880.877311\n",
       "std       4.902586  1424.144822\n",
       "min    2005.000000     0.000000\n",
       "25%    2009.000000    18.000000\n",
       "50%    2013.000000   145.000000\n",
       "75%    2017.000000  1194.000000\n",
       "max    2021.000000  7837.000000"
      ]
     },
     "execution_count": 9,
     "metadata": {},
     "output_type": "execute_result"
    }
   ],
   "source": [
    "df.describe()"
   ]
  },
  {
   "cell_type": "code",
   "execution_count": null,
   "id": "e638753d",
   "metadata": {},
   "outputs": [],
   "source": [
    "# create a sample DataFrame\n",
    "df = pd.DataFrame({'categorical_variable': ['Statistic Label', 'Year', 'Seat Belt Usage', 'VALUE']})"
   ]
  },
  {
   "cell_type": "code",
   "execution_count": null,
   "id": "ef2909c4",
   "metadata": {},
   "outputs": [],
   "source": [
    "value_counts = df['categorical_variable'].value_counts()"
   ]
  },
  {
   "cell_type": "code",
   "execution_count": null,
   "id": "9cb71110",
   "metadata": {},
   "outputs": [],
   "source": [
    "print(value_counts)"
   ]
  },
  {
   "cell_type": "code",
   "execution_count": 8,
   "id": "cce6e13f",
   "metadata": {},
   "outputs": [
    {
     "name": "stdout",
     "output_type": "stream",
     "text": [
      "<class 'pandas.core.frame.DataFrame'>\n",
      "RangeIndex: 680 entries, 0 to 679\n",
      "Data columns (total 7 columns):\n",
      " #   Column              Non-Null Count  Dtype  \n",
      "---  ------              --------------  -----  \n",
      " 0   STATISTIC           680 non-null    object \n",
      " 1   Statistic Label     680 non-null    object \n",
      " 2   Year                680 non-null    int64  \n",
      " 3   Seat Belt           680 non-null    object \n",
      " 4   UNIT                680 non-null    object \n",
      " 5   VALUE               595 non-null    float64\n",
      " 6   SeatBelt_Sentiment  680 non-null    object \n",
      "dtypes: float64(1), int64(1), object(5)\n",
      "memory usage: 37.3+ KB\n",
      "None\n"
     ]
    }
   ],
   "source": [
    "# summary of the dataset: 608 rows, 8 columns, no null values\n",
    "print(df.info())"
   ]
  },
  {
   "cell_type": "code",
   "execution_count": null,
   "id": "99af0ed1",
   "metadata": {},
   "outputs": [],
   "source": [
    "#Prints the minimum value of all the elements in a\n",
    "a = np.array([df])\n",
    "print(a.min())\n",
    "print(a.max())\n",
    "print(a.sum())"
   ]
  },
  {
   "cell_type": "code",
   "execution_count": null,
   "id": "d4170cd5",
   "metadata": {},
   "outputs": [],
   "source": []
  },
  {
   "cell_type": "code",
   "execution_count": null,
   "id": "abd4b325",
   "metadata": {},
   "outputs": [],
   "source": [
    "# Mean\n",
    "numeric_data = df[\"Year\"]\n",
    "if numeric_data.dtype == 'int64' or numeric_data.dtype == 'float64':\n",
    "    mean = numeric_data.mean()\n",
    "    mean_rounded = round(mean, 2)\n",
    "    print('Mean:', mean_rounded)\n",
    "else:\n",
    "    print(\"The selected column does not contain numeric data\")\n",
    "def analyze_seat_belt_sentiment(text):\n",
    "    # Convert the text to lowercase for easier matching\n",
    "    text = text.lower()\n",
    "    \n",
    "    # Assign sentiment based on the content of the text\n",
    "    if \"in use\" in text:\n",
    "        return \"Positive\"\n",
    "    elif \"not in use\" in text or \"unknown\" in text or \"not stated\" in text:\n",
    "        return \"Negative\"\n",
    "    else:\n",
    "        return \"Neutral\"\n",
    "\n",
    "# Apply sentiment analysis function to each row in the \"Seat Belt\" column\n",
    "\n",
    "\n",
    "df['SeatBelt_Sentiment'] = df['Seat Belt'].apply(analyze_seat_belt_sentiment)\n",
    "df.head()    \n",
    " \n",
    "    \n",
    "    \n",
    "    median = home[\"National\"].median()\n",
    "print('Median:', median)"
   ]
  },
  {
   "cell_type": "code",
   "execution_count": null,
   "id": "28a35f12",
   "metadata": {},
   "outputs": [],
   "source": [
    "median = home[\"National\"].median()\n",
    "print('Median:', median)"
   ]
  },
  {
   "cell_type": "code",
   "execution_count": null,
   "id": "717dcb44",
   "metadata": {},
   "outputs": [],
   "source": [
    "def analyze_sentiment(kms_driven, owner_type):\n",
    "    # Perform sentiment analysis based on your criteria\n",
    "    # This can be a simple rule-based approach, machine learning model, or any other method\n",
    "    # For simplicity, let's assume a rule-based approach here\n",
    "    sentiment_score = 0\n",
    "    if kms_driven < 50000:\n",
    "        sentiment_score += 1\n",
    "    elif 50000 <= kms_driven < 100000:\n",
    "        sentiment_score += 0.5\n",
    "    if owner_type == \"First\":\n",
    "        sentiment_score += 1\n",
    "    elif owner_type == \"Second\":\n",
    "        sentiment_score += 0.5\n",
    "    # You can add more conditions or use a more sophisticated approach based on your requirements\n",
    "    return sentiment_score"
   ]
  },
  {
   "cell_type": "code",
   "execution_count": null,
   "id": "f8fc3aac",
   "metadata": {},
   "outputs": [],
   "source": [
    "df = df.drop(['Title', 'Positive Feedback Count', 'Unnamed: 0', ], axis=1)\n",
    "df.dropna(inplace=True)"
   ]
  },
  {
   "cell_type": "code",
   "execution_count": null,
   "id": "45b8d3df",
   "metadata": {},
   "outputs": [],
   "source": []
  },
  {
   "cell_type": "code",
   "execution_count": null,
   "id": "8e845d75",
   "metadata": {},
   "outputs": [],
   "source": []
  },
  {
   "cell_type": "code",
   "execution_count": null,
   "id": "736a3ab9",
   "metadata": {},
   "outputs": [],
   "source": [
    "# Flags Unicode sequences\n",
    "#new_zealand_flag = \"\\U0001F1F3\\U0001F1FF\"  # 🇳🇿\n",
    "#ireland_flag = \"\\U0001F1EE\\U0001F1EA\"  # 🇮🇪\n",
    "\n",
    "# Print the flags\n",
    "#print(\"Flag of New Zealand:\", new_zealand_flag)\n",
    "#print(\"Flag of Ireland:\", ireland_flag)"
   ]
  }
 ],
 "metadata": {
  "kernelspec": {
   "display_name": "Python 3 (ipykernel)",
   "language": "python",
   "name": "python3"
  },
  "language_info": {
   "codemirror_mode": {
    "name": "ipython",
    "version": 3
   },
   "file_extension": ".py",
   "mimetype": "text/x-python",
   "name": "python",
   "nbconvert_exporter": "python",
   "pygments_lexer": "ipython3",
   "version": "3.11.5"
  }
 },
 "nbformat": 4,
 "nbformat_minor": 5
}
